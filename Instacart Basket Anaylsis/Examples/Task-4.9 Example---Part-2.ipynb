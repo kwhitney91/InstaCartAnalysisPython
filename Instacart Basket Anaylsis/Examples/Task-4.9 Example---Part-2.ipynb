{
 "cells": [
  {
   "cell_type": "markdown",
   "id": "76b64c51",
   "metadata": {},
   "source": [
    "## Exercise 4.9 Part 2"
   ]
  },
  {
   "cell_type": "markdown",
   "id": "07e29451",
   "metadata": {},
   "source": [
    "### Import libraries"
   ]
  },
  {
   "cell_type": "code",
   "execution_count": 1,
   "id": "33ea6ac0",
   "metadata": {},
   "outputs": [],
   "source": [
    "import pandas as pd\n",
    "import numpy as np\n",
    "import os\n",
    "import matplotlib.pyplot as plt\n",
    "import seaborn as sns\n",
    "import scipy"
   ]
  },
  {
   "cell_type": "markdown",
   "id": "d7a0405e",
   "metadata": {},
   "source": [
    "### Load the file"
   ]
  },
  {
   "cell_type": "code",
   "execution_count": 2,
   "id": "a863a7e5",
   "metadata": {},
   "outputs": [
    {
     "data": {
      "text/html": [
       "<div><div id=b5f69447-9ccb-44bc-b288-4a3079dbb427 style=\"display:none; background-color:#9D6CFF; color:white; width:200px; height:30px; padding-left:5px; border-radius:4px; flex-direction:row; justify-content:space-around; align-items:center;\" onmouseover=\"this.style.backgroundColor='#BA9BF8'\" onmouseout=\"this.style.backgroundColor='#9D6CFF'\" onclick=\"window.commands?.execute('create-mitosheet-from-dataframe-output');\">See Full Dataframe in Mito</div> <script> if (window.commands?.hasCommand('create-mitosheet-from-dataframe-output')) document.getElementById('b5f69447-9ccb-44bc-b288-4a3079dbb427').style.display = 'flex' </script> <table border=\"1\" class=\"dataframe\">\n",
       "  <thead>\n",
       "    <tr style=\"text-align: right;\">\n",
       "      <th></th>\n",
       "      <th>order_id</th>\n",
       "      <th>user_id</th>\n",
       "      <th>order_number</th>\n",
       "      <th>orders_day_of_week</th>\n",
       "      <th>order_hour_of_day</th>\n",
       "      <th>days_since_prior_order</th>\n",
       "      <th>product_id</th>\n",
       "      <th>add_to_cart_order</th>\n",
       "      <th>reordered</th>\n",
       "      <th>product_name</th>\n",
       "      <th>...</th>\n",
       "      <th>first_name</th>\n",
       "      <th>surname</th>\n",
       "      <th>Gender</th>\n",
       "      <th>State</th>\n",
       "      <th>Age</th>\n",
       "      <th>date_joined</th>\n",
       "      <th>dependants</th>\n",
       "      <th>family_status</th>\n",
       "      <th>income</th>\n",
       "      <th>_merge</th>\n",
       "    </tr>\n",
       "  </thead>\n",
       "  <tbody>\n",
       "    <tr>\n",
       "      <th>0</th>\n",
       "      <td>2539329</td>\n",
       "      <td>1</td>\n",
       "      <td>1</td>\n",
       "      <td>2</td>\n",
       "      <td>8</td>\n",
       "      <td>0.0</td>\n",
       "      <td>196</td>\n",
       "      <td>1</td>\n",
       "      <td>0</td>\n",
       "      <td>Soda</td>\n",
       "      <td>...</td>\n",
       "      <td>Linda</td>\n",
       "      <td>Nguyen</td>\n",
       "      <td>Female</td>\n",
       "      <td>Alabama</td>\n",
       "      <td>31</td>\n",
       "      <td>2019-02-17</td>\n",
       "      <td>3</td>\n",
       "      <td>married</td>\n",
       "      <td>40423</td>\n",
       "      <td>both</td>\n",
       "    </tr>\n",
       "    <tr>\n",
       "      <th>1</th>\n",
       "      <td>2398795</td>\n",
       "      <td>1</td>\n",
       "      <td>2</td>\n",
       "      <td>3</td>\n",
       "      <td>7</td>\n",
       "      <td>15.0</td>\n",
       "      <td>196</td>\n",
       "      <td>1</td>\n",
       "      <td>1</td>\n",
       "      <td>Soda</td>\n",
       "      <td>...</td>\n",
       "      <td>Linda</td>\n",
       "      <td>Nguyen</td>\n",
       "      <td>Female</td>\n",
       "      <td>Alabama</td>\n",
       "      <td>31</td>\n",
       "      <td>2019-02-17</td>\n",
       "      <td>3</td>\n",
       "      <td>married</td>\n",
       "      <td>40423</td>\n",
       "      <td>both</td>\n",
       "    </tr>\n",
       "    <tr>\n",
       "      <th>2</th>\n",
       "      <td>473747</td>\n",
       "      <td>1</td>\n",
       "      <td>3</td>\n",
       "      <td>3</td>\n",
       "      <td>12</td>\n",
       "      <td>21.0</td>\n",
       "      <td>196</td>\n",
       "      <td>1</td>\n",
       "      <td>1</td>\n",
       "      <td>Soda</td>\n",
       "      <td>...</td>\n",
       "      <td>Linda</td>\n",
       "      <td>Nguyen</td>\n",
       "      <td>Female</td>\n",
       "      <td>Alabama</td>\n",
       "      <td>31</td>\n",
       "      <td>2019-02-17</td>\n",
       "      <td>3</td>\n",
       "      <td>married</td>\n",
       "      <td>40423</td>\n",
       "      <td>both</td>\n",
       "    </tr>\n",
       "    <tr>\n",
       "      <th>3</th>\n",
       "      <td>2254736</td>\n",
       "      <td>1</td>\n",
       "      <td>4</td>\n",
       "      <td>4</td>\n",
       "      <td>7</td>\n",
       "      <td>29.0</td>\n",
       "      <td>196</td>\n",
       "      <td>1</td>\n",
       "      <td>1</td>\n",
       "      <td>Soda</td>\n",
       "      <td>...</td>\n",
       "      <td>Linda</td>\n",
       "      <td>Nguyen</td>\n",
       "      <td>Female</td>\n",
       "      <td>Alabama</td>\n",
       "      <td>31</td>\n",
       "      <td>2019-02-17</td>\n",
       "      <td>3</td>\n",
       "      <td>married</td>\n",
       "      <td>40423</td>\n",
       "      <td>both</td>\n",
       "    </tr>\n",
       "    <tr>\n",
       "      <th>4</th>\n",
       "      <td>431534</td>\n",
       "      <td>1</td>\n",
       "      <td>5</td>\n",
       "      <td>4</td>\n",
       "      <td>15</td>\n",
       "      <td>28.0</td>\n",
       "      <td>196</td>\n",
       "      <td>1</td>\n",
       "      <td>1</td>\n",
       "      <td>Soda</td>\n",
       "      <td>...</td>\n",
       "      <td>Linda</td>\n",
       "      <td>Nguyen</td>\n",
       "      <td>Female</td>\n",
       "      <td>Alabama</td>\n",
       "      <td>31</td>\n",
       "      <td>2019-02-17</td>\n",
       "      <td>3</td>\n",
       "      <td>married</td>\n",
       "      <td>40423</td>\n",
       "      <td>both</td>\n",
       "    </tr>\n",
       "  </tbody>\n",
       "</table></div>"
      ],
      "text/plain": [
       "   order_id  user_id  order_number  orders_day_of_week  order_hour_of_day  \\\n",
       "0   2539329        1             1                   2                  8   \n",
       "1   2398795        1             2                   3                  7   \n",
       "2    473747        1             3                   3                 12   \n",
       "3   2254736        1             4                   4                  7   \n",
       "4    431534        1             5                   4                 15   \n",
       "\n",
       "   days_since_prior_order  product_id  add_to_cart_order  reordered  \\\n",
       "0                     0.0         196                  1          0   \n",
       "1                    15.0         196                  1          1   \n",
       "2                    21.0         196                  1          1   \n",
       "3                    29.0         196                  1          1   \n",
       "4                    28.0         196                  1          1   \n",
       "\n",
       "  product_name  ...  first_name  surname  Gender    State Age date_joined  \\\n",
       "0         Soda  ...       Linda   Nguyen  Female  Alabama  31  2019-02-17   \n",
       "1         Soda  ...       Linda   Nguyen  Female  Alabama  31  2019-02-17   \n",
       "2         Soda  ...       Linda   Nguyen  Female  Alabama  31  2019-02-17   \n",
       "3         Soda  ...       Linda   Nguyen  Female  Alabama  31  2019-02-17   \n",
       "4         Soda  ...       Linda   Nguyen  Female  Alabama  31  2019-02-17   \n",
       "\n",
       "   dependants family_status  income _merge  \n",
       "0           3       married   40423   both  \n",
       "1           3       married   40423   both  \n",
       "2           3       married   40423   both  \n",
       "3           3       married   40423   both  \n",
       "4           3       married   40423   both  \n",
       "\n",
       "[5 rows x 32 columns]"
      ]
     },
     "execution_count": 2,
     "metadata": {},
     "output_type": "execute_result"
    }
   ],
   "source": [
    "path = r'C:\\Users\\Jaime Andres Suarez\\Instacart Basket Analysis'\n",
    "df=pd.read_pickle(os.path.join(path,'02 Data', 'Transformed Data', 'orders_products_combined_2.pkl'))\n",
    "df.head()"
   ]
  },
  {
   "cell_type": "markdown",
   "id": "991ce594",
   "metadata": {},
   "source": [
    "## 2. Create a bar chart, a histogram, a scatterplot, and a line chart, using a sample subset for the line chart"
   ]
  },
  {
   "cell_type": "markdown",
   "id": "1b5d9d1b",
   "metadata": {},
   "source": [
    "### Subsetting the DF"
   ]
  },
  {
   "cell_type": "markdown",
   "id": "804b1e7f",
   "metadata": {},
   "source": [
    "#### Create the list with the random numbers"
   ]
  },
  {
   "cell_type": "code",
   "execution_count": 4,
   "id": "42d086c5",
   "metadata": {},
   "outputs": [],
   "source": [
    "np.random.seed(4)\n",
    "dev = np.random.rand(len(df)) <= 0.7"
   ]
  },
  {
   "cell_type": "markdown",
   "id": "e5ce686f",
   "metadata": {},
   "source": [
    "#### Create two dataframes small: 30% big: 70%."
   ]
  },
  {
   "cell_type": "code",
   "execution_count": 5,
   "id": "12b955fb",
   "metadata": {},
   "outputs": [],
   "source": [
    "big = df[dev]"
   ]
  },
  {
   "cell_type": "code",
   "execution_count": 6,
   "id": "8cbd93f7",
   "metadata": {},
   "outputs": [],
   "source": [
    "small = df[~dev]"
   ]
  },
  {
   "cell_type": "markdown",
   "id": "8fc31dc5",
   "metadata": {},
   "source": [
    "#### Check the lenghts of the two dataframes"
   ]
  },
  {
   "cell_type": "code",
   "execution_count": 9,
   "id": "63cc9ebd",
   "metadata": {},
   "outputs": [
    {
     "data": {
      "text/plain": [
       "(32404859, 32)"
      ]
     },
     "execution_count": 9,
     "metadata": {},
     "output_type": "execute_result"
    }
   ],
   "source": [
    "df.shape"
   ]
  },
  {
   "cell_type": "code",
   "execution_count": 10,
   "id": "5b92ae7d",
   "metadata": {},
   "outputs": [
    {
     "data": {
      "text/plain": [
       "9721098"
      ]
     },
     "execution_count": 10,
     "metadata": {},
     "output_type": "execute_result"
    }
   ],
   "source": [
    "len(small)"
   ]
  },
  {
   "cell_type": "code",
   "execution_count": 11,
   "id": "702d0227",
   "metadata": {},
   "outputs": [
    {
     "data": {
      "text/plain": [
       "22683761"
      ]
     },
     "execution_count": 11,
     "metadata": {},
     "output_type": "execute_result"
    }
   ],
   "source": [
    "len(big)"
   ]
  },
  {
   "cell_type": "markdown",
   "id": "7e13a70b",
   "metadata": {},
   "source": [
    "### Histogram"
   ]
  },
  {
   "cell_type": "code",
   "execution_count": 66,
   "id": "bbabdb45",
   "metadata": {},
   "outputs": [
    {
     "data": {
      "image/png": "[encoded data removed]",
      "text/plain": [
       "<Figure size 432x288 with 1 Axes>"
      ]
     },
     "metadata": {
      "needs_background": "light"
     },
     "output_type": "display_data"
    }
   ],
   "source": [
    "n,bins,patches=plt.hist(df['order_hour_of_day'], bins=24 ,color='lightgreen', edgecolor='red')\n",
    "plt.title('Frequency of hour of order')\n",
    "plt.ylabel('Frequency')\n",
    "plt.xlabel('Hour')\n",
    "plt.xticks(np.arange(0,24,1))\n",
    "patches[10].set_fc('green')\n",
    "patches[11].set_fc('green')\n",
    "patches[12].set_fc('green')\n",
    "patches[13].set_fc('green')\n",
    "patches[14].set_fc('green')\n",
    "patches[15].set_fc('green')\n",
    "# Save chart\n",
    "plt.savefig(os.path.join(path, '04 Analysis','Visualizations', 'hist_order_hour.png'))"
   ]
  },
  {
   "cell_type": "markdown",
   "id": "69f12a81",
   "metadata": {},
   "source": [
    "#### There is a higher frequency in the hours between 10:00 and 15:00"
   ]
  },
  {
   "cell_type": "markdown",
   "id": "478f930d",
   "metadata": {},
   "source": [
    "### Bar chart"
   ]
  },
  {
   "cell_type": "markdown",
   "id": "51615bf2",
   "metadata": {},
   "source": [
    "#### Group by Loyalty, count unique orders"
   ]
  },
  {
   "cell_type": "code",
   "execution_count": 151,
   "id": "dc6fb41b",
   "metadata": {},
   "outputs": [],
   "source": [
    "df_loyalty=df.groupby('loyalty_flag')['order_id'].nunique()"
   ]
  },
  {
   "cell_type": "code",
   "execution_count": 152,
   "id": "37e8499f",
   "metadata": {},
   "outputs": [],
   "source": [
    "df_loyalty=pd.DataFrame(df_loyalty).reset_index()"
   ]
  },
  {
   "cell_type": "code",
   "execution_count": 153,
   "id": "d0d65499",
   "metadata": {},
   "outputs": [
    {
     "data": {
      "text/html": [
       "<div><div id=ccd1a5d3-256a-407a-baff-fb3d65b2fd2d style=\"display:none; background-color:#9D6CFF; color:white; width:200px; height:30px; padding-left:5px; border-radius:4px; flex-direction:row; justify-content:space-around; align-items:center;\" onmouseover=\"this.style.backgroundColor='#BA9BF8'\" onmouseout=\"this.style.backgroundColor='#9D6CFF'\" onclick=\"window.commands?.execute('create-mitosheet-from-dataframe-output');\">See Full Dataframe in Mito</div> <script> if (window.commands?.hasCommand('create-mitosheet-from-dataframe-output')) document.getElementById('ccd1a5d3-256a-407a-baff-fb3d65b2fd2d').style.display = 'flex' </script> <table border=\"1\" class=\"dataframe\">\n",
       "  <thead>\n",
       "    <tr style=\"text-align: right;\">\n",
       "      <th></th>\n",
       "      <th>loyalty_flag</th>\n",
       "      <th>order_id</th>\n",
       "    </tr>\n",
       "  </thead>\n",
       "  <tbody>\n",
       "    <tr>\n",
       "      <th>0</th>\n",
       "      <td>Loyal customer</td>\n",
       "      <td>1024517</td>\n",
       "    </tr>\n",
       "    <tr>\n",
       "      <th>1</th>\n",
       "      <td>New customer</td>\n",
       "      <td>637048</td>\n",
       "    </tr>\n",
       "    <tr>\n",
       "      <th>2</th>\n",
       "      <td>Regular customer</td>\n",
       "      <td>1553120</td>\n",
       "    </tr>\n",
       "  </tbody>\n",
       "</table></div>"
      ],
      "text/plain": [
       "       loyalty_flag  order_id\n",
       "0    Loyal customer   1024517\n",
       "1      New customer    637048\n",
       "2  Regular customer   1553120"
      ]
     },
     "execution_count": 153,
     "metadata": {},
     "output_type": "execute_result"
    }
   ],
   "source": [
    "df_loyalty"
   ]
  },
  {
   "cell_type": "code",
   "execution_count": 154,
   "id": "b08bddeb",
   "metadata": {},
   "outputs": [
    {
     "data": {
      "text/plain": [
       "Index(['loyalty_flag', 'order_id'], dtype='object')"
      ]
     },
     "execution_count": 154,
     "metadata": {},
     "output_type": "execute_result"
    }
   ],
   "source": [
    "df_loyalty.columns"
   ]
  },
  {
   "cell_type": "markdown",
   "id": "847f7954",
   "metadata": {},
   "source": [
    "#### Create a function to display labels"
   ]
  },
  {
   "cell_type": "code",
   "execution_count": 169,
   "id": "2a48fa11",
   "metadata": {},
   "outputs": [],
   "source": [
    "def show_values(axs, orient=\"v\", space=.01):\n",
    "    def _single(ax):\n",
    "        if orient == \"v\":\n",
    "            for p in ax.patches:\n",
    "                _x = p.get_x() + p.get_width() / 2\n",
    "                _y = p.get_y() + p.get_height() + (p.get_height()*0.01)\n",
    "                value = '{:.1f}'.format(p.get_height())\n",
    "                ax.text(_x, _y, value, ha=\"center\") \n",
    "        elif orient == \"h\":\n",
    "            for p in ax.patches:\n",
    "                _x = p.get_x() + p.get_width() + float(space)\n",
    "                _y = p.get_y() + p.get_height() - (p.get_height()*0.5)\n",
    "                value = '{:.1f}'.format(p.get_width())\n",
    "                ax.text(_x, _y, value, ha=\"left\")\n",
    "\n",
    "    if isinstance(axs, np.ndarray):\n",
    "        for idx, ax in np.ndenumerate(axs):\n",
    "            _single(ax)\n",
    "    else:\n",
    "        _single(axs)"
   ]
  },
  {
   "cell_type": "code",
   "execution_count": 176,
   "id": "858c11d2",
   "metadata": {},
   "outputs": [
    {
     "data": {
      "image/png": "[encoded data removed]",
      "text/plain": [
       "<Figure size 432x288 with 1 Axes>"
      ]
     },
     "metadata": {
      "needs_background": "light"
     },
     "output_type": "display_data"
    }
   ],
   "source": [
    "fig=sns.barplot(data=df_loyalty,x='loyalty_flag',y='order_id',errwidth=0)\n",
    "fig.set(xlabel='Loyalty',ylabel='Orders',title=\"Number of orders per Loyalty status\")\n",
    "show_values(fig)\n",
    "plt.savefig(os.path.join(path, '04 Analysis','Visualizations', 'orders_per_loyalty.png'))\n"
   ]
  },
  {
   "cell_type": "markdown",
   "id": "99c738bb",
   "metadata": {},
   "source": [
    "#### Most of the orders are made by Regular customers, followed by Loyal customers and lastly by New customers"
   ]
  },
  {
   "cell_type": "markdown",
   "id": "bfa7c921",
   "metadata": {},
   "source": [
    "### Scatterplot"
   ]
  },
  {
   "cell_type": "markdown",
   "id": "37722895",
   "metadata": {},
   "source": [
    "#### Group the columns"
   ]
  },
  {
   "cell_type": "code",
   "execution_count": 112,
   "id": "93cda8ce",
   "metadata": {},
   "outputs": [],
   "source": [
    "df2=df.groupby('user_id').agg({'Age':['mean'],'income':['mean']})"
   ]
  },
  {
   "cell_type": "code",
   "execution_count": 75,
   "id": "0f4afad4",
   "metadata": {},
   "outputs": [
    {
     "data": {
      "text/html": [
       "<div><div id=89fb1f63-1b6f-4998-9484-d9567405c897 style=\"display:none; background-color:#9D6CFF; color:white; width:200px; height:30px; padding-left:5px; border-radius:4px; flex-direction:row; justify-content:space-around; align-items:center;\" onmouseover=\"this.style.backgroundColor='#BA9BF8'\" onmouseout=\"this.style.backgroundColor='#9D6CFF'\" onclick=\"window.commands?.execute('create-mitosheet-from-dataframe-output');\">See Full Dataframe in Mito</div> <script> if (window.commands?.hasCommand('create-mitosheet-from-dataframe-output')) document.getElementById('89fb1f63-1b6f-4998-9484-d9567405c897').style.display = 'flex' </script> <table border=\"1\" class=\"dataframe\">\n",
       "  <thead>\n",
       "    <tr>\n",
       "      <th></th>\n",
       "      <th>Age</th>\n",
       "      <th>income</th>\n",
       "    </tr>\n",
       "    <tr>\n",
       "      <th></th>\n",
       "      <th>mean</th>\n",
       "      <th>mean</th>\n",
       "    </tr>\n",
       "    <tr>\n",
       "      <th>user_id</th>\n",
       "      <th></th>\n",
       "      <th></th>\n",
       "    </tr>\n",
       "  </thead>\n",
       "  <tbody>\n",
       "    <tr>\n",
       "      <th>1</th>\n",
       "      <td>31</td>\n",
       "      <td>40423</td>\n",
       "    </tr>\n",
       "    <tr>\n",
       "      <th>2</th>\n",
       "      <td>68</td>\n",
       "      <td>64940</td>\n",
       "    </tr>\n",
       "    <tr>\n",
       "      <th>3</th>\n",
       "      <td>33</td>\n",
       "      <td>93240</td>\n",
       "    </tr>\n",
       "    <tr>\n",
       "      <th>4</th>\n",
       "      <td>31</td>\n",
       "      <td>45435</td>\n",
       "    </tr>\n",
       "    <tr>\n",
       "      <th>5</th>\n",
       "      <td>75</td>\n",
       "      <td>115242</td>\n",
       "    </tr>\n",
       "    <tr>\n",
       "      <th>...</th>\n",
       "      <td>...</td>\n",
       "      <td>...</td>\n",
       "    </tr>\n",
       "    <tr>\n",
       "      <th>206205</th>\n",
       "      <td>38</td>\n",
       "      <td>99402</td>\n",
       "    </tr>\n",
       "    <tr>\n",
       "      <th>206206</th>\n",
       "      <td>25</td>\n",
       "      <td>75041</td>\n",
       "    </tr>\n",
       "    <tr>\n",
       "      <th>206207</th>\n",
       "      <td>76</td>\n",
       "      <td>110135</td>\n",
       "    </tr>\n",
       "    <tr>\n",
       "      <th>206208</th>\n",
       "      <td>64</td>\n",
       "      <td>156838</td>\n",
       "    </tr>\n",
       "    <tr>\n",
       "      <th>206209</th>\n",
       "      <td>74</td>\n",
       "      <td>137969</td>\n",
       "    </tr>\n",
       "  </tbody>\n",
       "</table></div>"
      ],
      "text/plain": [
       "         Age  income\n",
       "        mean    mean\n",
       "user_id             \n",
       "1         31   40423\n",
       "2         68   64940\n",
       "3         33   93240\n",
       "4         31   45435\n",
       "5         75  115242\n",
       "...      ...     ...\n",
       "206205    38   99402\n",
       "206206    25   75041\n",
       "206207    76  110135\n",
       "206208    64  156838\n",
       "206209    74  137969\n",
       "\n",
       "[206209 rows x 2 columns]"
      ]
     },
     "execution_count": 75,
     "metadata": {},
     "output_type": "execute_result"
    }
   ],
   "source": [
    "df2"
   ]
  },
  {
   "cell_type": "markdown",
   "id": "3fe1dc6e",
   "metadata": {},
   "source": [
    "#### Create the scatterplot"
   ]
  },
  {
   "cell_type": "code",
   "execution_count": 121,
   "id": "64641bc4",
   "metadata": {},
   "outputs": [
    {
     "data": {
      "image/png": "[encoded data removed]",
      "text/plain": [
       "<Figure size 432x288 with 1 Axes>"
      ]
     },
     "metadata": {
      "needs_background": "light"
     },
     "output_type": "display_data"
    }
   ],
   "source": [
    "fig=sns.scatterplot(x=('Age', 'mean'),y=('income', 'mean'),data=df2)\n",
    "fig.set(xlabel='Age',ylabel='Income',title=\"Age Vs Income\")\n",
    "plt.savefig(os.path.join(path, '04 Analysis','Visualizations', 'age_vs_income.png'))"
   ]
  },
  {
   "cell_type": "markdown",
   "id": "38935fb9",
   "metadata": {},
   "source": [
    "#### There is no relationship between Age and Income"
   ]
  },
  {
   "cell_type": "markdown",
   "id": "aeb54e88",
   "metadata": {},
   "source": [
    "### Line chart"
   ]
  },
  {
   "cell_type": "code",
   "execution_count": 124,
   "id": "b2442a54",
   "metadata": {},
   "outputs": [
    {
     "data": {
      "image/png": "[encoded data removed]",
      "text/plain": [
       "<Figure size 432x288 with 1 Axes>"
      ]
     },
     "metadata": {
      "needs_background": "light"
     },
     "output_type": "display_data"
    }
   ],
   "source": [
    "line=sns.lineplot(data=small,x='order_hour_of_day',y='prices')\n",
    "line.set(xlabel='Hour of order',ylabel='Expenditure',title=\"Expenditure during the day\")\n",
    "plt.savefig(os.path.join(path, '04 Analysis','Visualizations', 'prices_hours.png'))"
   ]
  },
  {
   "cell_type": "code",
   "execution_count": 180,
   "id": "1bbff44d",
   "metadata": {},
   "outputs": [],
   "source": [
    "df_expenditure=df.groupby('order_hour_of_day')['prices'].sum()"
   ]
  },
  {
   "cell_type": "code",
   "execution_count": 182,
   "id": "7a6122c4",
   "metadata": {},
   "outputs": [],
   "source": [
    "df_expenditure=pd.DataFrame(df_expenditure).reset_index()"
   ]
  },
  {
   "cell_type": "code",
   "execution_count": 195,
   "id": "e9664973",
   "metadata": {},
   "outputs": [
    {
     "data": {
      "text/html": [
       "<div><div id=82cb9dab-086d-4b8e-8f7f-e363b6fd30d3 style=\"display:none; background-color:#9D6CFF; color:white; width:200px; height:30px; padding-left:5px; border-radius:4px; flex-direction:row; justify-content:space-around; align-items:center;\" onmouseover=\"this.style.backgroundColor='#BA9BF8'\" onmouseout=\"this.style.backgroundColor='#9D6CFF'\" onclick=\"window.commands?.execute('create-mitosheet-from-dataframe-output');\">See Full Dataframe in Mito</div> <script> if (window.commands?.hasCommand('create-mitosheet-from-dataframe-output')) document.getElementById('82cb9dab-086d-4b8e-8f7f-e363b6fd30d3').style.display = 'flex' </script> <table border=\"1\" class=\"dataframe\">\n",
       "  <thead>\n",
       "    <tr style=\"text-align: right;\">\n",
       "      <th></th>\n",
       "      <th>order_hour_of_day</th>\n",
       "      <th>prices</th>\n",
       "    </tr>\n",
       "  </thead>\n",
       "  <tbody>\n",
       "    <tr>\n",
       "      <th>0</th>\n",
       "      <td>0</td>\n",
       "      <td>1.708627e+06</td>\n",
       "    </tr>\n",
       "    <tr>\n",
       "      <th>1</th>\n",
       "      <td>1</td>\n",
       "      <td>9.029875e+05</td>\n",
       "    </tr>\n",
       "    <tr>\n",
       "      <th>2</th>\n",
       "      <td>2</td>\n",
       "      <td>5.409533e+05</td>\n",
       "    </tr>\n",
       "    <tr>\n",
       "      <th>3</th>\n",
       "      <td>3</td>\n",
       "      <td>4.013311e+05</td>\n",
       "    </tr>\n",
       "    <tr>\n",
       "      <th>4</th>\n",
       "      <td>4</td>\n",
       "      <td>4.172650e+05</td>\n",
       "    </tr>\n",
       "    <tr>\n",
       "      <th>...</th>\n",
       "      <td>...</td>\n",
       "      <td>...</td>\n",
       "    </tr>\n",
       "    <tr>\n",
       "      <th>19</th>\n",
       "      <td>19</td>\n",
       "      <td>9.805649e+06</td>\n",
       "    </tr>\n",
       "    <tr>\n",
       "      <th>20</th>\n",
       "      <td>20</td>\n",
       "      <td>7.613150e+06</td>\n",
       "    </tr>\n",
       "    <tr>\n",
       "      <th>21</th>\n",
       "      <td>21</td>\n",
       "      <td>6.209528e+06</td>\n",
       "    </tr>\n",
       "    <tr>\n",
       "      <th>22</th>\n",
       "      <td>22</td>\n",
       "      <td>4.957118e+06</td>\n",
       "    </tr>\n",
       "    <tr>\n",
       "      <th>23</th>\n",
       "      <td>23</td>\n",
       "      <td>3.136697e+06</td>\n",
       "    </tr>\n",
       "  </tbody>\n",
       "</table></div>"
      ],
      "text/plain": [
       "    order_hour_of_day        prices\n",
       "0                   0  1.708627e+06\n",
       "1                   1  9.029875e+05\n",
       "2                   2  5.409533e+05\n",
       "3                   3  4.013311e+05\n",
       "4                   4  4.172650e+05\n",
       "5                   5  6.884399e+05\n",
       "6                   6  2.270681e+06\n",
       "7                   7  6.967056e+06\n",
       "8                   8  1.338303e+07\n",
       "9                   9  1.902601e+07\n",
       "10                 10  2.140000e+07\n",
       "11                 11  2.126192e+07\n",
       "12                 12  2.039299e+07\n",
       "13                 13  2.073493e+07\n",
       "14                 14  2.097967e+07\n",
       "15                 15  2.077724e+07\n",
       "16                 16  1.977786e+07\n",
       "17                 17  1.629434e+07\n",
       "18                 18  1.277865e+07\n",
       "19                 19  9.805649e+06\n",
       "20                 20  7.613150e+06\n",
       "21                 21  6.209528e+06\n",
       "22                 22  4.957118e+06\n",
       "23                 23  3.136697e+06"
      ]
     },
     "execution_count": 195,
     "metadata": {},
     "output_type": "execute_result"
    }
   ],
   "source": [
    "df_expenditure"
   ]
  },
  {
   "cell_type": "code",
   "execution_count": 196,
   "id": "f9e6db76",
   "metadata": {},
   "outputs": [
    {
     "data": {
      "text/html": [
       "<div><div id=d993e8ad-be1f-43db-b325-cd617fdd4dd0 style=\"display:none; background-color:#9D6CFF; color:white; width:200px; height:30px; padding-left:5px; border-radius:4px; flex-direction:row; justify-content:space-around; align-items:center;\" onmouseover=\"this.style.backgroundColor='#BA9BF8'\" onmouseout=\"this.style.backgroundColor='#9D6CFF'\" onclick=\"window.commands?.execute('create-mitosheet-from-dataframe-output');\">See Full Dataframe in Mito</div> <script> if (window.commands?.hasCommand('create-mitosheet-from-dataframe-output')) document.getElementById('d993e8ad-be1f-43db-b325-cd617fdd4dd0').style.display = 'flex' </script> <table border=\"1\" class=\"dataframe\">\n",
       "  <thead>\n",
       "    <tr style=\"text-align: right;\">\n",
       "      <th></th>\n",
       "      <th>order_hour_of_day</th>\n",
       "      <th>prices</th>\n",
       "    </tr>\n",
       "  </thead>\n",
       "  <tbody>\n",
       "    <tr>\n",
       "      <th>10</th>\n",
       "      <td>10</td>\n",
       "      <td>2.140000e+07</td>\n",
       "    </tr>\n",
       "    <tr>\n",
       "      <th>11</th>\n",
       "      <td>11</td>\n",
       "      <td>2.126192e+07</td>\n",
       "    </tr>\n",
       "    <tr>\n",
       "      <th>14</th>\n",
       "      <td>14</td>\n",
       "      <td>2.097967e+07</td>\n",
       "    </tr>\n",
       "    <tr>\n",
       "      <th>15</th>\n",
       "      <td>15</td>\n",
       "      <td>2.077724e+07</td>\n",
       "    </tr>\n",
       "    <tr>\n",
       "      <th>13</th>\n",
       "      <td>13</td>\n",
       "      <td>2.073493e+07</td>\n",
       "    </tr>\n",
       "    <tr>\n",
       "      <th>...</th>\n",
       "      <td>...</td>\n",
       "      <td>...</td>\n",
       "    </tr>\n",
       "    <tr>\n",
       "      <th>1</th>\n",
       "      <td>1</td>\n",
       "      <td>9.029875e+05</td>\n",
       "    </tr>\n",
       "    <tr>\n",
       "      <th>5</th>\n",
       "      <td>5</td>\n",
       "      <td>6.884399e+05</td>\n",
       "    </tr>\n",
       "    <tr>\n",
       "      <th>2</th>\n",
       "      <td>2</td>\n",
       "      <td>5.409533e+05</td>\n",
       "    </tr>\n",
       "    <tr>\n",
       "      <th>4</th>\n",
       "      <td>4</td>\n",
       "      <td>4.172650e+05</td>\n",
       "    </tr>\n",
       "    <tr>\n",
       "      <th>3</th>\n",
       "      <td>3</td>\n",
       "      <td>4.013311e+05</td>\n",
       "    </tr>\n",
       "  </tbody>\n",
       "</table></div>"
      ],
      "text/plain": [
       "    order_hour_of_day        prices\n",
       "10                 10  2.140000e+07\n",
       "11                 11  2.126192e+07\n",
       "14                 14  2.097967e+07\n",
       "15                 15  2.077724e+07\n",
       "13                 13  2.073493e+07\n",
       "12                 12  2.039299e+07\n",
       "16                 16  1.977786e+07\n",
       "9                   9  1.902601e+07\n",
       "17                 17  1.629434e+07\n",
       "8                   8  1.338303e+07\n",
       "18                 18  1.277865e+07\n",
       "19                 19  9.805649e+06\n",
       "20                 20  7.613150e+06\n",
       "7                   7  6.967056e+06\n",
       "21                 21  6.209528e+06\n",
       "22                 22  4.957118e+06\n",
       "23                 23  3.136697e+06\n",
       "6                   6  2.270681e+06\n",
       "0                   0  1.708627e+06\n",
       "1                   1  9.029875e+05\n",
       "5                   5  6.884399e+05\n",
       "2                   2  5.409533e+05\n",
       "4                   4  4.172650e+05\n",
       "3                   3  4.013311e+05"
      ]
     },
     "execution_count": 196,
     "metadata": {},
     "output_type": "execute_result"
    }
   ],
   "source": [
    "df_expenditure.sort_values(('prices'),ascending=False)"
   ]
  },
  {
   "cell_type": "code",
   "execution_count": 193,
   "id": "8ac626d5",
   "metadata": {},
   "outputs": [
    {
     "data": {
      "image/png": "[encoded data removed]",
      "text/plain": [
       "<Figure size 432x288 with 1 Axes>"
      ]
     },
     "metadata": {
      "needs_background": "light"
     },
     "output_type": "display_data"
    }
   ],
   "source": [
    "line=sns.lineplot(data=df_expenditure,x='order_hour_of_day',y='prices')\n",
    "line.set(xlabel='Hour of order',ylabel='Expenditure',title=\"Expenditure during the day\")\n",
    "plt.savefig(os.path.join(path, '04 Analysis','Visualizations', 'expenditure_hours.png'))"
   ]
  },
  {
   "cell_type": "markdown",
   "id": "bcaf639a",
   "metadata": {},
   "source": [
    "#### The peak hours are between 10:00 and 15:00"
   ]
  },
  {
   "cell_type": "code",
   "execution_count": null,
   "id": "fc1498a6",
   "metadata": {},
   "outputs": [],
   "source": []
  }
 ],
 "metadata": {
  "kernelspec": {
   "display_name": "Python 3 (ipykernel)",
   "language": "python",
   "name": "python3"
  },
  "language_info": {
   "codemirror_mode": {
    "name": "ipython",
    "version": 3
   },
   "file_extension": ".py",
   "mimetype": "text/x-python",
   "name": "python",
   "nbconvert_exporter": "python",
   "pygments_lexer": "ipython3",
   "version": "3.11.4"
  }
 },
 "nbformat": 4,
 "nbformat_minor": 5
}
