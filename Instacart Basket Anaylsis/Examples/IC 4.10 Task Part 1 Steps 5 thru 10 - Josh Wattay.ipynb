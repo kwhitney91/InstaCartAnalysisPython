{
 "cells": [
  {
   "cell_type": "markdown",
   "id": "fb431903-2cca-41d2-ab12-47c4c6055adb",
   "metadata": {},
   "source": [
    "# IC 4.10 Task Part 1 Steps 5 through 10"
   ]
  },
  {
   "cell_type": "markdown",
   "id": "96fba90f-b11e-41a2-8cdf-92f30eb0837f",
   "metadata": {},
   "source": [
    "## This script contains the following contents:\n",
    "\n",
    "### Step 5 - Create a profiling variable\n",
    "### Step 6 - Create visualization to show distribution of profiles\n",
    "### Step 7 - Aggregate the max, mean, and min variables on a customer-profile level for usage and frequency expenditure\n",
    "### Step 8 - Compare profiles with regions and departments and identify any links\n",
    "### Step 9 - Produce suitable charts\n",
    "### Step 10 - Finalize script and export final data set"
   ]
  },
  {
   "cell_type": "code",
   "execution_count": 1,
   "id": "408e73fb-09a0-4954-90d9-c40d5c4348a7",
   "metadata": {},
   "outputs": [],
   "source": [
    "# Import Libraries\n",
    "\n",
    "import os\n",
    "import pandas as pd\n",
    "import numpy as np\n",
    "import matplotlib.pyplot as plt\n",
    "import seaborn as sns\n",
    "import scipy\n",
    "import matplotlib.colors as mcolors\n",
    "from matplotlib.patches import Rectangle"
   ]
  },
  {
   "cell_type": "code",
   "execution_count": 2,
   "id": "5db2726f-78ae-408c-b62e-1a866f94cc22",
   "metadata": {},
   "outputs": [],
   "source": [
    "# Set Path\n",
    "\n",
    "path = r'C:\\Users\\Josh Wattay\\anaconda3\\Instacart Basket Analysis'"
   ]
  },
  {
   "cell_type": "code",
   "execution_count": 3,
   "id": "4ef0d7f0-1968-41c6-aca9-bf85fb16ba79",
   "metadata": {},
   "outputs": [],
   "source": [
    "# Import Data\n",
    "\n",
    "insta_no_low_activity = pd.read_pickle(os.path.join(path, '02 Data', 'Prepared Data', 'insta_no_low_activity.pkl'))"
   ]
  },
  {
   "cell_type": "markdown",
   "id": "886e6c26-b8e5-4b6a-b824-6377f4e4dce7",
   "metadata": {},
   "source": [
    "## Step 5 - Create a profiling variable"
   ]
  },
  {
   "cell_type": "code",
   "execution_count": 4,
   "id": "de3305fd-798c-41bf-859a-0b8a08400016",
   "metadata": {},
   "outputs": [],
   "source": [
    "# Create subset sample of data\n",
    "\n",
    "profile_categories = ['user_id', 'order_number', 'orders_day_of_week',\n",
    "       'orders_time_of_day', 'days_since_prior_order', 'product_id', 'product_name',\n",
    "       'add_to_cart_order', 'department_id', 'prices', 'price_range_loc', \n",
    "       'busiest_days', 'busiest_period_of_day', 'max_order', 'loyalty_flag',\n",
    "       'average_purchase_cost', 'spending_flag', 'median_days_btwn_orders',\n",
    "       'order_frequency_flag', 'Gender', 'State', 'Region', 'Age', 'date_joined',\n",
    "       'n_dependants', 'marital_status', 'income']"
   ]
  },
  {
   "cell_type": "code",
   "execution_count": 5,
   "id": "2a9c4fde-6e50-4d98-9ac6-7f3bcc18449d",
   "metadata": {},
   "outputs": [],
   "source": [
    "profile_sample_subset = insta_no_low_activity[profile_categories]"
   ]
  },
  {
   "cell_type": "code",
   "execution_count": 6,
   "id": "dfb107ac-fd83-406e-a60d-52427810d011",
   "metadata": {},
   "outputs": [
    {
     "data": {
      "text/html": [
       "<div>\n",
       "<style scoped>\n",
       "    .dataframe tbody tr th:only-of-type {\n",
       "        vertical-align: middle;\n",
       "    }\n",
       "\n",
       "    .dataframe tbody tr th {\n",
       "        vertical-align: top;\n",
       "    }\n",
       "\n",
       "    .dataframe thead th {\n",
       "        text-align: right;\n",
       "    }\n",
       "</style>\n",
       "<table border=\"1\" class=\"dataframe\">\n",
       "  <thead>\n",
       "    <tr style=\"text-align: right;\">\n",
       "      <th></th>\n",
       "      <th>user_id</th>\n",
       "      <th>order_number</th>\n",
       "      <th>orders_day_of_week</th>\n",
       "      <th>orders_time_of_day</th>\n",
       "      <th>days_since_prior_order</th>\n",
       "      <th>product_id</th>\n",
       "      <th>product_name</th>\n",
       "      <th>add_to_cart_order</th>\n",
       "      <th>department_id</th>\n",
       "      <th>prices</th>\n",
       "      <th>...</th>\n",
       "      <th>median_days_btwn_orders</th>\n",
       "      <th>order_frequency_flag</th>\n",
       "      <th>Gender</th>\n",
       "      <th>State</th>\n",
       "      <th>Region</th>\n",
       "      <th>Age</th>\n",
       "      <th>date_joined</th>\n",
       "      <th>n_dependants</th>\n",
       "      <th>marital_status</th>\n",
       "      <th>income</th>\n",
       "    </tr>\n",
       "  </thead>\n",
       "  <tbody>\n",
       "    <tr>\n",
       "      <th>0</th>\n",
       "      <td>1</td>\n",
       "      <td>1</td>\n",
       "      <td>2</td>\n",
       "      <td>8</td>\n",
       "      <td>NaN</td>\n",
       "      <td>196</td>\n",
       "      <td>Soda</td>\n",
       "      <td>1</td>\n",
       "      <td>7</td>\n",
       "      <td>9.0</td>\n",
       "      <td>...</td>\n",
       "      <td>20.5</td>\n",
       "      <td>Non-frequent customer</td>\n",
       "      <td>Female</td>\n",
       "      <td>Alabama</td>\n",
       "      <td>South</td>\n",
       "      <td>31</td>\n",
       "      <td>2/17/2019</td>\n",
       "      <td>3</td>\n",
       "      <td>married</td>\n",
       "      <td>40423</td>\n",
       "    </tr>\n",
       "    <tr>\n",
       "      <th>1</th>\n",
       "      <td>1</td>\n",
       "      <td>2</td>\n",
       "      <td>3</td>\n",
       "      <td>7</td>\n",
       "      <td>15.0</td>\n",
       "      <td>196</td>\n",
       "      <td>Soda</td>\n",
       "      <td>1</td>\n",
       "      <td>7</td>\n",
       "      <td>9.0</td>\n",
       "      <td>...</td>\n",
       "      <td>20.5</td>\n",
       "      <td>Non-frequent customer</td>\n",
       "      <td>Female</td>\n",
       "      <td>Alabama</td>\n",
       "      <td>South</td>\n",
       "      <td>31</td>\n",
       "      <td>2/17/2019</td>\n",
       "      <td>3</td>\n",
       "      <td>married</td>\n",
       "      <td>40423</td>\n",
       "    </tr>\n",
       "    <tr>\n",
       "      <th>2</th>\n",
       "      <td>1</td>\n",
       "      <td>3</td>\n",
       "      <td>3</td>\n",
       "      <td>12</td>\n",
       "      <td>21.0</td>\n",
       "      <td>196</td>\n",
       "      <td>Soda</td>\n",
       "      <td>1</td>\n",
       "      <td>7</td>\n",
       "      <td>9.0</td>\n",
       "      <td>...</td>\n",
       "      <td>20.5</td>\n",
       "      <td>Non-frequent customer</td>\n",
       "      <td>Female</td>\n",
       "      <td>Alabama</td>\n",
       "      <td>South</td>\n",
       "      <td>31</td>\n",
       "      <td>2/17/2019</td>\n",
       "      <td>3</td>\n",
       "      <td>married</td>\n",
       "      <td>40423</td>\n",
       "    </tr>\n",
       "    <tr>\n",
       "      <th>3</th>\n",
       "      <td>1</td>\n",
       "      <td>4</td>\n",
       "      <td>4</td>\n",
       "      <td>7</td>\n",
       "      <td>29.0</td>\n",
       "      <td>196</td>\n",
       "      <td>Soda</td>\n",
       "      <td>1</td>\n",
       "      <td>7</td>\n",
       "      <td>9.0</td>\n",
       "      <td>...</td>\n",
       "      <td>20.5</td>\n",
       "      <td>Non-frequent customer</td>\n",
       "      <td>Female</td>\n",
       "      <td>Alabama</td>\n",
       "      <td>South</td>\n",
       "      <td>31</td>\n",
       "      <td>2/17/2019</td>\n",
       "      <td>3</td>\n",
       "      <td>married</td>\n",
       "      <td>40423</td>\n",
       "    </tr>\n",
       "    <tr>\n",
       "      <th>4</th>\n",
       "      <td>1</td>\n",
       "      <td>5</td>\n",
       "      <td>4</td>\n",
       "      <td>15</td>\n",
       "      <td>28.0</td>\n",
       "      <td>196</td>\n",
       "      <td>Soda</td>\n",
       "      <td>1</td>\n",
       "      <td>7</td>\n",
       "      <td>9.0</td>\n",
       "      <td>...</td>\n",
       "      <td>20.5</td>\n",
       "      <td>Non-frequent customer</td>\n",
       "      <td>Female</td>\n",
       "      <td>Alabama</td>\n",
       "      <td>South</td>\n",
       "      <td>31</td>\n",
       "      <td>2/17/2019</td>\n",
       "      <td>3</td>\n",
       "      <td>married</td>\n",
       "      <td>40423</td>\n",
       "    </tr>\n",
       "  </tbody>\n",
       "</table>\n",
       "<p>5 rows × 27 columns</p>\n",
       "</div>"
      ],
      "text/plain": [
       "   user_id  order_number  orders_day_of_week  orders_time_of_day  \\\n",
       "0        1             1                   2                   8   \n",
       "1        1             2                   3                   7   \n",
       "2        1             3                   3                  12   \n",
       "3        1             4                   4                   7   \n",
       "4        1             5                   4                  15   \n",
       "\n",
       "   days_since_prior_order  product_id product_name  add_to_cart_order  \\\n",
       "0                     NaN         196         Soda                  1   \n",
       "1                    15.0         196         Soda                  1   \n",
       "2                    21.0         196         Soda                  1   \n",
       "3                    29.0         196         Soda                  1   \n",
       "4                    28.0         196         Soda                  1   \n",
       "\n",
       "   department_id  prices  ... median_days_btwn_orders   order_frequency_flag  \\\n",
       "0              7     9.0  ...                    20.5  Non-frequent customer   \n",
       "1              7     9.0  ...                    20.5  Non-frequent customer   \n",
       "2              7     9.0  ...                    20.5  Non-frequent customer   \n",
       "3              7     9.0  ...                    20.5  Non-frequent customer   \n",
       "4              7     9.0  ...                    20.5  Non-frequent customer   \n",
       "\n",
       "   Gender    State Region  Age date_joined  n_dependants marital_status income  \n",
       "0  Female  Alabama  South   31   2/17/2019             3        married  40423  \n",
       "1  Female  Alabama  South   31   2/17/2019             3        married  40423  \n",
       "2  Female  Alabama  South   31   2/17/2019             3        married  40423  \n",
       "3  Female  Alabama  South   31   2/17/2019             3        married  40423  \n",
       "4  Female  Alabama  South   31   2/17/2019             3        married  40423  \n",
       "\n",
       "[5 rows x 27 columns]"
      ]
     },
     "execution_count": 6,
     "metadata": {},
     "output_type": "execute_result"
    }
   ],
   "source": [
    "# Check output and shape\n",
    "\n",
    "profile_sample_subset.head()"
   ]
  },
  {
   "cell_type": "code",
   "execution_count": 7,
   "id": "fed67ace-81a3-4dbf-a4a0-5d808b5dad04",
   "metadata": {},
   "outputs": [
    {
     "data": {
      "text/plain": [
       "(30964564, 27)"
      ]
     },
     "execution_count": 7,
     "metadata": {},
     "output_type": "execute_result"
    }
   ],
   "source": [
    "profile_sample_subset.shape"
   ]
  },
  {
   "cell_type": "code",
   "execution_count": 8,
   "id": "4586aedc-ccf1-4541-8fe4-7d2dacef3fa2",
   "metadata": {},
   "outputs": [],
   "source": [
    "# Export Sample Subset\n",
    "\n",
    "profile_sample_subset.to_pickle(os.path.join(path, '02 Data', 'Prepared Data', 'profile_sample_subset.pkl'))"
   ]
  },
  {
   "cell_type": "code",
   "execution_count": 9,
   "id": "da076820-87f2-44d8-a57a-2244e845b882",
   "metadata": {},
   "outputs": [],
   "source": [
    "# Create random sample starting with seed and boolean list\n",
    "\n",
    "np.random.seed(4)\n",
    "df_profile_sample = np.random.rand(len(profile_sample_subset)) <= 0.7"
   ]
  },
  {
   "cell_type": "code",
   "execution_count": 10,
   "id": "3315d08d-4f1e-4435-bcd5-c2beb4007b1a",
   "metadata": {},
   "outputs": [],
   "source": [
    "# Place majority 70% of sample in dataframe\n",
    "\n",
    "big = profile_sample_subset[df_profile_sample]"
   ]
  },
  {
   "cell_type": "code",
   "execution_count": null,
   "id": "a40176df-b63b-4e0b-b3dc-111800b4546b",
   "metadata": {},
   "outputs": [],
   "source": [
    "# Place minority 30% of sample in dataframe\n",
    "\n",
    "small = profile_sample_subset[~df_profile_sample]"
   ]
  },
  {
   "cell_type": "code",
   "execution_count": null,
   "id": "cddb4fdd-fc5b-47bf-bc1f-c0ed115d5cba",
   "metadata": {},
   "outputs": [],
   "source": [
    "# Export Randomized Sample and save as pkl file\n",
    "\n",
    "small.to_pickle(os.path.join(path, '02 Data', 'Prepared Data', 'random_sample_for_profiling.pkl'))"
   ]
  },
  {
   "cell_type": "code",
   "execution_count": null,
   "id": "3aac65b8-9e79-418e-b9db-b38ebc1b3949",
   "metadata": {},
   "outputs": [],
   "source": [
    "# Check output and shape\n",
    "\n",
    "small.head()"
   ]
  },
  {
   "cell_type": "code",
   "execution_count": null,
   "id": "704f5b45-38c8-402b-ba69-3a1f85ceda18",
   "metadata": {},
   "outputs": [],
   "source": [
    "small.shape"
   ]
  },
  {
   "cell_type": "markdown",
   "id": "0c0c012f-1c37-40dd-acd4-95b7e06b44b3",
   "metadata": {},
   "source": [
    "## Step 6 - Create visualization to show distribution of profiles"
   ]
  },
  {
   "cell_type": "markdown",
   "id": "cfd276c3-d3cf-4dbd-881d-52ef171902f0",
   "metadata": {},
   "source": [
    "#### I will start by creating an 'income_tier' variable, then a 'dependants_flag', followed by an 'age_group' variable.\n",
    "#### All three will have visualizations to demonstrate the proportional distribution of each group in the data."
   ]
  },
  {
   "cell_type": "code",
   "execution_count": null,
   "id": "eacfcf22-73a6-4c42-a9d6-93a6e6c4a25d",
   "metadata": {},
   "outputs": [],
   "source": [
    "small['income'].describe()"
   ]
  },
  {
   "cell_type": "code",
   "execution_count": null,
   "id": "2ba5f1d7-1848-486a-810b-237a8f6b9301",
   "metadata": {},
   "outputs": [],
   "source": [
    "# Fix formatting to remove scientific notation\n",
    "\n",
    "pd.set_option('display.float_format', lambda x: '%.2f' % x)"
   ]
  },
  {
   "cell_type": "code",
   "execution_count": null,
   "id": "cb1ab7c1-46cf-4d4d-80a4-a7b01248539a",
   "metadata": {},
   "outputs": [],
   "source": [
    "small['income'].describe()"
   ]
  },
  {
   "cell_type": "code",
   "execution_count": null,
   "id": "bd3e3f2e-0ffe-4a38-a73d-11f442be5bd6",
   "metadata": {},
   "outputs": [],
   "source": [
    "# Define thresholds for income tiers\n",
    "\n",
    "low_income_tier_1_threshold = 30000\n",
    "low_income_tier_2_threshold = 59850\n",
    "mid_income_tier_1_threshold = 85000\n",
    "mid_income_tier_2_threshold = 100000\n",
    "high_income_tier_1_threshold = 150000\n",
    "high_income_tier_2_threshold = 200000"
   ]
  },
  {
   "cell_type": "code",
   "execution_count": null,
   "id": "f93bca10-d8a4-407a-b4b3-8113156d121d",
   "metadata": {},
   "outputs": [],
   "source": [
    "# Create Income Tier column/variable using customers' current 'income' values\n",
    "\n",
    "small['income_tier'] = pd.cut(\n",
    "    small['income'],\n",
    "    bins=[-float('inf'), low_income_tier_1_threshold, low_income_tier_2_threshold, mid_income_tier_1_threshold, mid_income_tier_2_threshold, high_income_tier_1_threshold, float('inf')],\n",
    "    labels=['Low Income Tier 1', 'Low Income Tier 2', 'Mid Income Tier 1', 'Mid Income Tier 2', 'High Income Tier 1', 'High Income Tier 2'],\n",
    "    include_lowest=True)"
   ]
  },
  {
   "cell_type": "code",
   "execution_count": null,
   "id": "e1570759-a907-4da8-8618-478a1a42e887",
   "metadata": {},
   "outputs": [],
   "source": [
    "# Check output\n",
    "\n",
    "small.head()"
   ]
  },
  {
   "cell_type": "code",
   "execution_count": null,
   "id": "1a9ebf9c-5180-42f6-8a87-e80f2e5dbc6b",
   "metadata": {},
   "outputs": [],
   "source": [
    "# Check shape\n",
    "\n",
    "small.shape"
   ]
  },
  {
   "cell_type": "code",
   "execution_count": null,
   "id": "f26ce1cf-e1f2-4f5f-a7a6-50949508e806",
   "metadata": {},
   "outputs": [],
   "source": [
    "# Check value counts\n",
    "\n",
    "small['income_tier'].value_counts()"
   ]
  },
  {
   "cell_type": "code",
   "execution_count": null,
   "id": "ab9cb8ea-7d09-42d7-87a6-fa73b3d4652b",
   "metadata": {},
   "outputs": [],
   "source": [
    "# Create Bar Chart\n",
    "\n",
    "income_tier_frequency = (small['income_tier'].value_counts(normalize=True) * 100).sort_index()\n",
    "income_tier_frequency.plot.bar(color=['green', 'lightgreen', 'lime', 'yellowgreen', 'chartreuse', 'darkgreen'])\n",
    "plt.xlabel('Income Tier')\n",
    "plt.ylabel('Percent')\n",
    "plt.title('Income Tier Ratio')"
   ]
  },
  {
   "cell_type": "code",
   "execution_count": null,
   "id": "abca9922-5b9c-488f-9c8f-7439ca1784f0",
   "metadata": {},
   "outputs": [],
   "source": [
    "# Save as figure\n",
    "\n",
    "income_tier_frequency.figure = (small['income_tier'].value_counts(normalize=True) * 100).sort_index()\n",
    "income_tier_frequency.plot.bar(color=['green', 'lightgreen', 'lime', 'yellowgreen', 'chartreuse', 'darkgreen'])\n",
    "plt.xlabel('Income Tier')\n",
    "plt.ylabel('Percent')\n",
    "plt.title('Income Tier Ratio')"
   ]
  },
  {
   "cell_type": "code",
   "execution_count": null,
   "id": "e7c8b854-d4c7-47a1-a03c-497331ca0431",
   "metadata": {},
   "outputs": [],
   "source": [
    "# Save the plot as a PNG file\n",
    "\n",
    "plt.savefig(os.path.join(path, '04 Analysis','Visualizations', 'income_tier_frequency_bar.png'))"
   ]
  },
  {
   "cell_type": "code",
   "execution_count": null,
   "id": "2760631b-72e6-4447-b23d-0dda2a3451e9",
   "metadata": {},
   "outputs": [],
   "source": [
    "# Create Pie Chart for alternative visualization\n",
    "\n",
    "plt.figure(figsize=(15, 15))  # Increase figure size\n",
    "pie_income_tier = plt.pie(income_tier_frequency, labels=income_tier_frequency.index, autopct='%1.1f%%', colors=['green', 'lightgreen', 'lime', 'yellowgreen', 'chartreuse', 'darkgreen'])\n",
    "plt.title('Income Tier Ratio')\n",
    "plt.savefig(os.path.join(path, '04 Analysis','Visualizations', 'income_tier_frequency_pie.png')) # Save figure\n",
    "plt.show()"
   ]
  },
  {
   "cell_type": "markdown",
   "id": "2353e09a-ddca-4973-a390-9866a4ef342f",
   "metadata": {},
   "source": [
    "### Our High Income Tier 1 customers make up the majority of our consumer base by a noteable margin (13% ahead of Mid Income Tier 1). \n",
    "### The High Income Tiers (1 & 2) make up 45.9% of our consumer base. \n",
    "### The Mid Income Tiers (1 & 2) make up 35.5% of our consumer base.\n",
    "### The Low Income Tiers (1 & 2) make up 18.6% of our consumer base.\n",
    "### It is imperative to explore the behaviors and spending patters of these groups, while also exploring why Instacart is attractive to High Income Tier 1 consumers."
   ]
  },
  {
   "cell_type": "markdown",
   "id": "d1f40687-0c2c-4fb5-af70-eeed2a82e474",
   "metadata": {},
   "source": [
    "Next we will create a dependants flag."
   ]
  },
  {
   "cell_type": "code",
   "execution_count": null,
   "id": "e8e0fdb0-9267-4f61-ae84-f9f7204f5157",
   "metadata": {},
   "outputs": [],
   "source": [
    "# Create flag to identify customers with dependants\n",
    "\n",
    "small['dependant_mean'] = small.groupby(['user_id'])['n_dependants'].transform('mean')"
   ]
  },
  {
   "cell_type": "code",
   "execution_count": null,
   "id": "7619d89e-d27b-4003-9916-4d4552291a1c",
   "metadata": {},
   "outputs": [],
   "source": [
    "# Set parameters for the flag\n",
    "\n",
    "small.loc[small['dependant_mean'] > 0, 'dependant_flag'] = 'With Dependants'"
   ]
  },
  {
   "cell_type": "code",
   "execution_count": null,
   "id": "db71a755-af57-4861-9ab1-50675579917d",
   "metadata": {},
   "outputs": [],
   "source": [
    "small.loc[small['dependant_mean'] <= 0, 'dependant_flag'] = 'Without Dependants'"
   ]
  },
  {
   "cell_type": "code",
   "execution_count": null,
   "id": "2eca9923-fd89-43c0-8513-687ddc7adaf6",
   "metadata": {},
   "outputs": [],
   "source": [
    "# Check output\n",
    "\n",
    "small['dependant_flag'].value_counts(dropna = False)"
   ]
  },
  {
   "cell_type": "code",
   "execution_count": null,
   "id": "e0fdf8fb-6ccc-4dad-a677-d6bb15b6db7c",
   "metadata": {},
   "outputs": [],
   "source": [
    "# Check sum to verify total records = to sample subset total records\n",
    "\n",
    "6969148 + 2319320"
   ]
  },
  {
   "cell_type": "code",
   "execution_count": null,
   "id": "465369ec-8e12-430f-b537-d77467df61dd",
   "metadata": {},
   "outputs": [],
   "source": [
    "small.shape"
   ]
  },
  {
   "cell_type": "markdown",
   "id": "c4d2800e-e5e2-43ec-b49d-8253e4abc8fe",
   "metadata": {},
   "source": [
    "Now I will create an Age Group variable to differentiate between young-adult, adult, middle-age, senior, and elderly customers."
   ]
  },
  {
   "cell_type": "code",
   "execution_count": null,
   "id": "de1e593c-cdd5-4037-a099-b5fca8ba302f",
   "metadata": {},
   "outputs": [],
   "source": [
    "# Check Age Descriptive Statistics\n",
    "\n",
    "small['Age'].describe()"
   ]
  },
  {
   "cell_type": "code",
   "execution_count": null,
   "id": "32a30a8d-1074-45bc-af77-824ed32d85c3",
   "metadata": {},
   "outputs": [],
   "source": [
    "# Create the 'age_group' column with default value as 'Unknown'\n",
    "\n",
    "small['age_group'] = 'Unknown'"
   ]
  },
  {
   "cell_type": "code",
   "execution_count": null,
   "id": "16bdb758-7533-4a98-b399-b7d889675a9d",
   "metadata": {},
   "outputs": [],
   "source": [
    "# Assign age groups based on conditions\n",
    "\n",
    "small.loc[(small['Age'] >= 18) & (small['Age'] <= 28), 'age_group'] = 'Young Adult'\n",
    "small.loc[(small['Age'] >= 29) & (small['Age'] <= 40), 'age_group'] = 'Adult'\n",
    "small.loc[(small['Age'] >= 41) & (small['Age'] <= 55), 'age_group'] = 'Middle-Aged'\n",
    "small.loc[(small['Age'] >= 56) & (small['Age'] <= 70), 'age_group'] = 'Senior'\n",
    "small.loc[(small['Age'] >= 71) & (small['Age'] <= 82), 'age_group'] = 'Elderly'"
   ]
  },
  {
   "cell_type": "code",
   "execution_count": null,
   "id": "11e80307-6a39-468f-860e-8488f4fe8d5f",
   "metadata": {},
   "outputs": [],
   "source": [
    "# Check value counts output\n",
    "\n",
    "small['age_group'].value_counts()"
   ]
  },
  {
   "cell_type": "code",
   "execution_count": null,
   "id": "bbe5a438-e37c-4244-9135-c722d40614cd",
   "metadata": {},
   "outputs": [],
   "source": [
    "# Normalize Distribution to Create Percentages for Pie Chart\n",
    "\n",
    "age_group_percent = (small['age_group'].value_counts(normalize=True) * 100).sort_index()"
   ]
  },
  {
   "cell_type": "code",
   "execution_count": null,
   "id": "bdacbe35-da72-4f10-b38d-0e7391febe46",
   "metadata": {},
   "outputs": [],
   "source": [
    "# Check output\n",
    "\n",
    "age_group_percent"
   ]
  },
  {
   "cell_type": "code",
   "execution_count": null,
   "id": "a883b379-1d87-42a6-9f31-53a3322d4cb0",
   "metadata": {},
   "outputs": [],
   "source": [
    "# Create Pie Chart \n",
    "\n",
    "age_group_pie = plt.pie(age_group_percent, labels=age_group_percent.index, autopct='%1.1f%%', colors=['aqua', '#069AF3', '#0343DF', '#00FFFF', '#029386'])\n",
    "plt.title('Age Group Ratio')\n",
    "plt.savefig(os.path.join(path, '04 Analysis', 'Visualizations', 'age_group_pie.png'))"
   ]
  },
  {
   "cell_type": "markdown",
   "id": "c70cf61f-6bf4-41cd-9757-878e32fcba7c",
   "metadata": {},
   "source": [
    "### Middle-Aged and Senior customers (ages 41-70) make up ~ 46.8% of our consumer base."
   ]
  },
  {
   "cell_type": "markdown",
   "id": "d67b4d9b-8ccc-4252-a2cb-240228e4d791",
   "metadata": {},
   "source": [
    "### Creating the Customer Profile Variable"
   ]
  },
  {
   "cell_type": "code",
   "execution_count": null,
   "id": "c7328ff7-749e-4414-92bf-ad7ff813730f",
   "metadata": {},
   "outputs": [],
   "source": [
    "# Convert data-type to string in order to allow for concatination in next step\n",
    "\n",
    "small['income_tier'] = small['income_tier'].astype(str)\n",
    "small['dependant_flag'] = small['dependant_flag'].astype(str)"
   ]
  },
  {
   "cell_type": "code",
   "execution_count": null,
   "id": "af205e66-4823-4993-bfa5-470f3082ce92",
   "metadata": {},
   "outputs": [],
   "source": [
    "# Create Customer Profile Variable by concatinating income_tier, dependant_flag, and age_group\n",
    "\n",
    "small['customer_profile'] = small['age_group'] + '_' + small['income_tier'] + '_' + small['dependant_flag']"
   ]
  },
  {
   "cell_type": "code",
   "execution_count": null,
   "id": "957706c2-9a13-4978-bc58-44c74e8266eb",
   "metadata": {},
   "outputs": [],
   "source": [
    "# Check output\n",
    "\n",
    "small.head()"
   ]
  },
  {
   "cell_type": "code",
   "execution_count": null,
   "id": "eece5680-5dfd-45bd-9e22-f350906824c2",
   "metadata": {},
   "outputs": [],
   "source": [
    "# Check Shape\n",
    "\n",
    "small.shape"
   ]
  },
  {
   "cell_type": "code",
   "execution_count": null,
   "id": "d5cbfd39-16dc-44c2-81ed-20e82bc06089",
   "metadata": {},
   "outputs": [],
   "source": [
    "# Check value counts for 'customer_profile'\n",
    "\n",
    "small['customer_profile'].value_counts()"
   ]
  },
  {
   "cell_type": "code",
   "execution_count": null,
   "id": "e43f1dbd-842f-43af-91a6-8d8cea355891",
   "metadata": {},
   "outputs": [],
   "source": [
    "# Export Sample Data Frame to preserve variables and calculations\n",
    "\n",
    "small.to_pickle(os.path.join(path, '02 Data', 'Prepared Data', 'random_sample_with_profiles.pkl'))"
   ]
  },
  {
   "cell_type": "markdown",
   "id": "aa29c069-5fc6-4695-8375-52a0d312f755",
   "metadata": {},
   "source": [
    "#### Now we will explore the newly created customer profile data."
   ]
  },
  {
   "cell_type": "code",
   "execution_count": null,
   "id": "53043f2a-d55b-4330-a77c-db3e42a2206c",
   "metadata": {},
   "outputs": [],
   "source": [
    "# Descriptive Statistics for Customer Profile\n",
    "\n",
    "small['customer_profile'].describe()"
   ]
  },
  {
   "cell_type": "code",
   "execution_count": null,
   "id": "c8e25357-e537-4aea-8f9e-519e10d8a022",
   "metadata": {},
   "outputs": [],
   "source": [
    "# Revenue by Customer Profile\n",
    "\n",
    "customer_profile_revenue = small.groupby('customer_profile')['prices'].sum()"
   ]
  },
  {
   "cell_type": "code",
   "execution_count": null,
   "id": "09609c19-52f8-415c-b422-d3e03b3e1a65",
   "metadata": {},
   "outputs": [],
   "source": [
    "# Sort values\n",
    "\n",
    "customer_profile_revenue_sorted = customer_profile_revenue.sort_values(ascending=False)"
   ]
  },
  {
   "cell_type": "code",
   "execution_count": null,
   "id": "aa0e0f5b-9e06-4130-90df-4a80a38872b5",
   "metadata": {},
   "outputs": [],
   "source": [
    "# Set colors\n",
    "\n",
    "colors = plt.cm.Blues(np.linspace(0.8, 0.3, len(customer_profile_revenue_sorted)))"
   ]
  },
  {
   "cell_type": "code",
   "execution_count": null,
   "id": "a69a32bc-7106-4114-ab22-a8db8c18de30",
   "metadata": {},
   "outputs": [],
   "source": [
    "# Set format for numerals\n",
    "\n",
    "pd.set_option('display.float_format', lambda x: '%.2f' % x)"
   ]
  },
  {
   "cell_type": "code",
   "execution_count": null,
   "id": "28297556-92c0-42b1-a33b-8bba42a0befb",
   "metadata": {},
   "outputs": [],
   "source": [
    "# Plot Horizontal Bar Chart for Revenue by Customer Profile\n",
    "\n",
    "# Set the size of the figure\n",
    "plt.figure(figsize=(14, 10))  # Adjust width and height as needed\n",
    "\n",
    "# Plot Horizontal Bar Chart for Revenue by Customer Profile\n",
    "customer_profile_revenue_bar = customer_profile_revenue_sorted.plot.barh(\n",
    "    title='Revenue by Customer Profile', xlabel='Revenue in USD', ylabel='Customer Profile', color='#06C2AC')\n",
    "\n",
    "# Format x-axis tick labels without scientific notation\n",
    "plt.ticklabel_format(style='plain', axis='x')\n",
    "\n",
    "plt.tight_layout()\n",
    "\n",
    "# Show the plot\n",
    "plt.show()"
   ]
  },
  {
   "cell_type": "code",
   "execution_count": null,
   "id": "a2bc8878-74a7-4072-be37-8938963f459e",
   "metadata": {},
   "outputs": [],
   "source": [
    "# Save Bar Chart\n",
    "\n",
    "customer_profile_revenue_bar.figure.savefig(os.path.join(path, '04 Analysis','Visualizations', 'customer_profile_revenue_bar.png'))"
   ]
  },
  {
   "cell_type": "markdown",
   "id": "fc86c555-72e3-4734-bbe9-56720ce5a201",
   "metadata": {},
   "source": [
    "#### Now that we have revenue data, it is time to determine ordering preferences based on Customer Profile."
   ]
  },
  {
   "cell_type": "code",
   "execution_count": null,
   "id": "3c299ba3-0534-4674-a155-ec23712157f7",
   "metadata": {},
   "outputs": [],
   "source": [
    "# How frequent do customer profiles order?\n",
    "\n",
    "customer_profile_order_frequency = small.groupby('customer_profile')['days_since_prior_order'].mean()"
   ]
  },
  {
   "cell_type": "code",
   "execution_count": null,
   "id": "56dbf5c2-e5df-43a5-bfc3-f144d2475ee2",
   "metadata": {},
   "outputs": [],
   "source": [
    "# Sort Values\n",
    "\n",
    "customer_profile_order_frequency_sorted = customer_profile_order_frequency.sort_values(ascending=True)"
   ]
  },
  {
   "cell_type": "code",
   "execution_count": null,
   "id": "ec1e3dc6-c77f-428d-ae3f-868ce40a0263",
   "metadata": {},
   "outputs": [],
   "source": [
    "# Set colors\n",
    "\n",
    "colors = plt.cm.Blues(np.linspace(0.3, 0.8, len(customer_profile_order_frequency_sorted)))"
   ]
  },
  {
   "cell_type": "code",
   "execution_count": null,
   "id": "b054b084-3be8-4173-a5ef-416b0adbe158",
   "metadata": {},
   "outputs": [],
   "source": [
    "# Plot Horizontal Bar Chart for Order Frequency by Customer Profile\n",
    "\n",
    "# Set the size of the figure\n",
    "plt.figure(figsize=(14, 10))  # Adjust width and height as needed\n",
    "\n",
    "# Plot Horizontal Bar Chart for Order Frequency by Customer Profile\n",
    "customer_profile_order_frequency_bar = customer_profile_order_frequency_sorted.plot.barh(\n",
    "    title='Order Frequency by Customer Profile', xlabel='Days Since Prior Order', ylabel='Customer Profile', color='#06C2AC')\n",
    "\n",
    "# Format x-axis tick labels without scientific notation\n",
    "plt.ticklabel_format(style='plain', axis='x')\n",
    "\n",
    "plt.tight_layout()\n",
    "\n",
    "# Show the plot\n",
    "plt.show()"
   ]
  },
  {
   "cell_type": "code",
   "execution_count": null,
   "id": "fc6d86bc-46d1-46b3-9e02-45c13f263c7f",
   "metadata": {},
   "outputs": [],
   "source": [
    "# Save Horizontal Bar Chart\n",
    "\n",
    "customer_profile_order_frequency_bar.figure.savefig(os.path.join(path, '04 Analysis','Visualizations', 'customer_profile_order_frequency_bar.png'))"
   ]
  },
  {
   "cell_type": "markdown",
   "id": "0ccccb0e-7bec-4b0e-81c5-16c853964c96",
   "metadata": {},
   "source": [
    "#### Now that we have frequency, what time of day do customer profiles use Instacart?"
   ]
  },
  {
   "cell_type": "code",
   "execution_count": null,
   "id": "d6939b14-be68-49bc-b366-57564be50c0c",
   "metadata": {},
   "outputs": [],
   "source": [
    "# Create new customer_profile_order_hours using .groupby and relevant columns\n",
    "\n",
    "customer_profile_order_hours = small.groupby(['customer_profile', 'orders_time_of_day']).size().unstack()"
   ]
  },
  {
   "cell_type": "code",
   "execution_count": null,
   "id": "c1ceb206-25d1-4095-9ee1-d7389903d19b",
   "metadata": {},
   "outputs": [],
   "source": [
    "# We need the most common hour for each group, or the mode, so calculate for mode.\n",
    "\n",
    "customer_profile_order_hours_mode = small.groupby('customer_profile')['orders_time_of_day'].apply(lambda x: x.mode().iloc[0])"
   ]
  },
  {
   "cell_type": "code",
   "execution_count": 1,
   "id": "170d0681-bb32-4167-9321-cc899e07fe04",
   "metadata": {
    "tags": []
   },
   "outputs": [
    {
     "ename": "NameError",
     "evalue": "name 'pd' is not defined",
     "output_type": "error",
     "traceback": [
      "\u001b[1;31m---------------------------------------------------------------------------\u001b[0m",
      "\u001b[1;31mNameError\u001b[0m                                 Traceback (most recent call last)",
      "Cell \u001b[1;32mIn[1], line 3\u001b[0m\n\u001b[0;32m      1\u001b[0m \u001b[38;5;66;03m# Now we need a dataframe to plot the information\u001b[39;00m\n\u001b[1;32m----> 3\u001b[0m mode_data_plot \u001b[38;5;241m=\u001b[39m pd\u001b[38;5;241m.\u001b[39mDataFrame({\u001b[38;5;124m'\u001b[39m\u001b[38;5;124mcustomer_profile\u001b[39m\u001b[38;5;124m'\u001b[39m: customer_profile_order_hours_mode\u001b[38;5;241m.\u001b[39mindex, \u001b[38;5;124m'\u001b[39m\u001b[38;5;124mmode_orders_time_of_day\u001b[39m\u001b[38;5;124m'\u001b[39m: customer_profile_order_hours_mode\u001b[38;5;241m.\u001b[39mvalues})\n\u001b[0;32m      5\u001b[0m \u001b[38;5;66;03m# Plot Horizontal Bar Chart\u001b[39;00m\n\u001b[0;32m      7\u001b[0m ax \u001b[38;5;241m=\u001b[39m mode_data_plot\u001b[38;5;241m.\u001b[39mplot(kind\u001b[38;5;241m=\u001b[39m\u001b[38;5;124m'\u001b[39m\u001b[38;5;124mbarh\u001b[39m\u001b[38;5;124m'\u001b[39m, x\u001b[38;5;241m=\u001b[39m\u001b[38;5;124m'\u001b[39m\u001b[38;5;124mcustomer_profile\u001b[39m\u001b[38;5;124m'\u001b[39m, y\u001b[38;5;241m=\u001b[39m\u001b[38;5;124m'\u001b[39m\u001b[38;5;124mmode_orders_time_of_day\u001b[39m\u001b[38;5;124m'\u001b[39m, color\u001b[38;5;241m=\u001b[39m\u001b[38;5;124m'\u001b[39m\u001b[38;5;124m#06C2AC\u001b[39m\u001b[38;5;124m'\u001b[39m, legend\u001b[38;5;241m=\u001b[39m\u001b[38;5;28;01mFalse\u001b[39;00m, title\u001b[38;5;241m=\u001b[39m\u001b[38;5;124m'\u001b[39m\u001b[38;5;124mMode Orders Time of Day\u001b[39m\u001b[38;5;124m'\u001b[39m, xlabel\u001b[38;5;241m=\u001b[39m\u001b[38;5;124m'\u001b[39m\u001b[38;5;124mMode Hour\u001b[39m\u001b[38;5;124m'\u001b[39m, ylabel\u001b[38;5;241m=\u001b[39m\u001b[38;5;124m'\u001b[39m\u001b[38;5;124mCustomer Profile\u001b[39m\u001b[38;5;124m'\u001b[39m, width\u001b[38;5;241m=\u001b[39m\u001b[38;5;241m0.8\u001b[39m)\n",
      "\u001b[1;31mNameError\u001b[0m: name 'pd' is not defined"
     ]
    }
   ],
   "source": [
    "# Now we need a dataframe to plot the information\n",
    "\n",
    "mode_data_plot = pd.DataFrame({'customer_profile': customer_profile_order_hours_mode.index, 'mode_orders_time_of_day': customer_profile_order_hours_mode.values})\n",
    "\n",
    "# Plot Horizontal Bar Chart\n",
    "\n",
    "ax = mode_data_plot.plot(kind='barh', x='customer_profile', y='mode_orders_time_of_day', color='#06C2AC', legend=False, title='Mode Orders Time of Day', xlabel='Mode Hour', ylabel='Customer Profile', width=0.8)\n",
    "\n",
    "# Account for Size\n",
    "fig = plt.gcf()\n",
    "fig.set_size_inches(14, 10)  # Set the desired size\n",
    "\n",
    "# Display the plot\n",
    "plt.tight_layout()\n",
    "plt.show()"
   ]
  },
  {
   "cell_type": "code",
   "execution_count": null,
   "id": "460acfd9-c554-45ff-bb2b-fca0af633897",
   "metadata": {},
   "outputs": [],
   "source": [
    "# Save as Figure\n",
    "\n",
    "customer_profile_order_hours_mode_bar = mode_data_plot.plot(kind='barh', x='customer_profile', y='mode_orders_time_of_day', color='#06C2AC', legend=False, title='Mode Orders Time of Day', xlabel='Mode Hour', ylabel='Customer Profile', width=0.8)\n",
    "\n",
    "# Account for Size\n",
    "fig = plt.gcf()\n",
    "fig.set_size_inches(14, 10)  # Set the desired size\n",
    "\n",
    "# Display the plot\n",
    "plt.tight_layout()\n",
    "plt.show()"
   ]
  },
  {
   "cell_type": "code",
   "execution_count": null,
   "id": "0d3e4774-9bf9-4e17-b12a-fa9537511c68",
   "metadata": {},
   "outputs": [],
   "source": [
    "# Save Horizontal Bar Chart \n",
    "\n",
    "customer_profile_order_hours_mode_bar.figure.savefig(os.path.join(path, '04 Analysis','Visualizations', 'customer_profile_order_hours_mode_bar.png'))"
   ]
  },
  {
   "cell_type": "markdown",
   "id": "8ea3aace-a224-40bb-9c86-8329744d3a4a",
   "metadata": {},
   "source": [
    "#### Now that we have the mode for hours orders are placed, what days do loyal customers use Instacart?"
   ]
  },
  {
   "cell_type": "code",
   "execution_count": null,
   "id": "09f583b6-4e39-41c7-baea-1bd32042f917",
   "metadata": {},
   "outputs": [],
   "source": [
    "# Plot bar chart for day of week order is placed by customer loyalty flag status\n",
    "\n",
    "loyalty_day_order_bar = small.groupby('loyalty_flag')['orders_day_of_week'].value_counts().plot.bar(title = 'Order Days by Loyalty Status', xlabel = 'Day of the Week', ylabel = 'Orders Placed', color=['#06C2AC'] * 7 + ['blue'] * 7 + ['teal'] * 7)\n",
    "plt.tight_layout()"
   ]
  },
  {
   "cell_type": "code",
   "execution_count": null,
   "id": "2623c994-1fc5-4e7e-b721-fd3a5e3ae6f5",
   "metadata": {},
   "outputs": [],
   "source": [
    "# Save Horizontal Bar Chart \n",
    "\n",
    "loyalty_day_order_bar.figure.savefig(os.path.join(path, '04 Analysis','Visualizations', 'loyalty_day_order_bar.png'))"
   ]
  },
  {
   "cell_type": "markdown",
   "id": "d7801ffd-9597-4398-b3ae-7aca3824d52a",
   "metadata": {},
   "source": [
    "### Departments"
   ]
  },
  {
   "cell_type": "code",
   "execution_count": null,
   "id": "1d5a57c2-e254-492a-8a3f-a86ed22756b7",
   "metadata": {},
   "outputs": [],
   "source": [
    "# Define Departments with a dictionary\n",
    "\n",
    "department_dictionary = {\n",
    "                            1: 'frozen',\n",
    "                            2: 'other',\n",
    "                            3: 'bakery',\n",
    "                            4: 'produce',\n",
    "                            5: 'alcohol',\n",
    "                            6: 'international',\n",
    "                            7: 'beverages',\n",
    "                            8: 'pets',\n",
    "                            9: 'dry goods pasta',\n",
    "                            10: 'bulk',\n",
    "                            11: 'personal care',\n",
    "                            12: 'meat seafood',\n",
    "                            13: 'pantry',\n",
    "                            14: 'breakfast',\n",
    "                            15: 'canned goods',\n",
    "                            16: 'dairy eggs',\n",
    "                            17: 'household',\n",
    "                            18: 'babies',\n",
    "                            19: 'snacks',\n",
    "                            20: 'deli',\n",
    "                                                    }"
   ]
  },
  {
   "cell_type": "code",
   "execution_count": null,
   "id": "5a95e24f-3b34-47a8-8417-e297826ddc24",
   "metadata": {},
   "outputs": [],
   "source": [
    "# Form the department name column and be sure to account for any missing values\n",
    "\n",
    "small['department_name'] = small['department_id'].map(department_dictionary).fillna(\"missing\")"
   ]
  },
  {
   "cell_type": "code",
   "execution_count": null,
   "id": "25db6112-f590-48ed-88c9-78b46f9d9840",
   "metadata": {},
   "outputs": [],
   "source": [
    "# Check output\n",
    "\n",
    "small['department_name'].value_counts()"
   ]
  },
  {
   "cell_type": "code",
   "execution_count": null,
   "id": "dd4760d2-9e40-4877-84fe-ca7c90e2cba2",
   "metadata": {},
   "outputs": [],
   "source": [
    "# Now we will look at which departments loyal customers are shopping \n",
    "\n",
    "# Groupby\n",
    "\n",
    "df_loyal_dept_group = small.groupby(['department_name', 'loyalty_flag']).size().unstack()"
   ]
  },
  {
   "cell_type": "code",
   "execution_count": null,
   "id": "4dfd878a-985e-49a3-8c54-b92f4ae5802b",
   "metadata": {},
   "outputs": [],
   "source": [
    "# Sort Values\n",
    "\n",
    "df_loyal_dept_group = df_loyal_dept_group.sort_values(by = 'Regular customer', ascending = False)"
   ]
  },
  {
   "cell_type": "code",
   "execution_count": null,
   "id": "bd615c80-ce0c-401f-9dcf-44dae29e2247",
   "metadata": {},
   "outputs": [],
   "source": [
    "# Use a 100% Stacked Bar Chart to plot results\n",
    "colors = ['#06C2AC', 'blue', 'teal']\n",
    "loyal_dept_group_bar = df_loyal_dept_group.plot(kind='bar', stacked=True, color=colors)\n",
    "\n",
    "plt.title('Department Preference by Customer Loyalty')\n",
    "plt.xlabel('Department')\n",
    "plt.ylabel('Order Count')\n",
    "\n",
    "# Set y-axis tick format to integer (no scientific notation)\n",
    "loyal_dept_group_bar.yaxis.set_major_formatter(plt.FuncFormatter(lambda x, loc: \"{:,}\".format(int(x))))\n",
    "\n",
    "plt.tight_layout()\n",
    "plt.show()"
   ]
  },
  {
   "cell_type": "markdown",
   "id": "bb08efef-bd0d-4a24-a827-84d57b69a971",
   "metadata": {},
   "source": [
    "#### Produce is the strongest peforming department in terms of sheer order count. Perhaps this is due to customers wanting their produce to be delivered fresh and saving the hassle of driving to the store and bringing it straight back home to make one trip just for produce alone. This should be explored further.\n",
    "#### Additionally, perhaps there should be incentives for bulk orders, such as discounts on next order, to improve bulk sales."
   ]
  },
  {
   "cell_type": "code",
   "execution_count": null,
   "id": "6634f8db-680a-4085-8c4e-f3eedc23ba61",
   "metadata": {},
   "outputs": [],
   "source": [
    "# Save Stacked Bar Chart\n",
    "\n",
    "loyal_dept_group_bar.figure.savefig(os.path.join(path, '04 Analysis','Visualizations', 'loyal_dept_group_bar.png'))"
   ]
  },
  {
   "cell_type": "markdown",
   "id": "dd75604b-170a-4679-a52b-9da8fe437464",
   "metadata": {},
   "source": [
    "## Step 7 - Aggregate the max, mean, and min variables on a customer-profile level for usage and frequency expenditure"
   ]
  },
  {
   "cell_type": "code",
   "execution_count": null,
   "id": "e6d5a963-cf36-4dc1-8071-30057a544453",
   "metadata": {},
   "outputs": [],
   "source": [
    "# For aggregate profiles we need to use the user_id to group by the relevant columns\n",
    "\n",
    "aggregate_customer_profile = small.groupby('user_id').agg({\n",
    "    'Age': ['max', 'mean', 'min'],\n",
    "    'n_dependants': ['max', 'mean', 'min']\n",
    "}).reset_index()"
   ]
  },
  {
   "cell_type": "code",
   "execution_count": null,
   "id": "401cac82-ca1b-4f04-b7e5-79f7d0a554af",
   "metadata": {},
   "outputs": [],
   "source": [
    "# Rename Columns for clarification of meaning\n",
    "\n",
    "aggregate_customer_profile.columns = ['user_id', 'max_age', 'mean_age', 'min_age', 'max_dependants', 'mean_dependants', 'min_dependants']"
   ]
  },
  {
   "cell_type": "code",
   "execution_count": null,
   "id": "c4bddcd6-b363-464e-a294-ca12045d4b27",
   "metadata": {},
   "outputs": [],
   "source": [
    "# Check Output\n",
    "\n",
    "print(aggregate_customer_profile)"
   ]
  },
  {
   "cell_type": "markdown",
   "id": "c621f74d-f3ec-401f-94f6-0ae93b1b0cfc",
   "metadata": {},
   "source": [
    "## Step 8 - Compare profiles with regions and departments and identify any links"
   ]
  },
  {
   "cell_type": "markdown",
   "id": "8aff71ba-2335-4ddb-96f6-7560aa355f54",
   "metadata": {},
   "source": [
    "### Comparing Region and Department"
   ]
  },
  {
   "cell_type": "code",
   "execution_count": null,
   "id": "5aa2567d-8b98-4507-9019-6ed8362f7fee",
   "metadata": {},
   "outputs": [],
   "source": [
    "# Start by comparing Department results by Region\n",
    "\n",
    "df_dept_by_region = small.groupby(['department_name', 'Region']).size().unstack()"
   ]
  },
  {
   "cell_type": "code",
   "execution_count": null,
   "id": "9f92435b-c69d-431f-8e89-4ba484f49c6b",
   "metadata": {},
   "outputs": [],
   "source": [
    "# Sort Values\n",
    "\n",
    "df_dept_by_region = df_dept_by_region.sort_values(by = 'Midwest', ascending = False)"
   ]
  },
  {
   "cell_type": "code",
   "execution_count": null,
   "id": "fc862e8e-088b-401c-89c4-1bfa9524e532",
   "metadata": {},
   "outputs": [],
   "source": [
    "# Chart data with 100% Stacked Bar\n",
    "\n",
    "colors = ['aqua', '#069AF3', 'teal', 'blue']\n",
    "dept_by_region_bar = df_dept_by_region.plot(kind='bar', stacked=True, color=colors)\n",
    "plt.title('Department Outcomes by Region')\n",
    "plt.xlabel('Department')\n",
    "plt.ylabel('Order Count')\n",
    "\n",
    "# Remove scientific notation from y-axis\n",
    "dept_by_region_bar.yaxis.set_major_formatter('{:.0f}'.format)\n",
    "\n",
    "plt.tight_layout()\n",
    "plt.show()"
   ]
  },
  {
   "cell_type": "code",
   "execution_count": null,
   "id": "2234e93d-1284-4c57-89aa-c78edf92ead4",
   "metadata": {},
   "outputs": [],
   "source": [
    "# Save Bar Chart\n",
    "\n",
    "dept_by_region_bar.figure.savefig(os.path.join(path, '04 Analysis','Visualizations', 'dept_by_region_bar.png'))"
   ]
  },
  {
   "cell_type": "markdown",
   "id": "7a07b929-1d3f-4267-87b5-d527acb9c141",
   "metadata": {},
   "source": [
    "### Observing Region and Order Day of Week"
   ]
  },
  {
   "cell_type": "code",
   "execution_count": null,
   "id": "d226819d-23a2-42cf-b2b3-7b65028b4408",
   "metadata": {},
   "outputs": [],
   "source": [
    "# Plot Bar Chart to observe Regional preferences for which Day of the Week to place orders\n",
    "\n",
    "region_order_day_bar = small.groupby('Region')['orders_day_of_week'].value_counts().plot.bar(title = 'Day of Order by Region', xlabel = 'Day of Week', ylabel = 'Order Count',color=['aqua'] * 7 + ['#069AF3'] * 7+['teal'] * 7 + ['blue'] * 7)\n",
    "\n",
    "plt.tight_layout()"
   ]
  },
  {
   "cell_type": "markdown",
   "id": "9cfa9842-814a-4309-bb4a-a4dc48031a4b",
   "metadata": {},
   "source": [
    "#### It is important to note that each Region conducts the most orders on Saturday (0) followed closely by Sunday (1). \n",
    "#### Conversely, each Regions slowest days for orders are Wednesday (4) and Tuesday (3)."
   ]
  },
  {
   "cell_type": "code",
   "execution_count": null,
   "id": "1aa0781c-407b-46d7-b3fb-0a989e0a0dc7",
   "metadata": {},
   "outputs": [],
   "source": [
    "# Save Bar Chart\n",
    "\n",
    "region_order_day_bar.figure.savefig(os.path.join(path, '04 Analysis','Visualizations', 'region_order_day_bar.png'))"
   ]
  },
  {
   "cell_type": "markdown",
   "id": "508acc8d-a8c9-4d91-b7d4-a6ce16dc3350",
   "metadata": {},
   "source": [
    "### Observing the most popular products"
   ]
  },
  {
   "cell_type": "code",
   "execution_count": null,
   "id": "d3cb3161-246a-4727-9182-96459ac8dc5b",
   "metadata": {},
   "outputs": [],
   "source": [
    "# Aggregate the sum of the most popular products in new dataframe\n",
    "\n",
    "popular_prods = small.groupby('product_name')['order_number'].sum()"
   ]
  },
  {
   "cell_type": "code",
   "execution_count": null,
   "id": "88d27105-b7a5-4c8c-93e7-339b9d5f7f96",
   "metadata": {},
   "outputs": [],
   "source": [
    "# Sort Values\n",
    "\n",
    "popular_prods = popular_prods.sort_values(ascending=False)"
   ]
  },
  {
   "cell_type": "code",
   "execution_count": null,
   "id": "8108a67f-9aad-459f-87f0-f2e3354ab78b",
   "metadata": {},
   "outputs": [],
   "source": [
    "# Set colors\n",
    "\n",
    "colors = plt.cm.Blues(np.linspace(0.8, 0.3, len(popular_prods)))"
   ]
  },
  {
   "cell_type": "code",
   "execution_count": null,
   "id": "968038fa-40db-4731-82ae-cf1a83b085b5",
   "metadata": {},
   "outputs": [],
   "source": [
    "# Create dataframe with only the top 10 products\n",
    "\n",
    "top_10_products = popular_prods.head(10)"
   ]
  },
  {
   "cell_type": "code",
   "execution_count": null,
   "id": "10202aa5-161f-482b-9090-3d90bf0b22c9",
   "metadata": {},
   "outputs": [],
   "source": [
    "# Plotting\n",
    "top_10_products_bar = top_10_products.plot.bar(title='Top 10 Products',\n",
    "                                              xlabel='Product',\n",
    "                                              ylabel='Order Count',\n",
    "                                              color='skyblue')\n",
    "# Remove scientific notation from y-axis\n",
    "top_10_products_bar.ticklabel_format(style='plain', axis='y')\n",
    "\n",
    "# Adjust layout\n",
    "plt.tight_layout()\n",
    "\n",
    "# Show the plot\n",
    "plt.show()"
   ]
  },
  {
   "cell_type": "code",
   "execution_count": null,
   "id": "284ffb85-c1ef-49c7-9dfc-d4afe4f56b32",
   "metadata": {},
   "outputs": [],
   "source": [
    "# Save Bar Chart\n",
    "\n",
    "top_10_products_bar.figure.savefig(os.path.join(path, '04 Analysis','Visualizations', 'top_10_products_bar.png'))"
   ]
  },
  {
   "cell_type": "code",
   "execution_count": null,
   "id": "87bea314-c887-4e76-aae6-364d3d5e7ef7",
   "metadata": {},
   "outputs": [],
   "source": [
    "# Create dataframe with bottom 10 products\n",
    "\n",
    "bottom_10_products = popular_prods.tail(10)"
   ]
  },
  {
   "cell_type": "code",
   "execution_count": null,
   "id": "bc9ba270-bb01-4d28-87aa-c594059ee5ba",
   "metadata": {},
   "outputs": [],
   "source": [
    "# Plotting\n",
    "bottom_10_products_bar = bottom_10_products.plot.bar(title='Bottom 10 Products',\n",
    "                                              xlabel='Product',\n",
    "                                              ylabel='Order Count',\n",
    "                                              color='skyblue')\n",
    "# Remove scientific notation from y-axis\n",
    "bottom_10_products_bar.ticklabel_format(style='plain', axis='y')\n",
    "\n",
    "# Adjust layout\n",
    "plt.tight_layout()\n",
    "\n",
    "# Show the plot\n",
    "plt.show()"
   ]
  },
  {
   "cell_type": "code",
   "execution_count": null,
   "id": "1325ba6c-0e9d-4ccf-ae75-ecd8b8712bb0",
   "metadata": {},
   "outputs": [],
   "source": [
    "# Save Bar Chart\n",
    "\n",
    "bottom_10_products_bar.figure.savefig(os.path.join(path, '04 Analysis','Visualizations', 'bottom_10_products_bar.png'))"
   ]
  },
  {
   "cell_type": "markdown",
   "id": "0c80872e-713e-4d8c-be8e-96ebad0bd565",
   "metadata": {},
   "source": [
    "### Observing Average Price of Purchase by Region"
   ]
  },
  {
   "cell_type": "code",
   "execution_count": null,
   "id": "1c9349bb-52fa-41f9-a19f-4b944558fc95",
   "metadata": {},
   "outputs": [],
   "source": [
    "# Create a cross-tabulation of average price by Region\n",
    "\n",
    "avg_price_by_region = pd.crosstab(index=small['Region'], columns='Average Price', values=small['prices'], aggfunc='mean')"
   ]
  },
  {
   "cell_type": "code",
   "execution_count": null,
   "id": "6342b324-12dd-4a94-a765-926972386054",
   "metadata": {},
   "outputs": [],
   "source": [
    "# Plotting\n",
    "avg_price_by_region_bar = avg_price_by_region.plot(kind='bar', color='skyblue', legend=None)\n",
    "plt.title('Average Price by Region')\n",
    "plt.xlabel('Region')\n",
    "plt.ylabel('Average Price')\n",
    "\n",
    "# Remove scientific notation from y-axis\n",
    "plt.gca().ticklabel_format(style='plain', axis='y')\n",
    "\n",
    "# Adjust layout\n",
    "plt.tight_layout()\n",
    "\n",
    "# Show the plot\n",
    "plt.show()"
   ]
  },
  {
   "cell_type": "code",
   "execution_count": null,
   "id": "c349a90f-4858-4309-addc-35fec47e6805",
   "metadata": {},
   "outputs": [],
   "source": [
    "# Check output of crosstab for clarity\n",
    "\n",
    "avg_price_by_region"
   ]
  },
  {
   "cell_type": "code",
   "execution_count": null,
   "id": "ffbd1c4f-6f31-4870-980a-4011385b83bf",
   "metadata": {},
   "outputs": [],
   "source": [
    "# Save Bar Chart\n",
    "\n",
    "avg_price_by_region_bar.figure.savefig(os.path.join(path, '04 Analysis','Visualizations', 'avg_price_by_region_bar.png'))"
   ]
  },
  {
   "cell_type": "markdown",
   "id": "2c221c16-5258-4d5c-a9ec-e2b235d6fae6",
   "metadata": {},
   "source": [
    "### Observing Average Price by Income Tier"
   ]
  },
  {
   "cell_type": "code",
   "execution_count": null,
   "id": "c1b2fcfe-49ea-4197-b3d4-f74449656894",
   "metadata": {},
   "outputs": [],
   "source": [
    "# Create a cross-tabulation of average price by income tier\n",
    "\n",
    "avg_price_by_income_tier = pd.crosstab(index=small['income_tier'], columns='Average Price', values=small['prices'], aggfunc='mean')"
   ]
  },
  {
   "cell_type": "code",
   "execution_count": null,
   "id": "22e601c7-3435-4478-8918-e6d964eb93f8",
   "metadata": {},
   "outputs": [],
   "source": [
    "# Plotting\n",
    "avg_price_by_income_bar = avg_price_by_income_tier.plot(kind='bar', color='skyblue', legend=None)\n",
    "plt.title('Average Price by Income Tier')\n",
    "plt.xlabel('Income Tier')\n",
    "plt.ylabel('Average Order Price')\n",
    "\n",
    "# Remove scientific notation from y-axis\n",
    "plt.gca().ticklabel_format(style='plain', axis='y')\n",
    "\n",
    "# Adjust layout\n",
    "plt.tight_layout()\n",
    "\n",
    "# Show the plot\n",
    "plt.show()"
   ]
  },
  {
   "cell_type": "code",
   "execution_count": null,
   "id": "63d8e3ef-c3ef-4795-9a03-24ad4db59069",
   "metadata": {},
   "outputs": [],
   "source": [
    "# Check output of crosstab for clarity\n",
    "\n",
    "avg_price_by_income_tier"
   ]
  },
  {
   "cell_type": "code",
   "execution_count": null,
   "id": "a747bf05-b9d8-4273-ac03-ed677efb090f",
   "metadata": {},
   "outputs": [],
   "source": [
    "# Save Bar Chart\n",
    "\n",
    "avg_price_by_income_bar.figure.savefig(os.path.join(path, '04 Analysis','Visualizations', 'avg_price_by_income_bar.png'))"
   ]
  },
  {
   "cell_type": "markdown",
   "id": "5850a5a7-82a8-4965-9f7e-890a2738e754",
   "metadata": {},
   "source": [
    "### Observing Orders Day of Week by Income"
   ]
  },
  {
   "cell_type": "code",
   "execution_count": null,
   "id": "a34b9db7-45c9-4eff-bd02-6c8e53326496",
   "metadata": {},
   "outputs": [],
   "source": [
    "# Create a cross-tabulation of average orders day of week by income tier\n",
    "\n",
    "avg_orders_day_by_income_tier = pd.crosstab(index=small['income_tier'], columns='Average Orders Day', values=small['orders_day_of_week'], aggfunc='mean')"
   ]
  },
  {
   "cell_type": "code",
   "execution_count": null,
   "id": "ad3703fc-6b25-480a-a67f-42d8e300a65b",
   "metadata": {},
   "outputs": [],
   "source": [
    "# Plotting\n",
    "avg_orders_day_by_income_tier_bar = avg_orders_day_by_income_tier.plot(kind='bar', color='skyblue', legend=None)\n",
    "plt.title('Average Order Day by Income Tier')\n",
    "plt.xlabel('Income Tier')\n",
    "plt.ylabel('Average Order Day of Week')\n",
    "\n",
    "# Remove scientific notation from y-axis\n",
    "plt.gca().ticklabel_format(style='plain', axis='y')\n",
    "\n",
    "# Adjust layout\n",
    "plt.tight_layout()\n",
    "\n",
    "# Show the plot\n",
    "plt.show()"
   ]
  },
  {
   "cell_type": "code",
   "execution_count": null,
   "id": "ff50b6c5-6862-4690-bb8d-fc72422119b2",
   "metadata": {},
   "outputs": [],
   "source": [
    "# Check output of crosstab for clarity\n",
    "\n",
    "avg_orders_day_by_income_tier"
   ]
  },
  {
   "cell_type": "code",
   "execution_count": null,
   "id": "effd8036-ab99-45a1-8690-d27a5ec573f2",
   "metadata": {},
   "outputs": [],
   "source": [
    "# Save Bar Chart\n",
    "\n",
    "avg_orders_day_by_income_tier_bar.figure.savefig(os.path.join(path, '04 Analysis','Visualizations', 'avg_orders_day_by_income_tier_bar.png'))"
   ]
  },
  {
   "cell_type": "markdown",
   "id": "f89054d2-b6e2-4d21-a387-c172b05263fa",
   "metadata": {},
   "source": [
    "### Observing Regional Ordering Habits"
   ]
  },
  {
   "cell_type": "code",
   "execution_count": null,
   "id": "9efa3d3d-88e9-477f-b23b-0bd96ba00633",
   "metadata": {},
   "outputs": [],
   "source": [
    "# Create Line Chart\n",
    "\n",
    "sns.set_theme(style=\"whitegrid\")  # Set the seaborn theme if needed\n",
    "regional_ordering_habits_line = sns.lineplot(data=small, x='orders_time_of_day', y='order_number', hue='Region')\n",
    "\n",
    "# Define title and labels\n",
    "plt.title('Regional Ordering Habits')\n",
    "plt.xlabel('Time of Day')\n",
    "plt.ylabel('Orders')\n",
    "\n",
    "# Display the legend\n",
    "plt.legend(title='Region', loc='upper right')\n",
    "\n",
    "# Show the plot\n",
    "plt.show()"
   ]
  },
  {
   "cell_type": "code",
   "execution_count": null,
   "id": "ca3b50f5-6953-412b-a6c9-0cf9f04424f0",
   "metadata": {},
   "outputs": [],
   "source": [
    "#Save Line Chart\n",
    "\n",
    "regional_ordering_habits_line.figure.savefig(os.path.join(path, '04 Analysis','Visualizations', 'regional_ordering_habits_line.png'))"
   ]
  },
  {
   "cell_type": "markdown",
   "id": "fa605883-3c68-4b90-80c3-c4c4c993a312",
   "metadata": {},
   "source": [
    "### A clear trend has emerged, demonstrating that each region seemingly has an ordering peak at ~ 7-8AM and an ordering trough at ~ 1-3AM.\n",
    "### There is an additional nadir at 7PM (hour 19) and a slight rebound to another mini-peak in orders at 9PM (hour 21)."
   ]
  },
  {
   "cell_type": "markdown",
   "id": "5f59026a-b3d8-444a-bfee-1c853d8243f6",
   "metadata": {},
   "source": [
    "Let's create a line chart observing the relationship between order number and day of the week, by region."
   ]
  },
  {
   "cell_type": "code",
   "execution_count": null,
   "id": "0d4c46a3-037a-4567-a8fe-62a3f89e0bf6",
   "metadata": {},
   "outputs": [],
   "source": [
    "# Create Line Chart\n",
    "\n",
    "sns.set_theme(style=\"whitegrid\")  # Set the seaborn theme if needed\n",
    "regional_ordering_day_habits_line = sns.lineplot(data=small, x='orders_day_of_week', y='order_number', hue='Region')\n",
    "\n",
    "# Define title and labels\n",
    "plt.title('Regional Ordering Habits by Week')\n",
    "plt.xlabel('Day of Week')\n",
    "plt.ylabel('Orders')\n",
    "\n",
    "# Display the legend\n",
    "plt.legend(title='Region', loc='upper right')\n",
    "\n",
    "# Show the plot\n",
    "plt.show()"
   ]
  },
  {
   "cell_type": "markdown",
   "id": "3d9effee-0057-4c7a-9e34-95f950899a95",
   "metadata": {},
   "source": [
    "### It is important to note that the order number per user increases significantly from Saturday (0) to Sunday (1) then it slowly increases as the week progresses until dramatically decreasing on Friday (6)."
   ]
  },
  {
   "cell_type": "code",
   "execution_count": null,
   "id": "e041ab6c-725b-4ae7-bfba-bdc9762f2ab5",
   "metadata": {},
   "outputs": [],
   "source": [
    "#Save Line Chart\n",
    "\n",
    "regional_ordering_day_habits_line.figure.savefig(os.path.join(path, '04 Analysis','Visualizations', 'regional_ordering_day_habits_line.png'))"
   ]
  },
  {
   "cell_type": "markdown",
   "id": "e8e9c7c9-8b8b-4e15-a36d-1873877fd4af",
   "metadata": {},
   "source": [
    "#### Let's observe the relationship between the new price range groupings for items by Region."
   ]
  },
  {
   "cell_type": "code",
   "execution_count": null,
   "id": "54597d92-c58c-41b7-b9f8-c2d4fd16148f",
   "metadata": {},
   "outputs": [],
   "source": [
    "# Create a cross-tabulation of count of 'price range loc' categories by Region\n",
    "price_range_loc_by_region = pd.crosstab(index=small['Region'], columns=small['price_range_loc'])"
   ]
  },
  {
   "cell_type": "code",
   "execution_count": null,
   "id": "6c2202a2-3fe4-48fb-a7db-29b0531e94f1",
   "metadata": {},
   "outputs": [],
   "source": [
    "# Plotting\n",
    "price_range_loc_by_region_bar = price_range_loc_by_region.plot(kind='bar', stacked=True)\n",
    "plt.title('Count of Price Range Categories by Region')\n",
    "plt.xlabel('Region')\n",
    "plt.ylabel('Count')\n",
    "\n",
    "# Remove scientific notation from y-axis\n",
    "plt.gca().ticklabel_format(style='plain', axis='y')\n",
    "\n",
    "# Adjust layout\n",
    "plt.tight_layout()\n",
    "\n",
    "# Show the plot\n",
    "plt.show()"
   ]
  },
  {
   "cell_type": "code",
   "execution_count": null,
   "id": "523d7ec7-2d5d-4961-938e-9c1c63878768",
   "metadata": {},
   "outputs": [],
   "source": [
    "# Save Bar Chart\n",
    "\n",
    "price_range_loc_by_region_bar.figure.savefig(os.path.join(path, '04 Analysis','Visualizations', 'price_range_loc_by_region_bar.png'))"
   ]
  },
  {
   "cell_type": "code",
   "execution_count": null,
   "id": "a7c097b4-2737-4093-9a5b-d6f82512e985",
   "metadata": {},
   "outputs": [],
   "source": [
    "# Check output to clarify results\n",
    "\n",
    "price_range_loc_by_region"
   ]
  },
  {
   "cell_type": "code",
   "execution_count": null,
   "id": "8488ac95-c288-41a7-8bd4-74fd65bd5679",
   "metadata": {},
   "outputs": [],
   "source": [
    "# Given cross-tabulation result\n",
    "data = {\n",
    "    'High-range product': [28186, 20947, 39766, 30737],\n",
    "    'Low-range product': [679414, 514775, 965924, 742886],\n",
    "    'Mid-range product': [1471822, 1103292, 2087231, 1603488]\n",
    "}\n",
    "\n",
    "index = ['Midwest', 'Northeast', 'South', 'West']\n",
    "\n",
    "# Create DataFrame\n",
    "df = pd.DataFrame(data, index=index)"
   ]
  },
  {
   "cell_type": "code",
   "execution_count": null,
   "id": "e69965a6-45f0-4eb1-8aa5-56f81b133f11",
   "metadata": {},
   "outputs": [],
   "source": [
    "# Calculate total orders by region\n",
    "total_orders_by_region = df.sum(axis=1)"
   ]
  },
  {
   "cell_type": "code",
   "execution_count": null,
   "id": "50dfa1c0-2493-4f1d-b44e-06b60f7a767a",
   "metadata": {},
   "outputs": [],
   "source": [
    "# Calculate ratios\n",
    "ratios_df_product_loc = df.div(total_orders_by_region, axis=0)*100 #for percentage instead of decimal"
   ]
  },
  {
   "cell_type": "code",
   "execution_count": null,
   "id": "19427b3d-1a75-4f83-8db9-b5a055ca1d17",
   "metadata": {},
   "outputs": [],
   "source": [
    "# Check ouput\n",
    "ratios_df_product_loc"
   ]
  },
  {
   "cell_type": "code",
   "execution_count": null,
   "id": "a2e83bbd-2fdd-4fc4-a0d7-03aaa4ef72bf",
   "metadata": {},
   "outputs": [],
   "source": [
    "# Plotting\n",
    "ratios_df_product_loc_bar = ratios_df_product_loc.plot(kind='bar', stacked=True)\n",
    "plt.title('Ratio of Price Range Loc Categories by Region')\n",
    "plt.xlabel('Region')\n",
    "plt.ylabel('Ratio')\n",
    "plt.xticks(rotation=45)  # Rotate x-axis labels for better readability\n",
    "\n",
    "# Adjust layout\n",
    "plt.tight_layout()\n",
    "\n",
    "# Show the plot\n",
    "plt.show()"
   ]
  },
  {
   "cell_type": "code",
   "execution_count": null,
   "id": "7099d12d-7527-402f-a1e4-594d8ddf523f",
   "metadata": {},
   "outputs": [],
   "source": [
    "# Save Bar Chart\n",
    "\n",
    "ratios_df_product_loc_bar.figure.savefig(os.path.join(path, '04 Analysis','Visualizations', 'ratios_df_product_loc_bar.png'))"
   ]
  },
  {
   "cell_type": "markdown",
   "id": "7df5ba0f-86b7-4094-acc3-0cfd989af12f",
   "metadata": {},
   "source": [
    "#### The ratio of product price range groups is nearly identical for each region."
   ]
  },
  {
   "cell_type": "markdown",
   "id": "d9d262b8-d1c6-42c7-98c8-5837b9f7ae86",
   "metadata": {},
   "source": [
    "## Step 9 - Produce suitable charts"
   ]
  },
  {
   "cell_type": "markdown",
   "id": "43b7cfad-fadf-46f6-bf57-777d1e6ceb77",
   "metadata": {},
   "source": [
    "### Observations Re: Age v. Prices"
   ]
  },
  {
   "cell_type": "code",
   "execution_count": null,
   "id": "6cf6f0d4-b9db-438e-a14f-42aa667d51e3",
   "metadata": {},
   "outputs": [],
   "source": [
    "# Create a cross-tabulation of average price by age group\n",
    "avg_price_by_age_group = pd.crosstab(index=small['age_group'], columns='Average Price', values=small['prices'], aggfunc='mean')"
   ]
  },
  {
   "cell_type": "code",
   "execution_count": null,
   "id": "a9f9da5d-2c84-4644-9979-db5ef5929998",
   "metadata": {},
   "outputs": [],
   "source": [
    "# Plotting\n",
    "avg_price_by_age_group_bar = avg_price_by_age_group.plot(kind='bar', color='skyblue', legend=None)\n",
    "plt.title('Average Price by Age Group')\n",
    "plt.xlabel('Age Group')\n",
    "plt.ylabel('Average Price')\n",
    "\n",
    "# Remove scientific notation from y-axis\n",
    "plt.gca().ticklabel_format(style='plain', axis='y')\n",
    "\n",
    "# Adjust layout\n",
    "plt.tight_layout()\n",
    "\n",
    "# Show the plot\n",
    "plt.show()"
   ]
  },
  {
   "cell_type": "code",
   "execution_count": null,
   "id": "3e4d2d74-dfd8-44a7-a9ee-7243272afb85",
   "metadata": {},
   "outputs": [],
   "source": [
    "# Check output of crosstab to clarify result\n",
    "\n",
    "avg_price_by_age_group"
   ]
  },
  {
   "cell_type": "code",
   "execution_count": null,
   "id": "60ed4059-96af-4043-8efb-a4ab0202317f",
   "metadata": {},
   "outputs": [],
   "source": [
    "# Save Bar Chart\n",
    "\n",
    "avg_price_by_age_group_bar.figure.savefig(os.path.join(path, '04 Analysis','Visualizations', 'avg_price_by_age_group_bar.png'))"
   ]
  },
  {
   "cell_type": "markdown",
   "id": "83ad8a47-60fc-44b5-a538-c1d076cb1bea",
   "metadata": {},
   "source": [
    "### Observations Re: Marital/Family Status"
   ]
  },
  {
   "cell_type": "code",
   "execution_count": null,
   "id": "688ff764-72b7-416d-bd35-7b839825fc63",
   "metadata": {},
   "outputs": [],
   "source": [
    "# Check Values\n",
    "marital_status_counts = small['marital_status'].value_counts()"
   ]
  },
  {
   "cell_type": "code",
   "execution_count": null,
   "id": "9482da4b-22ea-46a2-8e67-b85813274d93",
   "metadata": {},
   "outputs": [],
   "source": [
    "marital_status_counts"
   ]
  },
  {
   "cell_type": "code",
   "execution_count": null,
   "id": "80243453-d1da-47a3-a75a-9a00bf60da6a",
   "metadata": {},
   "outputs": [],
   "source": [
    "# Plotting pie chart \n",
    "marital_status_pie = plt.pie(marital_status_counts, labels=marital_status_counts.index, autopct='%1.1f%%', colors=['aqua', '#069AF3', 'blue', 'teal'])\n",
    "\n",
    "# Adding title\n",
    "plt.title('Family Status Distribution')\n",
    "\n",
    "# Save the figure as an image\n",
    "save_path = os.path.join(path, '04 Analysis', 'Visualizations', 'marital_status_pie.png')\n",
    "plt.savefig(save_path)"
   ]
  },
  {
   "cell_type": "code",
   "execution_count": null,
   "id": "dc31ce23-5e38-4b69-a0d0-ab440236a5b1",
   "metadata": {},
   "outputs": [],
   "source": [
    "# Create a dataframe to group the data by 'marital_status' and 'age_group'\n",
    "df_age_marital = small.groupby(['marital_status', 'age_group']).size().unstack()"
   ]
  },
  {
   "cell_type": "code",
   "execution_count": null,
   "id": "de117b7e-03bf-4fec-9a28-5f04b5522627",
   "metadata": {},
   "outputs": [],
   "source": [
    "# Set the figure size\n",
    "plt.figure(figsize=(10, 6))\n",
    "\n",
    "# Plot the data using a bar chart\n",
    "colors = ['aqua', 'blue', 'teal', 'skyblue', 'indigo']\n",
    "age_marital_bar = df_age_marital.plot(kind='barh', stacked=True, color=colors)\n",
    "\n",
    "# Set the x-axis to display without scientific notation\n",
    "plt.ticklabel_format(axis='x', style='plain')\n",
    "\n",
    "plt.title('Orders in Different Age Groups and Marital Status')\n",
    "plt.xlabel('Number of Customers')\n",
    "plt.ylabel('Marital Status')\n",
    "\n",
    "# Rotate x-axis labels\n",
    "age_marital_bar.set_xticklabels(age_marital_bar.get_xticklabels(), rotation=45)\n",
    "\n",
    "plt.tight_layout()\n",
    "plt.savefig(os.path.join(path, '04 Analysis', 'Visualizations', 'age_marital_bar.png'), bbox_inches='tight', pad_inches=0.1)\n",
    "plt.show()"
   ]
  },
  {
   "cell_type": "markdown",
   "id": "5d12e2b3-b51a-4bc7-a33a-3f971e825aa0",
   "metadata": {},
   "source": [
    "#### Chart for Marital Status v. Average Price of Order"
   ]
  },
  {
   "cell_type": "code",
   "execution_count": null,
   "id": "3dab0acf-c4c1-435c-8209-98eee9a3e522",
   "metadata": {},
   "outputs": [],
   "source": [
    "# Calculate the average of 'prices' column grouped by 'marital_status'\n",
    "avg_prices_by_marital_status = small.groupby('marital_status')['prices'].mean()"
   ]
  },
  {
   "cell_type": "code",
   "execution_count": null,
   "id": "7769409f-35f1-460d-911e-d68e28902701",
   "metadata": {},
   "outputs": [],
   "source": [
    "# Plotting\n",
    "avg_prices_by_marital_status_bar = avg_prices_by_marital_status.plot(kind='bar', color='skyblue')\n",
    "plt.title('Average Prices by Marital Status')\n",
    "plt.xlabel('Marital Status')\n",
    "plt.ylabel('Average Price of Order')\n",
    "\n",
    "# Remove scientific notation from y-axis\n",
    "plt.gca().ticklabel_format(style='plain', axis='y')\n",
    "\n",
    "# Show the plot\n",
    "plt.show()"
   ]
  },
  {
   "cell_type": "code",
   "execution_count": null,
   "id": "8392eca0-a21c-4747-a8cc-8dc015788fb6",
   "metadata": {},
   "outputs": [],
   "source": [
    "# Check output of crosstab to clarify results\n",
    "\n",
    "avg_prices_by_marital_status"
   ]
  },
  {
   "cell_type": "code",
   "execution_count": null,
   "id": "debe2a3a-9174-4640-8bdb-b1319f1fd3d7",
   "metadata": {},
   "outputs": [],
   "source": [
    "# Save Bar Chart\n",
    "\n",
    "avg_prices_by_marital_status_bar.figure.savefig(os.path.join(path, '04 Analysis','Visualizations', 'avg_prices_by_marital_status_bar.png'))"
   ]
  },
  {
   "cell_type": "markdown",
   "id": "b4f7f8ec-f5bc-4ea4-9918-e3546f1aa5bd",
   "metadata": {},
   "source": [
    "### Observing Brand Loyalty"
   ]
  },
  {
   "cell_type": "code",
   "execution_count": null,
   "id": "bae24ea1-bc9b-41d5-ac5c-ca41774f422c",
   "metadata": {},
   "outputs": [],
   "source": [
    "# Calculate the frequency distribution of 'loyalty_flag'\n",
    "loyalty_distribution = small['loyalty_flag'].value_counts()\n",
    "\n",
    "# Plot the pie chart\n",
    "plt.pie(loyalty_distribution, labels=loyalty_distribution.index, autopct='%1.1f%%', colors=['teal', 'blue', 'indigo'], textprops={'color': \"gray\"})\n",
    "plt.title('Brand Loyalty Distribution')\n",
    "\n",
    "# Save the plot\n",
    "plt.savefig(os.path.join(path, '04 Analysis', 'Visualizations', 'brand_loyalty_pie.png'))\n",
    "\n",
    "# Display the plot\n",
    "plt.show()"
   ]
  },
  {
   "cell_type": "markdown",
   "id": "c46ad5b9-ccce-4082-8917-afb294fdbc6a",
   "metadata": {},
   "source": [
    "### Observing Department Popularity as a Ratio"
   ]
  },
  {
   "cell_type": "code",
   "execution_count": null,
   "id": "3d9e4911-386f-45d0-9381-7aaaf5cfd0a4",
   "metadata": {},
   "outputs": [],
   "source": [
    "# Calculate the counts of each department\n",
    "department_counts = small['department_name'].value_counts()\n",
    "\n",
    "# Identify the top 5 departments\n",
    "top_departments = department_counts.head(5).index\n",
    "\n",
    "# Group other departments into \"Other\"\n",
    "small['department_grouped'] = small['department_name'].where(small['department_name'].isin(top_departments))\n",
    "\n",
    "# Calculate the percentage of each department group\n",
    "department_percentage = small['department_grouped'].value_counts(normalize=True) * 100\n",
    "\n",
    "# Define shades of blue\n",
    "shades_of_blue = plt.cm.Blues(np.linspace(0.9, 0.3, len(department_percentage)))\n",
    "\n",
    "# Create a pie chart with shades of blue\n",
    "fig, ax = plt.subplots(figsize=(8, 8))\n",
    "pie = ax.pie(department_percentage, labels=department_percentage.index, autopct='%1.1f%%', startangle=90, colors=shades_of_blue)\n",
    "\n",
    "# Add a legend with shades of red\n",
    "ax.legend(pie[0], department_percentage.index, bbox_to_anchor=(1, 0.5), loc=\"center left\", fontsize=10, bbox_transform=plt.gcf().transFigure)\n",
    "\n",
    "# Set the title\n",
    "plt.title('Top Performing Departments', )\n",
    "\n",
    "# Save the figure as an image\n",
    "save_path = os.path.join(path, '04 Analysis', 'Visualizations', 'top_departments_pie_chart.png')\n",
    "plt.savefig(save_path)\n",
    "\n",
    "# Display the pie chart\n",
    "plt.show()"
   ]
  },
  {
   "cell_type": "markdown",
   "id": "6f3860aa-e7a9-4392-93d2-115206bb0a43",
   "metadata": {},
   "source": [
    "### Histogram of Order Frequency"
   ]
  },
  {
   "cell_type": "code",
   "execution_count": null,
   "id": "c71e0c10-10cc-4110-9524-4dc80efe053d",
   "metadata": {},
   "outputs": [],
   "source": [
    "# Order Frequency Histogram\n",
    "hist_order_frequency = small['days_since_prior_order'].plot.hist(bins=70, title='Order Frequency', xlabel='Days since Prior Order', color='teal')\n",
    "\n",
    "# Remove scientific notation from y-axis\n",
    "plt.ticklabel_format(style='plain', axis='y')\n",
    "\n",
    "# Show the plot\n",
    "plt.show()"
   ]
  },
  {
   "cell_type": "markdown",
   "id": "6b5ffb4b-de69-4cfd-ae2b-b16eb85b56d0",
   "metadata": {},
   "source": [
    "### Most customers have 7 days and 30 days since their prior order, suggesting weekly or monthly shopping on the site. Given this insight, we should be seeing a larger amount of \"bulk\" department orders."
   ]
  },
  {
   "cell_type": "code",
   "execution_count": null,
   "id": "0ce7f07e-6c9a-4f3e-b303-155ab669167e",
   "metadata": {},
   "outputs": [],
   "source": [
    "# Save Histogram\n",
    "\n",
    "hist_order_frequency.figure.savefig(os.path.join(path, '04 Analysis','Visualizations', 'hist_order_frequency.png'))"
   ]
  },
  {
   "cell_type": "markdown",
   "id": "f386dbac-007b-4079-9229-46fb967ab15d",
   "metadata": {},
   "source": [
    "### Bar Chart Displaying Customer Loyalty Distribution"
   ]
  },
  {
   "cell_type": "code",
   "execution_count": null,
   "id": "9ff790f5-c167-45f5-b4ec-967ad7d259f8",
   "metadata": {},
   "outputs": [],
   "source": [
    "# Bar Chart Displaying Loyalty Distribution of Customers\n",
    "order_loyalty_bar = small['loyalty_flag'].value_counts().plot.bar(title='Loyal Customer Distribution', xlabel='Loyalty Rank', ylabel='Number of Customers', color=['teal', 'blue', 'indigo'])\n",
    "\n",
    "# Remove scientific notation from y-axis\n",
    "plt.ticklabel_format(style='plain', axis='y')\n",
    "\n",
    "# Rotate x-axis labels\n",
    "plt.xticks(rotation=0)\n",
    "\n",
    "# Show the plot\n",
    "plt.show()"
   ]
  },
  {
   "cell_type": "code",
   "execution_count": null,
   "id": "7bd745e1-9cec-4c36-b59d-c65719972d87",
   "metadata": {},
   "outputs": [],
   "source": [
    "# Save Bar Chart\n",
    "\n",
    "order_loyalty_bar.figure.savefig(os.path.join(path, '04 Analysis','Visualizations', 'order_loyalty_bar.png'))"
   ]
  },
  {
   "cell_type": "markdown",
   "id": "3905f108-d0b1-47a1-a439-ab27b9bc0976",
   "metadata": {},
   "source": [
    "### Revising Orders Day of Week Bar Chart"
   ]
  },
  {
   "cell_type": "code",
   "execution_count": null,
   "id": "e7e1a9e2-4e7b-4f8c-9a32-a3c2c6f02df2",
   "metadata": {},
   "outputs": [],
   "source": [
    "# Calculate the count of orders for each day of the week\n",
    "orders_by_day_of_week = small['orders_day_of_week'].value_counts()\n",
    "\n",
    "# Define a spectrum of 7 shades of blue color palette\n",
    "blue_palette = sns.color_palette('Blues', 7)\n",
    "\n",
    "# Plot the count of orders as a bar graph\n",
    "orders_day_of_week_bar = orders_by_day_of_week.plot(kind='bar', color=blue_palette)\n",
    "\n",
    "# Set the title and labels\n",
    "plt.title('Count of Orders by Day of Week')\n",
    "plt.xlabel('Day of Week')\n",
    "plt.ylabel('Number of Orders')\n",
    "\n",
    "# Remove scientific notation from y-axis\n",
    "plt.ticklabel_format(style='plain', axis='y')\n",
    "\n",
    "# Show the plot\n",
    "plt.show()"
   ]
  },
  {
   "cell_type": "code",
   "execution_count": null,
   "id": "a63318f1-112a-47a2-9f8a-6d24c33bc90c",
   "metadata": {},
   "outputs": [],
   "source": [
    "# Save Bar Chart\n",
    "\n",
    "orders_day_of_week_bar.figure.savefig(os.path.join(path, '04 Analysis','Visualizations', 'orders_day_of_week_bar.png'))"
   ]
  },
  {
   "cell_type": "markdown",
   "id": "32ea7c9b-7f7c-4341-b9dd-01b919f808c4",
   "metadata": {},
   "source": [
    "## Step 10 - Export Final Data Set"
   ]
  },
  {
   "cell_type": "code",
   "execution_count": null,
   "id": "8a7317ff-e6d4-43f2-871c-cf6b1302f4d2",
   "metadata": {},
   "outputs": [],
   "source": [
    "small.to_pickle(os.path.join(path, '02 Data', 'Prepared Data', 'final_sample_data_set.pkl'))"
   ]
  },
  {
   "cell_type": "code",
   "execution_count": null,
   "id": "85d47444-c154-4608-81b6-b347dbae7e57",
   "metadata": {},
   "outputs": [],
   "source": []
  }
 ],
 "metadata": {
  "kernelspec": {
   "display_name": "Python 3 (ipykernel)",
   "language": "python",
   "name": "python3"
  },
  "language_info": {
   "codemirror_mode": {
    "name": "ipython",
    "version": 3
   },
   "file_extension": ".py",
   "mimetype": "text/x-python",
   "name": "python",
   "nbconvert_exporter": "python",
   "pygments_lexer": "ipython3",
   "version": "3.11.4"
  }
 },
 "nbformat": 4,
 "nbformat_minor": 5
}
