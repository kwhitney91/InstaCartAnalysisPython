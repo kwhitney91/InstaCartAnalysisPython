{
 "cells": [
  {
   "cell_type": "markdown",
   "id": "b82418fb",
   "metadata": {},
   "source": [
    "#01. Importing libraries"
   ]
  },
  {
   "cell_type": "code",
   "execution_count": 1,
   "id": "0457c17e",
   "metadata": {},
   "outputs": [],
   "source": [
    "# Import libraries\n",
    "import pandas as pd\n",
    "import numpy as np\n",
    "import os"
   ]
  },
  {
   "cell_type": "markdown",
   "id": "3f2a5e6b",
   "metadata": {},
   "source": [
    "#02. Python Data Types"
   ]
  },
  {
   "cell_type": "code",
   "execution_count": 24,
   "id": "ca684f5c",
   "metadata": {},
   "outputs": [
    {
     "data": {
      "text/plain": [
       "100"
      ]
     },
     "execution_count": 24,
     "metadata": {},
     "output_type": "execute_result"
    }
   ],
   "source": [
    "50 + 50"
   ]
  },
  {
   "cell_type": "code",
   "execution_count": 22,
   "id": "6042478f",
   "metadata": {},
   "outputs": [
    {
     "data": {
      "text/plain": [
       "100"
      ]
     },
     "execution_count": 22,
     "metadata": {},
     "output_type": "execute_result"
    }
   ],
   "source": [
    "4 * 25"
   ]
  },
  {
   "cell_type": "code",
   "execution_count": 23,
   "id": "9575c47e",
   "metadata": {},
   "outputs": [
    {
     "data": {
      "text/plain": [
       "100"
      ]
     },
     "execution_count": 23,
     "metadata": {},
     "output_type": "execute_result"
    }
   ],
   "source": [
    "150-50"
   ]
  },
  {
   "cell_type": "code",
   "execution_count": 25,
   "id": "a3c3cfd1",
   "metadata": {},
   "outputs": [],
   "source": [
    "x= 5.75"
   ]
  },
  {
   "cell_type": "code",
   "execution_count": 27,
   "id": "1188211b",
   "metadata": {},
   "outputs": [],
   "source": [
    "y = 11.11"
   ]
  },
  {
   "cell_type": "code",
   "execution_count": 28,
   "id": "698d0d0c",
   "metadata": {},
   "outputs": [
    {
     "data": {
      "text/plain": [
       "1.932173913043478"
      ]
     },
     "execution_count": 28,
     "metadata": {},
     "output_type": "execute_result"
    }
   ],
   "source": [
    "y / x"
   ]
  },
  {
   "cell_type": "code",
   "execution_count": 30,
   "id": "a7164eca",
   "metadata": {},
   "outputs": [],
   "source": [
    "z = 'Data'"
   ]
  },
  {
   "cell_type": "code",
   "execution_count": 31,
   "id": "58492583",
   "metadata": {},
   "outputs": [],
   "source": [
    "q = 'Analyst'"
   ]
  },
  {
   "cell_type": "code",
   "execution_count": 33,
   "id": "889fea01",
   "metadata": {},
   "outputs": [
    {
     "data": {
      "text/plain": [
       "'Data Analyst'"
      ]
     },
     "execution_count": 33,
     "metadata": {},
     "output_type": "execute_result"
    }
   ],
   "source": [
    "z + ' ' + q"
   ]
  },
  {
   "cell_type": "code",
   "execution_count": 34,
   "id": "e60358f7",
   "metadata": {},
   "outputs": [],
   "source": [
    "w = 'I'"
   ]
  },
  {
   "cell_type": "code",
   "execution_count": 35,
   "id": "87c242ad",
   "metadata": {},
   "outputs": [],
   "source": [
    "e = 'would'"
   ]
  },
  {
   "cell_type": "code",
   "execution_count": 36,
   "id": "43205784",
   "metadata": {},
   "outputs": [],
   "source": [
    "r = 'like'"
   ]
  },
  {
   "cell_type": "code",
   "execution_count": 37,
   "id": "e62b06ec",
   "metadata": {},
   "outputs": [],
   "source": [
    "t = 'to'"
   ]
  },
  {
   "cell_type": "code",
   "execution_count": 38,
   "id": "1b7ef01b",
   "metadata": {},
   "outputs": [],
   "source": [
    "u = 'become'"
   ]
  },
  {
   "cell_type": "code",
   "execution_count": 39,
   "id": "a42328a3",
   "metadata": {},
   "outputs": [],
   "source": [
    "i = 'a'"
   ]
  },
  {
   "cell_type": "code",
   "execution_count": 42,
   "id": "914630de",
   "metadata": {},
   "outputs": [
    {
     "data": {
      "text/plain": [
       "'I would like to become a Data Analyst'"
      ]
     },
     "execution_count": 42,
     "metadata": {},
     "output_type": "execute_result"
    }
   ],
   "source": [
    "w + ' ' + e + ' ' + r + ' ' + t + ' ' + u + ' ' + i + ' ' + z + ' ' + q"
   ]
  },
  {
   "cell_type": "code",
   "execution_count": 44,
   "id": "0d264592",
   "metadata": {},
   "outputs": [],
   "source": [
    "o = 'How'"
   ]
  },
  {
   "cell_type": "code",
   "execution_count": 51,
   "id": "ae986322",
   "metadata": {},
   "outputs": [],
   "source": [
    "p = 'are'"
   ]
  },
  {
   "cell_type": "code",
   "execution_count": 46,
   "id": "97e122c3",
   "metadata": {},
   "outputs": [],
   "source": [
    "a = 'you'"
   ]
  },
  {
   "cell_type": "code",
   "execution_count": 48,
   "id": "fadbf71d",
   "metadata": {},
   "outputs": [],
   "source": [
    "s = '?'"
   ]
  },
  {
   "cell_type": "code",
   "execution_count": 52,
   "id": "a1e8ed77",
   "metadata": {},
   "outputs": [
    {
     "data": {
      "text/plain": [
       "'How are you?'"
      ]
     },
     "execution_count": 52,
     "metadata": {},
     "output_type": "execute_result"
    }
   ],
   "source": [
    "o  + ' ' + p  + ' ' + a   + s"
   ]
  },
  {
   "cell_type": "code",
   "execution_count": 53,
   "id": "2153c735",
   "metadata": {},
   "outputs": [
    {
     "data": {
      "text/plain": [
       "'DataDataDataDataDataDataDataDataDataDataDataDataDataDataDataDataDataDataDataDataDataDataDataDataDataDataDataDataDataDataDataDataDataDataDataDataDataDataDataDataDataDataDataDataDataDataDataDataDataDataDataDataDataDataDataDataDataDataDataDataDataDataDataDataDataDataDataDataDataDataDataDataDataDataDataDataDataDataDataDataDataDataDataDataDataDataDataDataDataDataDataDataDataDataDataDataDataDataDataData'"
      ]
     },
     "execution_count": 53,
     "metadata": {},
     "output_type": "execute_result"
    }
   ],
   "source": [
    "z * 100"
   ]
  }
 ],
 "metadata": {
  "kernelspec": {
   "display_name": "Python 3 (ipykernel)",
   "language": "python",
   "name": "python3"
  },
  "language_info": {
   "codemirror_mode": {
    "name": "ipython",
    "version": 3
   },
   "file_extension": ".py",
   "mimetype": "text/x-python",
   "name": "python",
   "nbconvert_exporter": "python",
   "pygments_lexer": "ipython3",
   "version": "3.11.4"
  }
 },
 "nbformat": 4,
 "nbformat_minor": 5
}
