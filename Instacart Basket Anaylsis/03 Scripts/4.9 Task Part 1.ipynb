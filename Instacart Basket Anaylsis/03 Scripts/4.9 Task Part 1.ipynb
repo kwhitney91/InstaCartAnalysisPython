{
 "cells": [
  {
   "cell_type": "markdown",
   "id": "cecbe2fc-bbbc-44e5-8e35-c79acad3bd51",
   "metadata": {},
   "source": [
    "# Task 4.9 Part 1 - Intro to Data Visualization with Python\n",
    "\n",
    "Steps\n",
    "1-Import your analysis libraries, as well as your new customer data set as a dataframe.\n",
    "\n",
    "2-Wrangle the data so that it follows consistent logic; for example, rename columns with illogical names and drop columns that don’t add anything to your analysis.\n",
    "\n",
    "3-Complete the fundamental data quality and consistency checks you’ve learned throughout this Achievement; for example, check for and address missing values and duplicates, and convert any mixed-type data.\n",
    "\n",
    "4-Combine your customer data with the rest of your prepared Instacart data. (Hint: Make sure the key columns are the same data type!)\n",
    "\n",
    "5-Export this new dataframe as a pickle file so you can continue to use it in the second part of this task."
   ]
  },
  {
   "cell_type": "markdown",
   "id": "169d59e3-e400-4fa2-9205-554ff2195c80",
   "metadata": {},
   "source": [
    "Step 1- Import databases and libraries"
   ]
  },
  {
   "cell_type": "code",
   "execution_count": 2,
   "id": "d7253e09-82a3-41cd-aad5-81db529d90c9",
   "metadata": {
    "tags": []
   },
   "outputs": [],
   "source": [
    "#import Libraries\n",
    "import pandas as pd\n",
    "import numpy as np\n",
    "import os\n",
    "import matplotlib.pyplot as plt\n",
    "import seaborn as sns\n",
    "import scipy"
   ]
  },
  {
   "cell_type": "code",
   "execution_count": 3,
   "id": "beeae705-34f7-4c9f-99a6-d3f11e88733f",
   "metadata": {
    "tags": []
   },
   "outputs": [],
   "source": [
    "# Import Database\n",
    "path = r'C:\\Users\\kenwh'"
   ]
  },
  {
   "cell_type": "code",
   "execution_count": 3,
   "id": "afce838e-60c3-4f97-b352-6c7751b27aae",
   "metadata": {
    "tags": []
   },
   "outputs": [
    {
     "data": {
      "text/plain": [
       "'C:\\\\Users\\\\kenwh'"
      ]
     },
     "execution_count": 3,
     "metadata": {},
     "output_type": "execute_result"
    }
   ],
   "source": [
    "path"
   ]
  },
  {
   "cell_type": "code",
   "execution_count": 4,
   "id": "2130f1b4-bc3d-42f0-a181-d9e35d5bef76",
   "metadata": {
    "tags": []
   },
   "outputs": [],
   "source": [
    "df_customer_data = pd.read_csv(os.path.join(path,'Instacart Basket Anaylsis', '02 Data', 'Original Data','customers.csv' ), index_col = False)"
   ]
  },
  {
   "cell_type": "code",
   "execution_count": 5,
   "id": "f02db02b-71ad-4029-8a2b-3f9b66ae0109",
   "metadata": {
    "tags": []
   },
   "outputs": [
    {
     "data": {
      "text/html": [
       "<div>\n",
       "<style scoped>\n",
       "    .dataframe tbody tr th:only-of-type {\n",
       "        vertical-align: middle;\n",
       "    }\n",
       "\n",
       "    .dataframe tbody tr th {\n",
       "        vertical-align: top;\n",
       "    }\n",
       "\n",
       "    .dataframe thead th {\n",
       "        text-align: right;\n",
       "    }\n",
       "</style>\n",
       "<table border=\"1\" class=\"dataframe\">\n",
       "  <thead>\n",
       "    <tr style=\"text-align: right;\">\n",
       "      <th></th>\n",
       "      <th>user_id</th>\n",
       "      <th>First Name</th>\n",
       "      <th>Surnam</th>\n",
       "      <th>Gender</th>\n",
       "      <th>STATE</th>\n",
       "      <th>Age</th>\n",
       "      <th>date_joined</th>\n",
       "      <th>n_dependants</th>\n",
       "      <th>fam_status</th>\n",
       "      <th>income</th>\n",
       "    </tr>\n",
       "  </thead>\n",
       "  <tbody>\n",
       "    <tr>\n",
       "      <th>0</th>\n",
       "      <td>26711</td>\n",
       "      <td>Deborah</td>\n",
       "      <td>Esquivel</td>\n",
       "      <td>Female</td>\n",
       "      <td>Missouri</td>\n",
       "      <td>48</td>\n",
       "      <td>1/1/2017</td>\n",
       "      <td>3</td>\n",
       "      <td>married</td>\n",
       "      <td>165665</td>\n",
       "    </tr>\n",
       "    <tr>\n",
       "      <th>1</th>\n",
       "      <td>33890</td>\n",
       "      <td>Patricia</td>\n",
       "      <td>Hart</td>\n",
       "      <td>Female</td>\n",
       "      <td>New Mexico</td>\n",
       "      <td>36</td>\n",
       "      <td>1/1/2017</td>\n",
       "      <td>0</td>\n",
       "      <td>single</td>\n",
       "      <td>59285</td>\n",
       "    </tr>\n",
       "    <tr>\n",
       "      <th>2</th>\n",
       "      <td>65803</td>\n",
       "      <td>Kenneth</td>\n",
       "      <td>Farley</td>\n",
       "      <td>Male</td>\n",
       "      <td>Idaho</td>\n",
       "      <td>35</td>\n",
       "      <td>1/1/2017</td>\n",
       "      <td>2</td>\n",
       "      <td>married</td>\n",
       "      <td>99568</td>\n",
       "    </tr>\n",
       "    <tr>\n",
       "      <th>3</th>\n",
       "      <td>125935</td>\n",
       "      <td>Michelle</td>\n",
       "      <td>Hicks</td>\n",
       "      <td>Female</td>\n",
       "      <td>Iowa</td>\n",
       "      <td>40</td>\n",
       "      <td>1/1/2017</td>\n",
       "      <td>0</td>\n",
       "      <td>single</td>\n",
       "      <td>42049</td>\n",
       "    </tr>\n",
       "    <tr>\n",
       "      <th>4</th>\n",
       "      <td>130797</td>\n",
       "      <td>Ann</td>\n",
       "      <td>Gilmore</td>\n",
       "      <td>Female</td>\n",
       "      <td>Maryland</td>\n",
       "      <td>26</td>\n",
       "      <td>1/1/2017</td>\n",
       "      <td>1</td>\n",
       "      <td>married</td>\n",
       "      <td>40374</td>\n",
       "    </tr>\n",
       "  </tbody>\n",
       "</table>\n",
       "</div>"
      ],
      "text/plain": [
       "   user_id First Name    Surnam  Gender       STATE  Age date_joined  \\\n",
       "0    26711    Deborah  Esquivel  Female    Missouri   48    1/1/2017   \n",
       "1    33890   Patricia      Hart  Female  New Mexico   36    1/1/2017   \n",
       "2    65803    Kenneth    Farley    Male       Idaho   35    1/1/2017   \n",
       "3   125935   Michelle     Hicks  Female        Iowa   40    1/1/2017   \n",
       "4   130797        Ann   Gilmore  Female    Maryland   26    1/1/2017   \n",
       "\n",
       "   n_dependants fam_status  income  \n",
       "0             3    married  165665  \n",
       "1             0     single   59285  \n",
       "2             2    married   99568  \n",
       "3             0     single   42049  \n",
       "4             1    married   40374  "
      ]
     },
     "execution_count": 5,
     "metadata": {},
     "output_type": "execute_result"
    }
   ],
   "source": [
    "df_customer_data.head()"
   ]
  },
  {
   "cell_type": "markdown",
   "id": "a0709673-db65-4f3d-8296-554bd2bb34d3",
   "metadata": {},
   "source": [
    "# Part 4- Wrangle the data so that it follows consistent logic; for example, rename columns with illogical names and drop columns that don’t add anything to your analysis."
   ]
  },
  {
   "cell_type": "code",
   "execution_count": 6,
   "id": "0bac37b0-aaab-4112-ac77-8107be02ea96",
   "metadata": {
    "tags": []
   },
   "outputs": [],
   "source": [
    "# Rename Columns\n",
    "df_customer_data.rename(columns={'Surnam':'Last_Name', 'fam_status':'family_status','STATE':'State','n_dependants':'dependants',\n",
    "                  }, inplace=True)\n"
   ]
  },
  {
   "cell_type": "code",
   "execution_count": 7,
   "id": "c80b9440-6290-464d-9c1c-9db3fcdaa839",
   "metadata": {
    "tags": []
   },
   "outputs": [
    {
     "data": {
      "text/html": [
       "<div>\n",
       "<style scoped>\n",
       "    .dataframe tbody tr th:only-of-type {\n",
       "        vertical-align: middle;\n",
       "    }\n",
       "\n",
       "    .dataframe tbody tr th {\n",
       "        vertical-align: top;\n",
       "    }\n",
       "\n",
       "    .dataframe thead th {\n",
       "        text-align: right;\n",
       "    }\n",
       "</style>\n",
       "<table border=\"1\" class=\"dataframe\">\n",
       "  <thead>\n",
       "    <tr style=\"text-align: right;\">\n",
       "      <th></th>\n",
       "      <th>user_id</th>\n",
       "      <th>First Name</th>\n",
       "      <th>Last_Name</th>\n",
       "      <th>Gender</th>\n",
       "      <th>State</th>\n",
       "      <th>Age</th>\n",
       "      <th>date_joined</th>\n",
       "      <th>dependants</th>\n",
       "      <th>family_status</th>\n",
       "      <th>income</th>\n",
       "    </tr>\n",
       "  </thead>\n",
       "  <tbody>\n",
       "    <tr>\n",
       "      <th>0</th>\n",
       "      <td>26711</td>\n",
       "      <td>Deborah</td>\n",
       "      <td>Esquivel</td>\n",
       "      <td>Female</td>\n",
       "      <td>Missouri</td>\n",
       "      <td>48</td>\n",
       "      <td>1/1/2017</td>\n",
       "      <td>3</td>\n",
       "      <td>married</td>\n",
       "      <td>165665</td>\n",
       "    </tr>\n",
       "    <tr>\n",
       "      <th>1</th>\n",
       "      <td>33890</td>\n",
       "      <td>Patricia</td>\n",
       "      <td>Hart</td>\n",
       "      <td>Female</td>\n",
       "      <td>New Mexico</td>\n",
       "      <td>36</td>\n",
       "      <td>1/1/2017</td>\n",
       "      <td>0</td>\n",
       "      <td>single</td>\n",
       "      <td>59285</td>\n",
       "    </tr>\n",
       "    <tr>\n",
       "      <th>2</th>\n",
       "      <td>65803</td>\n",
       "      <td>Kenneth</td>\n",
       "      <td>Farley</td>\n",
       "      <td>Male</td>\n",
       "      <td>Idaho</td>\n",
       "      <td>35</td>\n",
       "      <td>1/1/2017</td>\n",
       "      <td>2</td>\n",
       "      <td>married</td>\n",
       "      <td>99568</td>\n",
       "    </tr>\n",
       "    <tr>\n",
       "      <th>3</th>\n",
       "      <td>125935</td>\n",
       "      <td>Michelle</td>\n",
       "      <td>Hicks</td>\n",
       "      <td>Female</td>\n",
       "      <td>Iowa</td>\n",
       "      <td>40</td>\n",
       "      <td>1/1/2017</td>\n",
       "      <td>0</td>\n",
       "      <td>single</td>\n",
       "      <td>42049</td>\n",
       "    </tr>\n",
       "    <tr>\n",
       "      <th>4</th>\n",
       "      <td>130797</td>\n",
       "      <td>Ann</td>\n",
       "      <td>Gilmore</td>\n",
       "      <td>Female</td>\n",
       "      <td>Maryland</td>\n",
       "      <td>26</td>\n",
       "      <td>1/1/2017</td>\n",
       "      <td>1</td>\n",
       "      <td>married</td>\n",
       "      <td>40374</td>\n",
       "    </tr>\n",
       "  </tbody>\n",
       "</table>\n",
       "</div>"
      ],
      "text/plain": [
       "   user_id First Name Last_Name  Gender       State  Age date_joined  \\\n",
       "0    26711    Deborah  Esquivel  Female    Missouri   48    1/1/2017   \n",
       "1    33890   Patricia      Hart  Female  New Mexico   36    1/1/2017   \n",
       "2    65803    Kenneth    Farley    Male       Idaho   35    1/1/2017   \n",
       "3   125935   Michelle     Hicks  Female        Iowa   40    1/1/2017   \n",
       "4   130797        Ann   Gilmore  Female    Maryland   26    1/1/2017   \n",
       "\n",
       "   dependants family_status  income  \n",
       "0           3       married  165665  \n",
       "1           0        single   59285  \n",
       "2           2       married   99568  \n",
       "3           0        single   42049  \n",
       "4           1       married   40374  "
      ]
     },
     "execution_count": 7,
     "metadata": {},
     "output_type": "execute_result"
    }
   ],
   "source": [
    "df_customer_data.head()"
   ]
  },
  {
   "cell_type": "markdown",
   "id": "c72b9754-d385-4eaa-a2dc-31e35427285a",
   "metadata": {},
   "source": [
    "# Step 5 - Complete the fundamental data quality and consistency checks you’ve learned throughout this Achievement; for example, check for and address missing values and duplicates, and convert any mixed-type data."
   ]
  },
  {
   "cell_type": "code",
   "execution_count": 8,
   "id": "a05e6add-2d14-4aaa-a366-93efde518d7c",
   "metadata": {
    "tags": []
   },
   "outputs": [
    {
     "data": {
      "text/html": [
       "<div>\n",
       "<style scoped>\n",
       "    .dataframe tbody tr th:only-of-type {\n",
       "        vertical-align: middle;\n",
       "    }\n",
       "\n",
       "    .dataframe tbody tr th {\n",
       "        vertical-align: top;\n",
       "    }\n",
       "\n",
       "    .dataframe thead th {\n",
       "        text-align: right;\n",
       "    }\n",
       "</style>\n",
       "<table border=\"1\" class=\"dataframe\">\n",
       "  <thead>\n",
       "    <tr style=\"text-align: right;\">\n",
       "      <th></th>\n",
       "      <th>user_id</th>\n",
       "      <th>First Name</th>\n",
       "      <th>Last_Name</th>\n",
       "      <th>Gender</th>\n",
       "      <th>State</th>\n",
       "      <th>Age</th>\n",
       "      <th>date_joined</th>\n",
       "      <th>dependants</th>\n",
       "      <th>family_status</th>\n",
       "      <th>income</th>\n",
       "    </tr>\n",
       "  </thead>\n",
       "  <tbody>\n",
       "  </tbody>\n",
       "</table>\n",
       "</div>"
      ],
      "text/plain": [
       "Empty DataFrame\n",
       "Columns: [user_id, First Name, Last_Name, Gender, State, Age, date_joined, dependants, family_status, income]\n",
       "Index: []"
      ]
     },
     "execution_count": 8,
     "metadata": {},
     "output_type": "execute_result"
    }
   ],
   "source": [
    "# check for duplicates\n",
    "duplicated = df_customer_data[df_customer_data.duplicated()]\n",
    "duplicated"
   ]
  },
  {
   "cell_type": "markdown",
   "id": "98727fc9-6005-4d2e-bc05-e4a035fb0084",
   "metadata": {},
   "source": [
    "No duplicated rows\n",
    "Next step- check for missing values"
   ]
  },
  {
   "cell_type": "code",
   "execution_count": 9,
   "id": "063fc6a0-edf2-48df-b1cd-b3c9cb5f3c92",
   "metadata": {
    "tags": []
   },
   "outputs": [
    {
     "data": {
      "text/plain": [
       "user_id              0\n",
       "First Name       11259\n",
       "Last_Name            0\n",
       "Gender               0\n",
       "State                0\n",
       "Age                  0\n",
       "date_joined          0\n",
       "dependants           0\n",
       "family_status        0\n",
       "income               0\n",
       "dtype: int64"
      ]
     },
     "execution_count": 9,
     "metadata": {},
     "output_type": "execute_result"
    }
   ],
   "source": [
    "df_customer_data.isnull().sum()"
   ]
  },
  {
   "cell_type": "code",
   "execution_count": 10,
   "id": "b929ea88-ee41-418f-8aa2-32f30ea88bfa",
   "metadata": {
    "tags": []
   },
   "outputs": [
    {
     "data": {
      "text/html": [
       "<div>\n",
       "<style scoped>\n",
       "    .dataframe tbody tr th:only-of-type {\n",
       "        vertical-align: middle;\n",
       "    }\n",
       "\n",
       "    .dataframe tbody tr th {\n",
       "        vertical-align: top;\n",
       "    }\n",
       "\n",
       "    .dataframe thead th {\n",
       "        text-align: right;\n",
       "    }\n",
       "</style>\n",
       "<table border=\"1\" class=\"dataframe\">\n",
       "  <thead>\n",
       "    <tr style=\"text-align: right;\">\n",
       "      <th></th>\n",
       "      <th>user_id</th>\n",
       "      <th>First Name</th>\n",
       "      <th>Last_Name</th>\n",
       "      <th>Gender</th>\n",
       "      <th>State</th>\n",
       "      <th>Age</th>\n",
       "      <th>date_joined</th>\n",
       "      <th>dependants</th>\n",
       "      <th>family_status</th>\n",
       "      <th>income</th>\n",
       "    </tr>\n",
       "  </thead>\n",
       "  <tbody>\n",
       "    <tr>\n",
       "      <th>53</th>\n",
       "      <td>76659</td>\n",
       "      <td>NaN</td>\n",
       "      <td>Gilbert</td>\n",
       "      <td>Male</td>\n",
       "      <td>Colorado</td>\n",
       "      <td>26</td>\n",
       "      <td>1/1/2017</td>\n",
       "      <td>2</td>\n",
       "      <td>married</td>\n",
       "      <td>41709</td>\n",
       "    </tr>\n",
       "    <tr>\n",
       "      <th>73</th>\n",
       "      <td>13738</td>\n",
       "      <td>NaN</td>\n",
       "      <td>Frost</td>\n",
       "      <td>Female</td>\n",
       "      <td>Louisiana</td>\n",
       "      <td>39</td>\n",
       "      <td>1/1/2017</td>\n",
       "      <td>0</td>\n",
       "      <td>single</td>\n",
       "      <td>82518</td>\n",
       "    </tr>\n",
       "    <tr>\n",
       "      <th>82</th>\n",
       "      <td>89996</td>\n",
       "      <td>NaN</td>\n",
       "      <td>Dawson</td>\n",
       "      <td>Female</td>\n",
       "      <td>Oregon</td>\n",
       "      <td>52</td>\n",
       "      <td>1/1/2017</td>\n",
       "      <td>3</td>\n",
       "      <td>married</td>\n",
       "      <td>117099</td>\n",
       "    </tr>\n",
       "    <tr>\n",
       "      <th>99</th>\n",
       "      <td>96166</td>\n",
       "      <td>NaN</td>\n",
       "      <td>Oconnor</td>\n",
       "      <td>Male</td>\n",
       "      <td>Oklahoma</td>\n",
       "      <td>51</td>\n",
       "      <td>1/1/2017</td>\n",
       "      <td>1</td>\n",
       "      <td>married</td>\n",
       "      <td>155673</td>\n",
       "    </tr>\n",
       "    <tr>\n",
       "      <th>105</th>\n",
       "      <td>29778</td>\n",
       "      <td>NaN</td>\n",
       "      <td>Dawson</td>\n",
       "      <td>Female</td>\n",
       "      <td>Utah</td>\n",
       "      <td>63</td>\n",
       "      <td>1/1/2017</td>\n",
       "      <td>3</td>\n",
       "      <td>married</td>\n",
       "      <td>151819</td>\n",
       "    </tr>\n",
       "    <tr>\n",
       "      <th>...</th>\n",
       "      <td>...</td>\n",
       "      <td>...</td>\n",
       "      <td>...</td>\n",
       "      <td>...</td>\n",
       "      <td>...</td>\n",
       "      <td>...</td>\n",
       "      <td>...</td>\n",
       "      <td>...</td>\n",
       "      <td>...</td>\n",
       "      <td>...</td>\n",
       "    </tr>\n",
       "    <tr>\n",
       "      <th>206038</th>\n",
       "      <td>121317</td>\n",
       "      <td>NaN</td>\n",
       "      <td>Melton</td>\n",
       "      <td>Male</td>\n",
       "      <td>Pennsylvania</td>\n",
       "      <td>28</td>\n",
       "      <td>3/31/2020</td>\n",
       "      <td>3</td>\n",
       "      <td>married</td>\n",
       "      <td>87783</td>\n",
       "    </tr>\n",
       "    <tr>\n",
       "      <th>206044</th>\n",
       "      <td>200799</td>\n",
       "      <td>NaN</td>\n",
       "      <td>Copeland</td>\n",
       "      <td>Female</td>\n",
       "      <td>Hawaii</td>\n",
       "      <td>52</td>\n",
       "      <td>4/1/2020</td>\n",
       "      <td>2</td>\n",
       "      <td>married</td>\n",
       "      <td>108488</td>\n",
       "    </tr>\n",
       "    <tr>\n",
       "      <th>206090</th>\n",
       "      <td>167394</td>\n",
       "      <td>NaN</td>\n",
       "      <td>Frost</td>\n",
       "      <td>Female</td>\n",
       "      <td>Hawaii</td>\n",
       "      <td>61</td>\n",
       "      <td>4/1/2020</td>\n",
       "      <td>1</td>\n",
       "      <td>married</td>\n",
       "      <td>45275</td>\n",
       "    </tr>\n",
       "    <tr>\n",
       "      <th>206162</th>\n",
       "      <td>187532</td>\n",
       "      <td>NaN</td>\n",
       "      <td>Floyd</td>\n",
       "      <td>Female</td>\n",
       "      <td>California</td>\n",
       "      <td>39</td>\n",
       "      <td>4/1/2020</td>\n",
       "      <td>0</td>\n",
       "      <td>single</td>\n",
       "      <td>56325</td>\n",
       "    </tr>\n",
       "    <tr>\n",
       "      <th>206171</th>\n",
       "      <td>116898</td>\n",
       "      <td>NaN</td>\n",
       "      <td>Delgado</td>\n",
       "      <td>Female</td>\n",
       "      <td>Colorado</td>\n",
       "      <td>23</td>\n",
       "      <td>4/1/2020</td>\n",
       "      <td>2</td>\n",
       "      <td>married</td>\n",
       "      <td>59222</td>\n",
       "    </tr>\n",
       "  </tbody>\n",
       "</table>\n",
       "<p>11259 rows × 10 columns</p>\n",
       "</div>"
      ],
      "text/plain": [
       "        user_id First Name Last_Name  Gender         State  Age date_joined  \\\n",
       "53        76659        NaN   Gilbert    Male      Colorado   26    1/1/2017   \n",
       "73        13738        NaN     Frost  Female     Louisiana   39    1/1/2017   \n",
       "82        89996        NaN    Dawson  Female        Oregon   52    1/1/2017   \n",
       "99        96166        NaN   Oconnor    Male      Oklahoma   51    1/1/2017   \n",
       "105       29778        NaN    Dawson  Female          Utah   63    1/1/2017   \n",
       "...         ...        ...       ...     ...           ...  ...         ...   \n",
       "206038   121317        NaN    Melton    Male  Pennsylvania   28   3/31/2020   \n",
       "206044   200799        NaN  Copeland  Female        Hawaii   52    4/1/2020   \n",
       "206090   167394        NaN     Frost  Female        Hawaii   61    4/1/2020   \n",
       "206162   187532        NaN     Floyd  Female    California   39    4/1/2020   \n",
       "206171   116898        NaN   Delgado  Female      Colorado   23    4/1/2020   \n",
       "\n",
       "        dependants family_status  income  \n",
       "53               2       married   41709  \n",
       "73               0        single   82518  \n",
       "82               3       married  117099  \n",
       "99               1       married  155673  \n",
       "105              3       married  151819  \n",
       "...            ...           ...     ...  \n",
       "206038           3       married   87783  \n",
       "206044           2       married  108488  \n",
       "206090           1       married   45275  \n",
       "206162           0        single   56325  \n",
       "206171           2       married   59222  \n",
       "\n",
       "[11259 rows x 10 columns]"
      ]
     },
     "execution_count": 10,
     "metadata": {},
     "output_type": "execute_result"
    }
   ],
   "source": [
    "df_customer_data[df_customer_data['First Name'].isnull()]"
   ]
  },
  {
   "cell_type": "markdown",
   "id": "ff6ac4a0-5c9a-4b1e-970a-a46323705d73",
   "metadata": {},
   "source": [
    "The missing values are in the first name column, which we can leave them as is and only deal with them if needed later."
   ]
  },
  {
   "cell_type": "markdown",
   "id": "df229b1d-6d8c-4f78-96e9-9296398fe166",
   "metadata": {},
   "source": [
    "#check for mixed type data"
   ]
  },
  {
   "cell_type": "code",
   "execution_count": 11,
   "id": "fdcd124f-8e0e-40db-b2dd-fac4437a5726",
   "metadata": {
    "tags": []
   },
   "outputs": [
    {
     "name": "stdout",
     "output_type": "stream",
     "text": [
      "<class 'pandas.core.frame.DataFrame'>\n",
      "RangeIndex: 206209 entries, 0 to 206208\n",
      "Data columns (total 10 columns):\n",
      " #   Column         Non-Null Count   Dtype \n",
      "---  ------         --------------   ----- \n",
      " 0   user_id        206209 non-null  int64 \n",
      " 1   First Name     194950 non-null  object\n",
      " 2   Last_Name      206209 non-null  object\n",
      " 3   Gender         206209 non-null  object\n",
      " 4   State          206209 non-null  object\n",
      " 5   Age            206209 non-null  int64 \n",
      " 6   date_joined    206209 non-null  object\n",
      " 7   dependants     206209 non-null  int64 \n",
      " 8   family_status  206209 non-null  object\n",
      " 9   income         206209 non-null  int64 \n",
      "dtypes: int64(4), object(6)\n",
      "memory usage: 15.7+ MB\n"
     ]
    }
   ],
   "source": [
    "df_customer_data.info()"
   ]
  },
  {
   "cell_type": "code",
   "execution_count": 12,
   "id": "05488725-248b-4457-b0e8-ae6590d9415b",
   "metadata": {
    "tags": []
   },
   "outputs": [
    {
     "data": {
      "text/plain": [
       "user_id           int64\n",
       "First Name       object\n",
       "Last_Name        object\n",
       "Gender           object\n",
       "State            object\n",
       "Age               int64\n",
       "date_joined      object\n",
       "dependants        int64\n",
       "family_status    object\n",
       "income            int64\n",
       "dtype: object"
      ]
     },
     "execution_count": 12,
     "metadata": {},
     "output_type": "execute_result"
    }
   ],
   "source": [
    "df_customer_data.dtypes"
   ]
  },
  {
   "cell_type": "markdown",
   "id": "c1b9ea26-9a2e-4e8f-b177-b26afc9ca594",
   "metadata": {},
   "source": [
    "everything looks good except for the date_joined column which we want to swtich to a date data type"
   ]
  },
  {
   "cell_type": "code",
   "execution_count": 13,
   "id": "e0a7111f-5277-4504-8bf7-054fcc3c1a46",
   "metadata": {
    "tags": []
   },
   "outputs": [],
   "source": [
    "df_customer_data['date_joined']=pd.to_datetime(df_customer_data['date_joined'])"
   ]
  },
  {
   "cell_type": "code",
   "execution_count": 14,
   "id": "e3f878ad-dc62-4e83-9e82-87c872c3389b",
   "metadata": {
    "tags": []
   },
   "outputs": [
    {
     "data": {
      "text/plain": [
       "user_id                   int64\n",
       "First Name               object\n",
       "Last_Name                object\n",
       "Gender                   object\n",
       "State                    object\n",
       "Age                       int64\n",
       "date_joined      datetime64[ns]\n",
       "dependants                int64\n",
       "family_status            object\n",
       "income                    int64\n",
       "dtype: object"
      ]
     },
     "execution_count": 14,
     "metadata": {},
     "output_type": "execute_result"
    }
   ],
   "source": [
    "df_customer_data.dtypes"
   ]
  },
  {
   "cell_type": "markdown",
   "id": "88ca4b8b-566d-450b-b721-02c24a49ce74",
   "metadata": {},
   "source": [
    "# Step 6- Combine your customer data with the rest of your prepared Instacart data"
   ]
  },
  {
   "cell_type": "markdown",
   "id": "7668b4ab-2d4d-4b87-9391-53ffd47cb8ab",
   "metadata": {},
   "source": [
    "Load prepared dataframe"
   ]
  },
  {
   "cell_type": "code",
   "execution_count": 15,
   "id": "a78f7f92-f64c-4886-9c21-739ccb4215d7",
   "metadata": {
    "tags": []
   },
   "outputs": [],
   "source": [
    "df_ords_prods_merge = pd.read_pickle(os.path.join(path,'Instacart Basket Anaylsis', '02 Data', 'Prepared Data', 'ords_prod_merge_new.pkl'))"
   ]
  },
  {
   "cell_type": "code",
   "execution_count": 16,
   "id": "2f04746a-a941-4b60-aa9f-40ed27e51335",
   "metadata": {
    "tags": []
   },
   "outputs": [],
   "source": [
    "#created a raondom 1,000,000 rows to create a smaller dataframe with less memory. As instructed to do by tutor\n",
    "\n",
    "df_sample = df_ords_prods_merge.sample(n=1000000, random_state=42)"
   ]
  },
  {
   "cell_type": "code",
   "execution_count": 17,
   "id": "7ed3a899-6808-4264-9367-a676e3bd378c",
   "metadata": {
    "tags": []
   },
   "outputs": [
    {
     "data": {
      "text/html": [
       "<div>\n",
       "<style scoped>\n",
       "    .dataframe tbody tr th:only-of-type {\n",
       "        vertical-align: middle;\n",
       "    }\n",
       "\n",
       "    .dataframe tbody tr th {\n",
       "        vertical-align: top;\n",
       "    }\n",
       "\n",
       "    .dataframe thead th {\n",
       "        text-align: right;\n",
       "    }\n",
       "</style>\n",
       "<table border=\"1\" class=\"dataframe\">\n",
       "  <thead>\n",
       "    <tr style=\"text-align: right;\">\n",
       "      <th></th>\n",
       "      <th>order_id</th>\n",
       "      <th>user_id</th>\n",
       "      <th>order_number</th>\n",
       "      <th>orders_day_of_week</th>\n",
       "      <th>order_hour_of_day</th>\n",
       "      <th>days_since_prior_order</th>\n",
       "      <th>product_id</th>\n",
       "      <th>add_to_cart_order</th>\n",
       "      <th>reordered</th>\n",
       "      <th>product_name</th>\n",
       "      <th>...</th>\n",
       "      <th>_merge</th>\n",
       "      <th>price_range_loc</th>\n",
       "      <th>busiest_day</th>\n",
       "      <th>busiest_days</th>\n",
       "      <th>max_order</th>\n",
       "      <th>loyalty_flag</th>\n",
       "      <th>mean_product_price</th>\n",
       "      <th>spending_flag</th>\n",
       "      <th>median_days_between_orders</th>\n",
       "      <th>order_frequency</th>\n",
       "    </tr>\n",
       "  </thead>\n",
       "  <tbody>\n",
       "    <tr>\n",
       "      <th>2658787</th>\n",
       "      <td>1622621</td>\n",
       "      <td>153719</td>\n",
       "      <td>20</td>\n",
       "      <td>6</td>\n",
       "      <td>Average orders</td>\n",
       "      <td>13.0</td>\n",
       "      <td>27737</td>\n",
       "      <td>28</td>\n",
       "      <td>0</td>\n",
       "      <td>Brown Rice Black-Eyed Peas and Veggies Bowl</td>\n",
       "      <td>...</td>\n",
       "      <td>both</td>\n",
       "      <td>Low-range product</td>\n",
       "      <td>Regularly busy</td>\n",
       "      <td>Regularly busy</td>\n",
       "      <td>75</td>\n",
       "      <td>Loyal customer</td>\n",
       "      <td>7.721530</td>\n",
       "      <td>Low spender</td>\n",
       "      <td>4.0</td>\n",
       "      <td>Frequent_customer</td>\n",
       "    </tr>\n",
       "    <tr>\n",
       "      <th>22120498</th>\n",
       "      <td>633504</td>\n",
       "      <td>30390</td>\n",
       "      <td>8</td>\n",
       "      <td>6</td>\n",
       "      <td>Average orders</td>\n",
       "      <td>8.0</td>\n",
       "      <td>11461</td>\n",
       "      <td>1</td>\n",
       "      <td>1</td>\n",
       "      <td>White Corn Tortillas</td>\n",
       "      <td>...</td>\n",
       "      <td>both</td>\n",
       "      <td>Low-range product</td>\n",
       "      <td>Regularly busy</td>\n",
       "      <td>Regularly busy</td>\n",
       "      <td>14</td>\n",
       "      <td>Regular customer</td>\n",
       "      <td>8.515385</td>\n",
       "      <td>Low spender</td>\n",
       "      <td>8.0</td>\n",
       "      <td>Frequent_customer</td>\n",
       "    </tr>\n",
       "    <tr>\n",
       "      <th>1849057</th>\n",
       "      <td>3133596</td>\n",
       "      <td>139711</td>\n",
       "      <td>3</td>\n",
       "      <td>5</td>\n",
       "      <td>Average orders</td>\n",
       "      <td>11.0</td>\n",
       "      <td>24852</td>\n",
       "      <td>3</td>\n",
       "      <td>1</td>\n",
       "      <td>Banana</td>\n",
       "      <td>...</td>\n",
       "      <td>both</td>\n",
       "      <td>nan</td>\n",
       "      <td>Regularly busy</td>\n",
       "      <td>Regularly busy</td>\n",
       "      <td>10</td>\n",
       "      <td>New customer</td>\n",
       "      <td>8.075248</td>\n",
       "      <td>Low spender</td>\n",
       "      <td>20.0</td>\n",
       "      <td>nan</td>\n",
       "    </tr>\n",
       "    <tr>\n",
       "      <th>31648905</th>\n",
       "      <td>351881</td>\n",
       "      <td>25591</td>\n",
       "      <td>28</td>\n",
       "      <td>0</td>\n",
       "      <td>Most orders</td>\n",
       "      <td>7.0</td>\n",
       "      <td>43456</td>\n",
       "      <td>2</td>\n",
       "      <td>1</td>\n",
       "      <td>Family Size Ripple Cut Potato Chips</td>\n",
       "      <td>...</td>\n",
       "      <td>both</td>\n",
       "      <td>Low-range product</td>\n",
       "      <td>Busiest days</td>\n",
       "      <td>Busiest days</td>\n",
       "      <td>28</td>\n",
       "      <td>Regular customer</td>\n",
       "      <td>7.131963</td>\n",
       "      <td>Low spender</td>\n",
       "      <td>7.0</td>\n",
       "      <td>Frequent_customer</td>\n",
       "    </tr>\n",
       "    <tr>\n",
       "      <th>22648738</th>\n",
       "      <td>1844837</td>\n",
       "      <td>29213</td>\n",
       "      <td>30</td>\n",
       "      <td>3</td>\n",
       "      <td>Most orders</td>\n",
       "      <td>0.0</td>\n",
       "      <td>18670</td>\n",
       "      <td>1</td>\n",
       "      <td>1</td>\n",
       "      <td>Original Enriched Rice Drink</td>\n",
       "      <td>...</td>\n",
       "      <td>both</td>\n",
       "      <td>nan</td>\n",
       "      <td>Slowest days</td>\n",
       "      <td>Slowest days</td>\n",
       "      <td>30</td>\n",
       "      <td>Regular customer</td>\n",
       "      <td>7.512619</td>\n",
       "      <td>Low spender</td>\n",
       "      <td>5.0</td>\n",
       "      <td>Frequent_customer</td>\n",
       "    </tr>\n",
       "  </tbody>\n",
       "</table>\n",
       "<p>5 rows × 23 columns</p>\n",
       "</div>"
      ],
      "text/plain": [
       "          order_id  user_id  order_number  orders_day_of_week  \\\n",
       "2658787    1622621   153719            20                   6   \n",
       "22120498    633504    30390             8                   6   \n",
       "1849057    3133596   139711             3                   5   \n",
       "31648905    351881    25591            28                   0   \n",
       "22648738   1844837    29213            30                   3   \n",
       "\n",
       "         order_hour_of_day  days_since_prior_order  product_id  \\\n",
       "2658787     Average orders                    13.0       27737   \n",
       "22120498    Average orders                     8.0       11461   \n",
       "1849057     Average orders                    11.0       24852   \n",
       "31648905       Most orders                     7.0       43456   \n",
       "22648738       Most orders                     0.0       18670   \n",
       "\n",
       "          add_to_cart_order  reordered  \\\n",
       "2658787                  28          0   \n",
       "22120498                  1          1   \n",
       "1849057                   3          1   \n",
       "31648905                  2          1   \n",
       "22648738                  1          1   \n",
       "\n",
       "                                         product_name  ...  _merge  \\\n",
       "2658787   Brown Rice Black-Eyed Peas and Veggies Bowl  ...    both   \n",
       "22120498                         White Corn Tortillas  ...    both   \n",
       "1849057                                        Banana  ...    both   \n",
       "31648905          Family Size Ripple Cut Potato Chips  ...    both   \n",
       "22648738                 Original Enriched Rice Drink  ...    both   \n",
       "\n",
       "            price_range_loc     busiest_day    busiest_days max_order  \\\n",
       "2658787   Low-range product  Regularly busy  Regularly busy        75   \n",
       "22120498  Low-range product  Regularly busy  Regularly busy        14   \n",
       "1849057                 nan  Regularly busy  Regularly busy        10   \n",
       "31648905  Low-range product    Busiest days    Busiest days        28   \n",
       "22648738                nan    Slowest days    Slowest days        30   \n",
       "\n",
       "              loyalty_flag mean_product_price  spending_flag  \\\n",
       "2658787     Loyal customer           7.721530    Low spender   \n",
       "22120498  Regular customer           8.515385    Low spender   \n",
       "1849057       New customer           8.075248    Low spender   \n",
       "31648905  Regular customer           7.131963    Low spender   \n",
       "22648738  Regular customer           7.512619    Low spender   \n",
       "\n",
       "         median_days_between_orders    order_frequency  \n",
       "2658787                         4.0  Frequent_customer  \n",
       "22120498                        8.0  Frequent_customer  \n",
       "1849057                        20.0                nan  \n",
       "31648905                        7.0  Frequent_customer  \n",
       "22648738                        5.0  Frequent_customer  \n",
       "\n",
       "[5 rows x 23 columns]"
      ]
     },
     "execution_count": 17,
     "metadata": {},
     "output_type": "execute_result"
    }
   ],
   "source": [
    "df_sample.head()"
   ]
  },
  {
   "cell_type": "code",
   "execution_count": 18,
   "id": "a2be35be-f900-45ba-b4a8-6e5b527dbd14",
   "metadata": {
    "tags": []
   },
   "outputs": [
    {
     "data": {
      "text/plain": [
       "order_id                         int64\n",
       "user_id                          int64\n",
       "order_number                     int64\n",
       "orders_day_of_week               int64\n",
       "order_hour_of_day               object\n",
       "days_since_prior_order         float64\n",
       "product_id                       int64\n",
       "add_to_cart_order                int64\n",
       "reordered                        int64\n",
       "product_name                    object\n",
       "aisle_id                         int64\n",
       "department_id                    int64\n",
       "prices                         float64\n",
       "_merge                        category\n",
       "price_range_loc                 object\n",
       "busiest_day                     object\n",
       "busiest_days                    object\n",
       "max_order                        int64\n",
       "loyalty_flag                    object\n",
       "mean_product_price             float64\n",
       "spending_flag                   object\n",
       "median_days_between_orders     float64\n",
       "order_frequency                 object\n",
       "dtype: object"
      ]
     },
     "execution_count": 18,
     "metadata": {},
     "output_type": "execute_result"
    }
   ],
   "source": [
    "df_sample.dtypes"
   ]
  },
  {
   "cell_type": "code",
   "execution_count": 19,
   "id": "6e384021-e32b-422f-9d26-05612ae19c85",
   "metadata": {
    "tags": []
   },
   "outputs": [
    {
     "data": {
      "text/plain": [
       "user_id                   int64\n",
       "First Name               object\n",
       "Last_Name                object\n",
       "Gender                   object\n",
       "State                    object\n",
       "Age                       int64\n",
       "date_joined      datetime64[ns]\n",
       "dependants                int64\n",
       "family_status            object\n",
       "income                    int64\n",
       "dtype: object"
      ]
     },
     "execution_count": 19,
     "metadata": {},
     "output_type": "execute_result"
    }
   ],
   "source": [
    "df_customer_data.dtypes"
   ]
  },
  {
   "cell_type": "markdown",
   "id": "eafce487-d50f-4d32-8e51-16cee7b9fba3",
   "metadata": {},
   "source": [
    "#deal with memory issues"
   ]
  },
  {
   "cell_type": "code",
   "execution_count": 20,
   "id": "45cbef76-b749-49c1-a87b-01208949e71e",
   "metadata": {
    "tags": []
   },
   "outputs": [
    {
     "data": {
      "text/plain": [
       "Index(['order_id', 'user_id', 'order_number', 'orders_day_of_week',\n",
       "       'order_hour_of_day', 'days_since_prior_order', 'product_id',\n",
       "       'add_to_cart_order', 'reordered', 'product_name', 'aisle_id',\n",
       "       'department_id', 'prices', '_merge', 'price_range_loc', 'busiest_day',\n",
       "       'busiest_days', 'max_order', 'loyalty_flag', 'mean_product_price',\n",
       "       'spending_flag', 'median_days_between_orders', 'order_frequency'],\n",
       "      dtype='object')"
      ]
     },
     "execution_count": 20,
     "metadata": {},
     "output_type": "execute_result"
    }
   ],
   "source": [
    "df_sample.columns"
   ]
  },
  {
   "cell_type": "code",
   "execution_count": 21,
   "id": "4f01820b-35e3-4804-9efd-2b7f28278514",
   "metadata": {
    "tags": []
   },
   "outputs": [
    {
     "name": "stdout",
     "output_type": "stream",
     "text": [
      "<class 'pandas.core.frame.DataFrame'>\n",
      "Index: 1000000 entries, 2658787 to 14086600\n",
      "Data columns (total 23 columns):\n",
      " #   Column                      Non-Null Count    Dtype   \n",
      "---  ------                      --------------    -----   \n",
      " 0   order_id                    1000000 non-null  int64   \n",
      " 1   user_id                     1000000 non-null  int64   \n",
      " 2   order_number                1000000 non-null  int64   \n",
      " 3   orders_day_of_week          1000000 non-null  int64   \n",
      " 4   order_hour_of_day           1000000 non-null  object  \n",
      " 5   days_since_prior_order      1000000 non-null  float64 \n",
      " 6   product_id                  1000000 non-null  int64   \n",
      " 7   add_to_cart_order           1000000 non-null  int64   \n",
      " 8   reordered                   1000000 non-null  int64   \n",
      " 9   product_name                1000000 non-null  object  \n",
      " 10  aisle_id                    1000000 non-null  int64   \n",
      " 11  department_id               1000000 non-null  int64   \n",
      " 12  prices                      1000000 non-null  float64 \n",
      " 13  _merge                      1000000 non-null  category\n",
      " 14  price_range_loc             1000000 non-null  object  \n",
      " 15  busiest_day                 1000000 non-null  object  \n",
      " 16  busiest_days                1000000 non-null  object  \n",
      " 17  max_order                   1000000 non-null  int64   \n",
      " 18  loyalty_flag                1000000 non-null  object  \n",
      " 19  mean_product_price          1000000 non-null  float64 \n",
      " 20  spending_flag               1000000 non-null  object  \n",
      " 21  median_days_between_orders  1000000 non-null  float64 \n",
      " 22  order_frequency             1000000 non-null  object  \n",
      "dtypes: category(1), float64(4), int64(10), object(8)\n",
      "memory usage: 176.4+ MB\n"
     ]
    }
   ],
   "source": [
    "df_sample.info()"
   ]
  },
  {
   "cell_type": "markdown",
   "id": "8996916b-6dcc-4bfe-b8d4-8fa8cc3fdff3",
   "metadata": {},
   "source": [
    "user_id is in both dataframes and has the same data type so that is what we will use for the merge"
   ]
  },
  {
   "cell_type": "markdown",
   "id": "47c1ce6e-8c9e-4596-ba64-b957164ee9f1",
   "metadata": {},
   "source": [
    "#Merge the two dataframes using \"user_id\""
   ]
  },
  {
   "cell_type": "code",
   "execution_count": 23,
   "id": "4ef617a0-f5e6-4dfa-8044-a2c19dbfa72e",
   "metadata": {},
   "outputs": [],
   "source": [
    "df_sample.rename(columns={'_merge': '_merge_sample'}, inplace=True)"
   ]
  },
  {
   "cell_type": "code",
   "execution_count": 24,
   "id": "8ba3349b-089b-492a-b262-9821485b8664",
   "metadata": {
    "tags": []
   },
   "outputs": [],
   "source": [
    "# Perform the merge with indicator=True\n",
    "df_merged = df_sample.merge(df_customer_data, on='user_id', indicator=True)"
   ]
  },
  {
   "cell_type": "code",
   "execution_count": 25,
   "id": "ff12b2b7-9acb-4368-b589-0eb507b2e48b",
   "metadata": {
    "tags": []
   },
   "outputs": [
    {
     "data": {
      "text/html": [
       "<div>\n",
       "<style scoped>\n",
       "    .dataframe tbody tr th:only-of-type {\n",
       "        vertical-align: middle;\n",
       "    }\n",
       "\n",
       "    .dataframe tbody tr th {\n",
       "        vertical-align: top;\n",
       "    }\n",
       "\n",
       "    .dataframe thead th {\n",
       "        text-align: right;\n",
       "    }\n",
       "</style>\n",
       "<table border=\"1\" class=\"dataframe\">\n",
       "  <thead>\n",
       "    <tr style=\"text-align: right;\">\n",
       "      <th></th>\n",
       "      <th>order_id</th>\n",
       "      <th>user_id</th>\n",
       "      <th>order_number</th>\n",
       "      <th>orders_day_of_week</th>\n",
       "      <th>order_hour_of_day</th>\n",
       "      <th>days_since_prior_order</th>\n",
       "      <th>product_id</th>\n",
       "      <th>add_to_cart_order</th>\n",
       "      <th>reordered</th>\n",
       "      <th>product_name</th>\n",
       "      <th>...</th>\n",
       "      <th>First Name</th>\n",
       "      <th>Last_Name</th>\n",
       "      <th>Gender</th>\n",
       "      <th>State</th>\n",
       "      <th>Age</th>\n",
       "      <th>date_joined</th>\n",
       "      <th>dependants</th>\n",
       "      <th>family_status</th>\n",
       "      <th>income</th>\n",
       "      <th>_merge</th>\n",
       "    </tr>\n",
       "  </thead>\n",
       "  <tbody>\n",
       "    <tr>\n",
       "      <th>0</th>\n",
       "      <td>1622621</td>\n",
       "      <td>153719</td>\n",
       "      <td>20</td>\n",
       "      <td>6</td>\n",
       "      <td>Average orders</td>\n",
       "      <td>13.0</td>\n",
       "      <td>27737</td>\n",
       "      <td>28</td>\n",
       "      <td>0</td>\n",
       "      <td>Brown Rice Black-Eyed Peas and Veggies Bowl</td>\n",
       "      <td>...</td>\n",
       "      <td>Doris</td>\n",
       "      <td>Richmond</td>\n",
       "      <td>Female</td>\n",
       "      <td>California</td>\n",
       "      <td>41</td>\n",
       "      <td>2020-01-31</td>\n",
       "      <td>2</td>\n",
       "      <td>married</td>\n",
       "      <td>85350</td>\n",
       "      <td>both</td>\n",
       "    </tr>\n",
       "    <tr>\n",
       "      <th>1</th>\n",
       "      <td>2657362</td>\n",
       "      <td>153719</td>\n",
       "      <td>57</td>\n",
       "      <td>0</td>\n",
       "      <td>Average orders</td>\n",
       "      <td>3.0</td>\n",
       "      <td>28123</td>\n",
       "      <td>20</td>\n",
       "      <td>1</td>\n",
       "      <td>Organic Cut Green Beans</td>\n",
       "      <td>...</td>\n",
       "      <td>Doris</td>\n",
       "      <td>Richmond</td>\n",
       "      <td>Female</td>\n",
       "      <td>California</td>\n",
       "      <td>41</td>\n",
       "      <td>2020-01-31</td>\n",
       "      <td>2</td>\n",
       "      <td>married</td>\n",
       "      <td>85350</td>\n",
       "      <td>both</td>\n",
       "    </tr>\n",
       "    <tr>\n",
       "      <th>2</th>\n",
       "      <td>1325818</td>\n",
       "      <td>153719</td>\n",
       "      <td>68</td>\n",
       "      <td>1</td>\n",
       "      <td>Most orders</td>\n",
       "      <td>2.0</td>\n",
       "      <td>32043</td>\n",
       "      <td>15</td>\n",
       "      <td>0</td>\n",
       "      <td>Organic Low Fat Vanila Milk</td>\n",
       "      <td>...</td>\n",
       "      <td>Doris</td>\n",
       "      <td>Richmond</td>\n",
       "      <td>Female</td>\n",
       "      <td>California</td>\n",
       "      <td>41</td>\n",
       "      <td>2020-01-31</td>\n",
       "      <td>2</td>\n",
       "      <td>married</td>\n",
       "      <td>85350</td>\n",
       "      <td>both</td>\n",
       "    </tr>\n",
       "    <tr>\n",
       "      <th>3</th>\n",
       "      <td>1776771</td>\n",
       "      <td>153719</td>\n",
       "      <td>10</td>\n",
       "      <td>6</td>\n",
       "      <td>Most orders</td>\n",
       "      <td>20.0</td>\n",
       "      <td>28934</td>\n",
       "      <td>19</td>\n",
       "      <td>1</td>\n",
       "      <td>Frozen Broccoli Florets</td>\n",
       "      <td>...</td>\n",
       "      <td>Doris</td>\n",
       "      <td>Richmond</td>\n",
       "      <td>Female</td>\n",
       "      <td>California</td>\n",
       "      <td>41</td>\n",
       "      <td>2020-01-31</td>\n",
       "      <td>2</td>\n",
       "      <td>married</td>\n",
       "      <td>85350</td>\n",
       "      <td>both</td>\n",
       "    </tr>\n",
       "    <tr>\n",
       "      <th>4</th>\n",
       "      <td>2657362</td>\n",
       "      <td>153719</td>\n",
       "      <td>57</td>\n",
       "      <td>0</td>\n",
       "      <td>Average orders</td>\n",
       "      <td>3.0</td>\n",
       "      <td>19173</td>\n",
       "      <td>8</td>\n",
       "      <td>1</td>\n",
       "      <td>Orange Calcium &amp; Vitamin D Pulp Free</td>\n",
       "      <td>...</td>\n",
       "      <td>Doris</td>\n",
       "      <td>Richmond</td>\n",
       "      <td>Female</td>\n",
       "      <td>California</td>\n",
       "      <td>41</td>\n",
       "      <td>2020-01-31</td>\n",
       "      <td>2</td>\n",
       "      <td>married</td>\n",
       "      <td>85350</td>\n",
       "      <td>both</td>\n",
       "    </tr>\n",
       "  </tbody>\n",
       "</table>\n",
       "<p>5 rows × 33 columns</p>\n",
       "</div>"
      ],
      "text/plain": [
       "   order_id  user_id  order_number  orders_day_of_week order_hour_of_day  \\\n",
       "0   1622621   153719            20                   6    Average orders   \n",
       "1   2657362   153719            57                   0    Average orders   \n",
       "2   1325818   153719            68                   1       Most orders   \n",
       "3   1776771   153719            10                   6       Most orders   \n",
       "4   2657362   153719            57                   0    Average orders   \n",
       "\n",
       "   days_since_prior_order  product_id  add_to_cart_order  reordered  \\\n",
       "0                    13.0       27737                 28          0   \n",
       "1                     3.0       28123                 20          1   \n",
       "2                     2.0       32043                 15          0   \n",
       "3                    20.0       28934                 19          1   \n",
       "4                     3.0       19173                  8          1   \n",
       "\n",
       "                                  product_name  ...  First Name  Last_Name  \\\n",
       "0  Brown Rice Black-Eyed Peas and Veggies Bowl  ...       Doris   Richmond   \n",
       "1                      Organic Cut Green Beans  ...       Doris   Richmond   \n",
       "2                  Organic Low Fat Vanila Milk  ...       Doris   Richmond   \n",
       "3                      Frozen Broccoli Florets  ...       Doris   Richmond   \n",
       "4         Orange Calcium & Vitamin D Pulp Free  ...       Doris   Richmond   \n",
       "\n",
       "   Gender       State Age date_joined dependants  family_status income  _merge  \n",
       "0  Female  California  41  2020-01-31          2        married  85350    both  \n",
       "1  Female  California  41  2020-01-31          2        married  85350    both  \n",
       "2  Female  California  41  2020-01-31          2        married  85350    both  \n",
       "3  Female  California  41  2020-01-31          2        married  85350    both  \n",
       "4  Female  California  41  2020-01-31          2        married  85350    both  \n",
       "\n",
       "[5 rows x 33 columns]"
      ]
     },
     "execution_count": 25,
     "metadata": {},
     "output_type": "execute_result"
    }
   ],
   "source": [
    "df_merged.head()"
   ]
  },
  {
   "cell_type": "code",
   "execution_count": 27,
   "id": "c4821330-7cf1-4fd0-a127-bac3f80ea546",
   "metadata": {
    "tags": []
   },
   "outputs": [
    {
     "data": {
      "text/plain": [
       "(1000000, 33)"
      ]
     },
     "execution_count": 27,
     "metadata": {},
     "output_type": "execute_result"
    }
   ],
   "source": [
    "df_merged.shape"
   ]
  },
  {
   "cell_type": "markdown",
   "id": "048dce3f-e29e-48cc-9977-93ee72984546",
   "metadata": {},
   "source": [
    "These checks show that the merge was sucsessful"
   ]
  },
  {
   "cell_type": "markdown",
   "id": "a05a09e2-d603-4158-9b33-c4fa480d74d0",
   "metadata": {},
   "source": [
    "# Part 8- Export this new dataframe as a pickle file"
   ]
  },
  {
   "cell_type": "code",
   "execution_count": 30,
   "id": "dcca1e25-65f5-4320-86f3-cd85fecbfb83",
   "metadata": {
    "tags": []
   },
   "outputs": [],
   "source": [
    "df_merged.to_pickle(os.path.join(path, 'Instacart Basket Anaylsis', '02 Data','Prepared Data', 'orders_products_combined.pkl'))"
   ]
  },
  {
   "cell_type": "code",
   "execution_count": null,
   "id": "4e15abf8-b977-4195-bf95-65d46a7fe679",
   "metadata": {},
   "outputs": [],
   "source": []
  },
  {
   "cell_type": "code",
   "execution_count": null,
   "id": "dc090fb7-e20c-4f71-9852-6dae3cc33393",
   "metadata": {},
   "outputs": [],
   "source": []
  },
  {
   "cell_type": "code",
   "execution_count": null,
   "id": "65f5f73d-f8a8-47dd-be56-3e6861081574",
   "metadata": {},
   "outputs": [],
   "source": []
  }
 ],
 "metadata": {
  "kernelspec": {
   "display_name": "Python 3 (ipykernel)",
   "language": "python",
   "name": "python3"
  },
  "language_info": {
   "codemirror_mode": {
    "name": "ipython",
    "version": 3
   },
   "file_extension": ".py",
   "mimetype": "text/x-python",
   "name": "python",
   "nbconvert_exporter": "python",
   "pygments_lexer": "ipython3",
   "version": "3.11.4"
  }
 },
 "nbformat": 4,
 "nbformat_minor": 5
}
