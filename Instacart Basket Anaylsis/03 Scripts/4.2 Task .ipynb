{
 "cells": [
  {
   "cell_type": "markdown",
   "id": "4d24e692-ec88-4d17-ac5e-20a1e8a1512d",
   "metadata": {},
   "source": [
    "Task 4.2- Jupyter Fundamentals & Python Data Types\n",
    "\n"
   ]
  },
  {
   "cell_type": "markdown",
   "id": "9ebd9e49-154f-4a49-8e00-0cffb7fa7409",
   "metadata": {},
   "source": [
    "Importing Libraries"
   ]
  },
  {
   "cell_type": "code",
   "execution_count": 1,
   "id": "05c01819-88f1-4b91-9051-619c9d7c401d",
   "metadata": {
    "tags": []
   },
   "outputs": [],
   "source": [
    "# Import libraries\n",
    "import pandas as pd\n",
    "import numpy as np\n",
    "import os"
   ]
  },
  {
   "cell_type": "markdown",
   "id": "96aec0d5-7a23-4de4-a251-3739c4ae06b3",
   "metadata": {},
   "source": [
    "Integers and Floats"
   ]
  },
  {
   "cell_type": "code",
   "execution_count": 2,
   "id": "8d4d9309-4efc-4d56-b185-16961225a2a8",
   "metadata": {
    "tags": []
   },
   "outputs": [],
   "source": [
    "x = 55"
   ]
  },
  {
   "cell_type": "code",
   "execution_count": 3,
   "id": "88664a3c-9a5e-47bc-a590-b0443416a38e",
   "metadata": {
    "tags": []
   },
   "outputs": [],
   "source": [
    "y = 45"
   ]
  },
  {
   "cell_type": "code",
   "execution_count": 4,
   "id": "c52afa27-d0ed-48a2-ae8b-b82a64b935df",
   "metadata": {
    "tags": []
   },
   "outputs": [
    {
     "data": {
      "text/plain": [
       "100"
      ]
     },
     "execution_count": 4,
     "metadata": {},
     "output_type": "execute_result"
    }
   ],
   "source": [
    "x + y"
   ]
  },
  {
   "cell_type": "code",
   "execution_count": 5,
   "id": "f4ab1611-3da3-43d7-be85-51ccf007295b",
   "metadata": {
    "tags": []
   },
   "outputs": [],
   "source": [
    "q = 5"
   ]
  },
  {
   "cell_type": "code",
   "execution_count": 6,
   "id": "8051a127-f8d1-4f09-9939-6e0947d84b3d",
   "metadata": {
    "tags": []
   },
   "outputs": [],
   "source": [
    "w = 20"
   ]
  },
  {
   "cell_type": "code",
   "execution_count": 7,
   "id": "a8ab9e94-5a96-48d9-b8b5-2ab47c946fe4",
   "metadata": {
    "tags": []
   },
   "outputs": [
    {
     "data": {
      "text/plain": [
       "100"
      ]
     },
     "execution_count": 7,
     "metadata": {},
     "output_type": "execute_result"
    }
   ],
   "source": [
    "q * w "
   ]
  },
  {
   "cell_type": "code",
   "execution_count": 8,
   "id": "675d672f-8c5d-493e-81de-eebfb2fd471a",
   "metadata": {
    "tags": []
   },
   "outputs": [],
   "source": [
    "t=2000"
   ]
  },
  {
   "cell_type": "code",
   "execution_count": 9,
   "id": "dbdf2435-c2b7-4416-a737-5bf2f27a4c34",
   "metadata": {
    "tags": []
   },
   "outputs": [
    {
     "data": {
      "text/plain": [
       "100.0"
      ]
     },
     "execution_count": 9,
     "metadata": {},
     "output_type": "execute_result"
    }
   ],
   "source": [
    "t/w"
   ]
  },
  {
   "cell_type": "markdown",
   "id": "a43bfbb7-b731-4bd6-815d-e5a8d97abb0c",
   "metadata": {},
   "source": [
    "Floating Point Variables"
   ]
  },
  {
   "cell_type": "code",
   "execution_count": 10,
   "id": "7032a0f1-bc10-4159-b1a5-61d6aab2e774",
   "metadata": {
    "tags": []
   },
   "outputs": [],
   "source": [
    "b = 15.789"
   ]
  },
  {
   "cell_type": "code",
   "execution_count": 11,
   "id": "e8fb7e6d-3958-482a-a841-27d7e4bb9692",
   "metadata": {
    "tags": []
   },
   "outputs": [],
   "source": [
    "c = 3.33345"
   ]
  },
  {
   "cell_type": "code",
   "execution_count": 12,
   "id": "0351a6b0-b711-4700-beb9-54f457a71cc1",
   "metadata": {
    "tags": []
   },
   "outputs": [
    {
     "data": {
      "text/plain": [
       "4.7365342213022545"
      ]
     },
     "execution_count": 12,
     "metadata": {},
     "output_type": "execute_result"
    }
   ],
   "source": [
    "b/c"
   ]
  },
  {
   "cell_type": "markdown",
   "id": "8cff70c1-ad4d-48f0-9f78-ddfff661107b",
   "metadata": {},
   "source": [
    "Strings"
   ]
  },
  {
   "cell_type": "code",
   "execution_count": 13,
   "id": "d4270307-7564-4ea4-8775-317ac2765600",
   "metadata": {
    "tags": []
   },
   "outputs": [],
   "source": [
    "d = 'd'"
   ]
  },
  {
   "cell_type": "code",
   "execution_count": 14,
   "id": "b6eb7cbc-1f79-4d2b-a5f9-04605cdfd54b",
   "metadata": {
    "tags": []
   },
   "outputs": [],
   "source": [
    "o = 'o'"
   ]
  },
  {
   "cell_type": "code",
   "execution_count": 15,
   "id": "b6a63896-7ddb-4d64-8efc-8b2f80143990",
   "metadata": {
    "tags": []
   },
   "outputs": [],
   "source": [
    "g = 'g'"
   ]
  },
  {
   "cell_type": "code",
   "execution_count": 16,
   "id": "7ab3e776-110d-478a-93fb-df8e19010131",
   "metadata": {
    "tags": []
   },
   "outputs": [
    {
     "data": {
      "text/plain": [
       "'dog'"
      ]
     },
     "execution_count": 16,
     "metadata": {},
     "output_type": "execute_result"
    }
   ],
   "source": [
    "d + o + g"
   ]
  },
  {
   "cell_type": "code",
   "execution_count": 17,
   "id": "ffdd5ed0-06d5-4b4d-9342-e44348b326cc",
   "metadata": {
    "tags": []
   },
   "outputs": [],
   "source": [
    "i = 'I walk '"
   ]
  },
  {
   "cell_type": "code",
   "execution_count": 19,
   "id": "101dba2e-6448-46ec-b5e4-da7e6d25ec0a",
   "metadata": {
    "tags": []
   },
   "outputs": [],
   "source": [
    "t = 'the dog.'"
   ]
  },
  {
   "cell_type": "code",
   "execution_count": 20,
   "id": "ec8a7cfe-1180-467d-86bb-659cb1ee10ed",
   "metadata": {
    "tags": []
   },
   "outputs": [
    {
     "data": {
      "text/plain": [
       "'I walk the dog.'"
      ]
     },
     "execution_count": 20,
     "metadata": {},
     "output_type": "execute_result"
    }
   ],
   "source": [
    "i + t"
   ]
  },
  {
   "cell_type": "code",
   "execution_count": 22,
   "id": "f7051f9f-b9c6-418e-ae2a-a5095b8ef63a",
   "metadata": {
    "tags": []
   },
   "outputs": [],
   "source": [
    "w = 'He caught ' "
   ]
  },
  {
   "cell_type": "code",
   "execution_count": 23,
   "id": "caf43bb1-4bbd-40f7-b4ba-4fddf3e91ca1",
   "metadata": {
    "tags": []
   },
   "outputs": [],
   "source": [
    "a = 'a smelly '"
   ]
  },
  {
   "cell_type": "code",
   "execution_count": 24,
   "id": "363d8ad8-3eb9-4744-aac8-e3a023ae71ea",
   "metadata": {
    "tags": []
   },
   "outputs": [],
   "source": [
    "r = 'rat.'"
   ]
  },
  {
   "cell_type": "code",
   "execution_count": 25,
   "id": "56c32948-2bd6-4d87-a5ce-4f4109dbd57a",
   "metadata": {
    "tags": []
   },
   "outputs": [
    {
     "data": {
      "text/plain": [
       "'He caught a smelly rat.'"
      ]
     },
     "execution_count": 25,
     "metadata": {},
     "output_type": "execute_result"
    }
   ],
   "source": [
    "w + a + r"
   ]
  },
  {
   "cell_type": "code",
   "execution_count": null,
   "id": "05ec08fb-8750-4fc1-b586-89a4cf0cecb7",
   "metadata": {
    "jupyter": {
     "source_hidden": true
    },
    "tags": []
   },
   "outputs": [],
   "source": []
  }
 ],
 "metadata": {
  "kernelspec": {
   "display_name": "Python 3 (ipykernel)",
   "language": "python",
   "name": "python3"
  },
  "language_info": {
   "codemirror_mode": {
    "name": "ipython",
    "version": 3
   },
   "file_extension": ".py",
   "mimetype": "text/x-python",
   "name": "python",
   "nbconvert_exporter": "python",
   "pygments_lexer": "ipython3",
   "version": "3.11.4"
  }
 },
 "nbformat": 4,
 "nbformat_minor": 5
}
