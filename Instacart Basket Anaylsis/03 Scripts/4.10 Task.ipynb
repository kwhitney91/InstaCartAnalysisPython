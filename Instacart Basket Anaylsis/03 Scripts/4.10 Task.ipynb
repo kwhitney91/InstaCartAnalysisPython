{
 "cells": [
  {
   "cell_type": "markdown",
   "id": "221c52b8-e055-468a-a336-11b14043c683",
   "metadata": {},
   "source": [
    "# 4.10 Coding Etiquette and Excell Reporting\n",
    "\n",
    "1-Consider any security implications that might exist for this new data. You’ll need to address any PII data in the data before continuing your analysis.\n",
    "\n",
    "2-The Instacart officers are interested in comparing customer behavior in different geographic areas. Create a regional segmentation of the data. You’ll need to create a “Region” column based on the “State” column from your customers data set.\n",
    "Use the region information in this Wikipedia article to create your column (you only need to create regions, not divisions).\n",
    "Determine whether there’s a difference in spending habits between the different U.S. regions. \n",
    "\n",
    "3-The Instacart CFO isn’t interested in customers who don’t generate much revenue for the app. Create an exclusion flag for low-activity customers (customers with less than 5 orders) and exclude them from the data. Make sure you export this sample.\n",
    "\n",
    "4-The marketing and business strategy units at Instacart want to create more-relevant marketing strategies for different products and are, thus, curious about customer profiling in their database. Create a profiling variable based on age, income, certain goods in the “department_id” column, and number of dependents. You might also use the “orders_day_of_week” and “order_hour_of_day” columns if you can think of a way they would impact customer profiles.\n",
    "\n",
    "5-Create an appropriate visualization to show the distribution of profiles.\n",
    "\n",
    "6-Aggregate the max, mean, and min variables on a customer-profile level for usage frequency and expenditure.\n",
    "\n",
    "7-Compare your customer profiles with regions and departments. Can you identify a link between them? Customers may demonstrate different behaviors across regions, which could make this information important.\n",
    "\n",
    "8-Produce suitable charts to illustrate your results and export them in your project folder."
   ]
  },
  {
   "cell_type": "markdown",
   "id": "d9336160-e546-400b-9709-715e2a89daf6",
   "metadata": {},
   "source": [
    "#Import Libraries and Dataframes"
   ]
  },
  {
   "cell_type": "code",
   "execution_count": 1,
   "id": "0983eaaa-f9ac-4b4d-9c24-3dbeb5a4e91b",
   "metadata": {
    "tags": []
   },
   "outputs": [],
   "source": [
    "# Import libraries\n",
    "import pandas as pd\n",
    "import numpy as np\n",
    "import os\n",
    "import matplotlib.pyplot as plt\n",
    "import seaborn as sns\n",
    "import scipy"
   ]
  },
  {
   "cell_type": "code",
   "execution_count": 2,
   "id": "f9371655-aa9f-4e64-83c3-38ca2c329976",
   "metadata": {
    "tags": []
   },
   "outputs": [],
   "source": [
    "# Import Dataframes\n",
    "path = r'C:\\Users\\kenwh'"
   ]
  },
  {
   "cell_type": "code",
   "execution_count": 3,
   "id": "e4d438db-35bc-4aa9-a235-dd90b535b679",
   "metadata": {
    "tags": []
   },
   "outputs": [],
   "source": [
    "df = pd.read_pickle(os.path.join(path, 'Instacart Basket Anaylsis', '02 Data','Prepared Data', 'orders_products_combined.pkl'))"
   ]
  },
  {
   "cell_type": "markdown",
   "id": "84c772d8-38d6-4760-a92e-199a0a6870e9",
   "metadata": {},
   "source": [
    "#Part 2- Identify any PII/security implications"
   ]
  },
  {
   "cell_type": "markdown",
   "id": "d0733dfc-ad6f-463e-838b-6100b21af4d2",
   "metadata": {},
   "source": [
    "The dataset includes personally identifiable information (PII) such as user_id, gender, age, number of dependents, family status, and income. This data has been artificially generated for training purposes, and therefore the information does not represent real individuals \n",
    "If using actual customer data, then it would need to be appropriately redacted from the dataset to ensure privacy and compliance with data protection regulations."
   ]
  },
  {
   "cell_type": "markdown",
   "id": "8e067bcc-d551-4dbe-a4f5-9bc531710566",
   "metadata": {},
   "source": [
    "# Part 3 - Create a regional segmentation of the data"
   ]
  },
  {
   "cell_type": "code",
   "execution_count": 4,
   "id": "b3f4bc55-616f-447b-939a-e7bfbb69c40b",
   "metadata": {
    "tags": []
   },
   "outputs": [
    {
     "data": {
      "text/plain": [
       "Index(['order_id', 'user_id', 'order_number', 'orders_day_of_week',\n",
       "       'order_hour_of_day', 'days_since_prior_order', 'product_id',\n",
       "       'add_to_cart_order', 'reordered', 'product_name', 'aisle_id',\n",
       "       'department_id', 'prices', '_merge_sample', 'price_range_loc',\n",
       "       'busiest_day', 'busiest_days', 'max_order', 'loyalty_flag',\n",
       "       'mean_product_price', 'spending_flag', 'median_days_between_orders',\n",
       "       'order_frequency', 'First Name', 'Last_Name', 'Gender', 'State', 'Age',\n",
       "       'date_joined', 'dependants', 'family_status', 'income', '_merge'],\n",
       "      dtype='object')"
      ]
     },
     "execution_count": 4,
     "metadata": {},
     "output_type": "execute_result"
    }
   ],
   "source": [
    "df.columns"
   ]
  },
  {
   "cell_type": "code",
   "execution_count": 5,
   "id": "749bd155-6107-4022-8497-6b286c098924",
   "metadata": {
    "tags": []
   },
   "outputs": [
    {
     "data": {
      "text/html": [
       "<div>\n",
       "<style scoped>\n",
       "    .dataframe tbody tr th:only-of-type {\n",
       "        vertical-align: middle;\n",
       "    }\n",
       "\n",
       "    .dataframe tbody tr th {\n",
       "        vertical-align: top;\n",
       "    }\n",
       "\n",
       "    .dataframe thead th {\n",
       "        text-align: right;\n",
       "    }\n",
       "</style>\n",
       "<table border=\"1\" class=\"dataframe\">\n",
       "  <thead>\n",
       "    <tr style=\"text-align: right;\">\n",
       "      <th></th>\n",
       "      <th>order_id</th>\n",
       "      <th>user_id</th>\n",
       "      <th>order_number</th>\n",
       "      <th>orders_day_of_week</th>\n",
       "      <th>order_hour_of_day</th>\n",
       "      <th>days_since_prior_order</th>\n",
       "      <th>product_id</th>\n",
       "      <th>add_to_cart_order</th>\n",
       "      <th>reordered</th>\n",
       "      <th>product_name</th>\n",
       "      <th>...</th>\n",
       "      <th>First Name</th>\n",
       "      <th>Last_Name</th>\n",
       "      <th>Gender</th>\n",
       "      <th>State</th>\n",
       "      <th>Age</th>\n",
       "      <th>date_joined</th>\n",
       "      <th>dependants</th>\n",
       "      <th>family_status</th>\n",
       "      <th>income</th>\n",
       "      <th>_merge</th>\n",
       "    </tr>\n",
       "  </thead>\n",
       "  <tbody>\n",
       "    <tr>\n",
       "      <th>0</th>\n",
       "      <td>1622621</td>\n",
       "      <td>153719</td>\n",
       "      <td>20</td>\n",
       "      <td>6</td>\n",
       "      <td>Average orders</td>\n",
       "      <td>13.0</td>\n",
       "      <td>27737</td>\n",
       "      <td>28</td>\n",
       "      <td>0</td>\n",
       "      <td>Brown Rice Black-Eyed Peas and Veggies Bowl</td>\n",
       "      <td>...</td>\n",
       "      <td>Doris</td>\n",
       "      <td>Richmond</td>\n",
       "      <td>Female</td>\n",
       "      <td>California</td>\n",
       "      <td>41</td>\n",
       "      <td>2020-01-31</td>\n",
       "      <td>2</td>\n",
       "      <td>married</td>\n",
       "      <td>85350</td>\n",
       "      <td>both</td>\n",
       "    </tr>\n",
       "    <tr>\n",
       "      <th>1</th>\n",
       "      <td>2657362</td>\n",
       "      <td>153719</td>\n",
       "      <td>57</td>\n",
       "      <td>0</td>\n",
       "      <td>Average orders</td>\n",
       "      <td>3.0</td>\n",
       "      <td>28123</td>\n",
       "      <td>20</td>\n",
       "      <td>1</td>\n",
       "      <td>Organic Cut Green Beans</td>\n",
       "      <td>...</td>\n",
       "      <td>Doris</td>\n",
       "      <td>Richmond</td>\n",
       "      <td>Female</td>\n",
       "      <td>California</td>\n",
       "      <td>41</td>\n",
       "      <td>2020-01-31</td>\n",
       "      <td>2</td>\n",
       "      <td>married</td>\n",
       "      <td>85350</td>\n",
       "      <td>both</td>\n",
       "    </tr>\n",
       "    <tr>\n",
       "      <th>2</th>\n",
       "      <td>1325818</td>\n",
       "      <td>153719</td>\n",
       "      <td>68</td>\n",
       "      <td>1</td>\n",
       "      <td>Most orders</td>\n",
       "      <td>2.0</td>\n",
       "      <td>32043</td>\n",
       "      <td>15</td>\n",
       "      <td>0</td>\n",
       "      <td>Organic Low Fat Vanila Milk</td>\n",
       "      <td>...</td>\n",
       "      <td>Doris</td>\n",
       "      <td>Richmond</td>\n",
       "      <td>Female</td>\n",
       "      <td>California</td>\n",
       "      <td>41</td>\n",
       "      <td>2020-01-31</td>\n",
       "      <td>2</td>\n",
       "      <td>married</td>\n",
       "      <td>85350</td>\n",
       "      <td>both</td>\n",
       "    </tr>\n",
       "    <tr>\n",
       "      <th>3</th>\n",
       "      <td>1776771</td>\n",
       "      <td>153719</td>\n",
       "      <td>10</td>\n",
       "      <td>6</td>\n",
       "      <td>Most orders</td>\n",
       "      <td>20.0</td>\n",
       "      <td>28934</td>\n",
       "      <td>19</td>\n",
       "      <td>1</td>\n",
       "      <td>Frozen Broccoli Florets</td>\n",
       "      <td>...</td>\n",
       "      <td>Doris</td>\n",
       "      <td>Richmond</td>\n",
       "      <td>Female</td>\n",
       "      <td>California</td>\n",
       "      <td>41</td>\n",
       "      <td>2020-01-31</td>\n",
       "      <td>2</td>\n",
       "      <td>married</td>\n",
       "      <td>85350</td>\n",
       "      <td>both</td>\n",
       "    </tr>\n",
       "    <tr>\n",
       "      <th>4</th>\n",
       "      <td>2657362</td>\n",
       "      <td>153719</td>\n",
       "      <td>57</td>\n",
       "      <td>0</td>\n",
       "      <td>Average orders</td>\n",
       "      <td>3.0</td>\n",
       "      <td>19173</td>\n",
       "      <td>8</td>\n",
       "      <td>1</td>\n",
       "      <td>Orange Calcium &amp; Vitamin D Pulp Free</td>\n",
       "      <td>...</td>\n",
       "      <td>Doris</td>\n",
       "      <td>Richmond</td>\n",
       "      <td>Female</td>\n",
       "      <td>California</td>\n",
       "      <td>41</td>\n",
       "      <td>2020-01-31</td>\n",
       "      <td>2</td>\n",
       "      <td>married</td>\n",
       "      <td>85350</td>\n",
       "      <td>both</td>\n",
       "    </tr>\n",
       "  </tbody>\n",
       "</table>\n",
       "<p>5 rows × 33 columns</p>\n",
       "</div>"
      ],
      "text/plain": [
       "   order_id  user_id  order_number  orders_day_of_week order_hour_of_day  \\\n",
       "0   1622621   153719            20                   6    Average orders   \n",
       "1   2657362   153719            57                   0    Average orders   \n",
       "2   1325818   153719            68                   1       Most orders   \n",
       "3   1776771   153719            10                   6       Most orders   \n",
       "4   2657362   153719            57                   0    Average orders   \n",
       "\n",
       "   days_since_prior_order  product_id  add_to_cart_order  reordered  \\\n",
       "0                    13.0       27737                 28          0   \n",
       "1                     3.0       28123                 20          1   \n",
       "2                     2.0       32043                 15          0   \n",
       "3                    20.0       28934                 19          1   \n",
       "4                     3.0       19173                  8          1   \n",
       "\n",
       "                                  product_name  ...  First Name  Last_Name  \\\n",
       "0  Brown Rice Black-Eyed Peas and Veggies Bowl  ...       Doris   Richmond   \n",
       "1                      Organic Cut Green Beans  ...       Doris   Richmond   \n",
       "2                  Organic Low Fat Vanila Milk  ...       Doris   Richmond   \n",
       "3                      Frozen Broccoli Florets  ...       Doris   Richmond   \n",
       "4         Orange Calcium & Vitamin D Pulp Free  ...       Doris   Richmond   \n",
       "\n",
       "   Gender       State Age date_joined dependants  family_status income  _merge  \n",
       "0  Female  California  41  2020-01-31          2        married  85350    both  \n",
       "1  Female  California  41  2020-01-31          2        married  85350    both  \n",
       "2  Female  California  41  2020-01-31          2        married  85350    both  \n",
       "3  Female  California  41  2020-01-31          2        married  85350    both  \n",
       "4  Female  California  41  2020-01-31          2        married  85350    both  \n",
       "\n",
       "[5 rows x 33 columns]"
      ]
     },
     "execution_count": 5,
     "metadata": {},
     "output_type": "execute_result"
    }
   ],
   "source": [
    "df.head()"
   ]
  },
  {
   "cell_type": "markdown",
   "id": "4687bd40-2f27-4d2a-8d70-b6005c676287",
   "metadata": {},
   "source": [
    "First step- Define Regions"
   ]
  },
  {
   "cell_type": "code",
   "execution_count": 6,
   "id": "ce06d700-9ce0-4baa-8a03-685ebfab52b3",
   "metadata": {
    "tags": []
   },
   "outputs": [],
   "source": [
    "# Define Northeast states\n",
    "northeast_states = ['Maine','New Hampshire','Vermont','Massachusetts','Rhode Island','Connecticut','New York','Pennsylvania','New Jersey']"
   ]
  },
  {
   "cell_type": "code",
   "execution_count": 7,
   "id": "e80889f8-9ad5-4798-a46e-9b8233c0a855",
   "metadata": {
    "tags": []
   },
   "outputs": [],
   "source": [
    "df.loc[df['State'].isin(northeast_states), 'region'] = 'Northeast'"
   ]
  },
  {
   "cell_type": "code",
   "execution_count": 8,
   "id": "a713ccc2-3e43-4b43-a9bc-c01009fe2405",
   "metadata": {
    "tags": []
   },
   "outputs": [],
   "source": [
    "# Define Midwest states\n",
    "mid_west_states = ['Wisconsin', 'Michigan', 'Illinois', 'Indiana', 'Ohio', 'North Dakota', 'South Dakota', 'Nebraska', 'Kansas', 'Minnesota', 'Iowa', 'Missouri']"
   ]
  },
  {
   "cell_type": "code",
   "execution_count": 9,
   "id": "73ea8162-1229-4d5d-895c-eebc0097d818",
   "metadata": {
    "tags": []
   },
   "outputs": [],
   "source": [
    "df.loc[df['State'].isin(mid_west_states), 'region'] = 'Midwest'"
   ]
  },
  {
   "cell_type": "code",
   "execution_count": 10,
   "id": "5db837a5-d417-4f5e-934c-1605d1840170",
   "metadata": {
    "tags": []
   },
   "outputs": [],
   "source": [
    "# Define South states\n",
    "south_states = ['Delaware','Maryland','District of Columbia','Virginia','West Virginia','North Carolina','South Carolina','Georgia','Florida','Kentucky','Tennessee','Mississippi','Alabama','Oklahoma','Texas','Arkansas','Louisiana']"
   ]
  },
  {
   "cell_type": "code",
   "execution_count": 11,
   "id": "3c473ffb-ad44-4889-b92b-f73c179f1bac",
   "metadata": {
    "tags": []
   },
   "outputs": [],
   "source": [
    "df.loc[df['State'].isin(south_states), 'region'] = 'South'"
   ]
  },
  {
   "cell_type": "code",
   "execution_count": 12,
   "id": "52d1123e-88d9-489d-b5ca-e91d83efa487",
   "metadata": {},
   "outputs": [],
   "source": [
    "# Define West states\n",
    "west_states = ['Idaho','Montana','Wyoming','Nevada','Utah','Colorado','Arizona','New Mexico','Alaska','Washington','Oregon','California','Hawaii']"
   ]
  },
  {
   "cell_type": "code",
   "execution_count": 13,
   "id": "5225844c-74e8-4a72-b5c3-b965d0716d0d",
   "metadata": {
    "tags": []
   },
   "outputs": [],
   "source": [
    "df.loc[df['State'].isin(west_states), 'region'] = 'West'"
   ]
  },
  {
   "cell_type": "markdown",
   "id": "5ed3231d-a16e-4028-989c-6a58f1bddd87",
   "metadata": {},
   "source": [
    "#second-step- Explore spending habits between regions"
   ]
  },
  {
   "cell_type": "code",
   "execution_count": 14,
   "id": "fc35d55a-f4ba-43a8-8043-7b55256bd5bf",
   "metadata": {
    "tags": []
   },
   "outputs": [],
   "source": [
    "# Pivot spending_flag base on region\n",
    "spend_by_region = pd.crosstab(df['region'], df['spending_flag'], dropna = False).sort_values(by = 'High spender', ascending = False)"
   ]
  },
  {
   "cell_type": "code",
   "execution_count": 15,
   "id": "3f48c0d3-8fa6-45df-9275-a0c0ef0732c1",
   "metadata": {
    "tags": []
   },
   "outputs": [
    {
     "data": {
      "text/html": [
       "<div>\n",
       "<style scoped>\n",
       "    .dataframe tbody tr th:only-of-type {\n",
       "        vertical-align: middle;\n",
       "    }\n",
       "\n",
       "    .dataframe tbody tr th {\n",
       "        vertical-align: top;\n",
       "    }\n",
       "\n",
       "    .dataframe thead th {\n",
       "        text-align: right;\n",
       "    }\n",
       "</style>\n",
       "<table border=\"1\" class=\"dataframe\">\n",
       "  <thead>\n",
       "    <tr style=\"text-align: right;\">\n",
       "      <th>spending_flag</th>\n",
       "      <th>High spender</th>\n",
       "      <th>Low spender</th>\n",
       "    </tr>\n",
       "    <tr>\n",
       "      <th>region</th>\n",
       "      <th></th>\n",
       "      <th></th>\n",
       "    </tr>\n",
       "  </thead>\n",
       "  <tbody>\n",
       "    <tr>\n",
       "      <th>South</th>\n",
       "      <td>6412</td>\n",
       "      <td>326125</td>\n",
       "    </tr>\n",
       "    <tr>\n",
       "      <th>West</th>\n",
       "      <td>4845</td>\n",
       "      <td>251186</td>\n",
       "    </tr>\n",
       "    <tr>\n",
       "      <th>Midwest</th>\n",
       "      <td>4797</td>\n",
       "      <td>229905</td>\n",
       "    </tr>\n",
       "    <tr>\n",
       "      <th>Northeast</th>\n",
       "      <td>3338</td>\n",
       "      <td>173392</td>\n",
       "    </tr>\n",
       "  </tbody>\n",
       "</table>\n",
       "</div>"
      ],
      "text/plain": [
       "spending_flag  High spender  Low spender\n",
       "region                                  \n",
       "South                  6412       326125\n",
       "West                   4845       251186\n",
       "Midwest                4797       229905\n",
       "Northeast              3338       173392"
      ]
     },
     "execution_count": 15,
     "metadata": {},
     "output_type": "execute_result"
    }
   ],
   "source": [
    "spend_by_region"
   ]
  },
  {
   "cell_type": "code",
   "execution_count": 16,
   "id": "f330863b-c801-464e-aad9-83dff8ab036e",
   "metadata": {
    "tags": []
   },
   "outputs": [],
   "source": [
    "spend_by_region.index = spend_by_region.index.where(spend_by_region.index != 'nan', 'South')"
   ]
  },
  {
   "cell_type": "code",
   "execution_count": 17,
   "id": "4f66a842-e13e-4b15-84aa-efd77d286781",
   "metadata": {
    "tags": []
   },
   "outputs": [
    {
     "data": {
      "text/html": [
       "<div>\n",
       "<style scoped>\n",
       "    .dataframe tbody tr th:only-of-type {\n",
       "        vertical-align: middle;\n",
       "    }\n",
       "\n",
       "    .dataframe tbody tr th {\n",
       "        vertical-align: top;\n",
       "    }\n",
       "\n",
       "    .dataframe thead th {\n",
       "        text-align: right;\n",
       "    }\n",
       "</style>\n",
       "<table border=\"1\" class=\"dataframe\">\n",
       "  <thead>\n",
       "    <tr style=\"text-align: right;\">\n",
       "      <th>spending_flag</th>\n",
       "      <th>High spender</th>\n",
       "      <th>Low spender</th>\n",
       "    </tr>\n",
       "    <tr>\n",
       "      <th>region</th>\n",
       "      <th></th>\n",
       "      <th></th>\n",
       "    </tr>\n",
       "  </thead>\n",
       "  <tbody>\n",
       "    <tr>\n",
       "      <th>South</th>\n",
       "      <td>6412</td>\n",
       "      <td>326125</td>\n",
       "    </tr>\n",
       "    <tr>\n",
       "      <th>West</th>\n",
       "      <td>4845</td>\n",
       "      <td>251186</td>\n",
       "    </tr>\n",
       "    <tr>\n",
       "      <th>Midwest</th>\n",
       "      <td>4797</td>\n",
       "      <td>229905</td>\n",
       "    </tr>\n",
       "    <tr>\n",
       "      <th>Northeast</th>\n",
       "      <td>3338</td>\n",
       "      <td>173392</td>\n",
       "    </tr>\n",
       "  </tbody>\n",
       "</table>\n",
       "</div>"
      ],
      "text/plain": [
       "spending_flag  High spender  Low spender\n",
       "region                                  \n",
       "South                  6412       326125\n",
       "West                   4845       251186\n",
       "Midwest                4797       229905\n",
       "Northeast              3338       173392"
      ]
     },
     "execution_count": 17,
     "metadata": {},
     "output_type": "execute_result"
    }
   ],
   "source": [
    "spend_by_region"
   ]
  },
  {
   "cell_type": "code",
   "execution_count": 18,
   "id": "444c98f0-e0e9-4696-a02b-e853c3031de5",
   "metadata": {
    "tags": []
   },
   "outputs": [],
   "source": [
    "spend_by_region['High_to_Low_Ratio'] = spend_by_region['High spender'] / spend_by_region['Low spender']"
   ]
  },
  {
   "cell_type": "code",
   "execution_count": 19,
   "id": "2d4c6648-8b8a-498f-8828-8a1602205963",
   "metadata": {
    "tags": []
   },
   "outputs": [],
   "source": [
    "spend_by_region['Total_Spenders'] = spend_by_region['High spender'] + spend_by_region['Low spender']"
   ]
  },
  {
   "cell_type": "code",
   "execution_count": 20,
   "id": "246de92b-6f35-4eb2-be32-8537d79849e9",
   "metadata": {
    "tags": []
   },
   "outputs": [],
   "source": [
    "spend_by_region['High_to_Low_Ratio_%'] = spend_by_region['High_to_Low_Ratio'] * 100"
   ]
  },
  {
   "cell_type": "code",
   "execution_count": 21,
   "id": "420fc686-16a4-4d5e-af3b-846b949bdfdf",
   "metadata": {
    "tags": []
   },
   "outputs": [
    {
     "data": {
      "text/html": [
       "<div>\n",
       "<style scoped>\n",
       "    .dataframe tbody tr th:only-of-type {\n",
       "        vertical-align: middle;\n",
       "    }\n",
       "\n",
       "    .dataframe tbody tr th {\n",
       "        vertical-align: top;\n",
       "    }\n",
       "\n",
       "    .dataframe thead th {\n",
       "        text-align: right;\n",
       "    }\n",
       "</style>\n",
       "<table border=\"1\" class=\"dataframe\">\n",
       "  <thead>\n",
       "    <tr style=\"text-align: right;\">\n",
       "      <th>spending_flag</th>\n",
       "      <th>High spender</th>\n",
       "      <th>Low spender</th>\n",
       "      <th>High_to_Low_Ratio</th>\n",
       "      <th>Total_Spenders</th>\n",
       "      <th>High_to_Low_Ratio_%</th>\n",
       "    </tr>\n",
       "    <tr>\n",
       "      <th>region</th>\n",
       "      <th></th>\n",
       "      <th></th>\n",
       "      <th></th>\n",
       "      <th></th>\n",
       "      <th></th>\n",
       "    </tr>\n",
       "  </thead>\n",
       "  <tbody>\n",
       "    <tr>\n",
       "      <th>South</th>\n",
       "      <td>6412</td>\n",
       "      <td>326125</td>\n",
       "      <td>0.019661</td>\n",
       "      <td>332537</td>\n",
       "      <td>1.966117</td>\n",
       "    </tr>\n",
       "    <tr>\n",
       "      <th>West</th>\n",
       "      <td>4845</td>\n",
       "      <td>251186</td>\n",
       "      <td>0.019288</td>\n",
       "      <td>256031</td>\n",
       "      <td>1.928850</td>\n",
       "    </tr>\n",
       "    <tr>\n",
       "      <th>Midwest</th>\n",
       "      <td>4797</td>\n",
       "      <td>229905</td>\n",
       "      <td>0.020865</td>\n",
       "      <td>234702</td>\n",
       "      <td>2.086514</td>\n",
       "    </tr>\n",
       "    <tr>\n",
       "      <th>Northeast</th>\n",
       "      <td>3338</td>\n",
       "      <td>173392</td>\n",
       "      <td>0.019251</td>\n",
       "      <td>176730</td>\n",
       "      <td>1.925118</td>\n",
       "    </tr>\n",
       "  </tbody>\n",
       "</table>\n",
       "</div>"
      ],
      "text/plain": [
       "spending_flag  High spender  Low spender  High_to_Low_Ratio  Total_Spenders  \\\n",
       "region                                                                        \n",
       "South                  6412       326125           0.019661          332537   \n",
       "West                   4845       251186           0.019288          256031   \n",
       "Midwest                4797       229905           0.020865          234702   \n",
       "Northeast              3338       173392           0.019251          176730   \n",
       "\n",
       "spending_flag  High_to_Low_Ratio_%  \n",
       "region                              \n",
       "South                     1.966117  \n",
       "West                      1.928850  \n",
       "Midwest                   2.086514  \n",
       "Northeast                 1.925118  "
      ]
     },
     "execution_count": 21,
     "metadata": {},
     "output_type": "execute_result"
    }
   ],
   "source": [
    "spend_by_region"
   ]
  },
  {
   "cell_type": "markdown",
   "id": "7f27e8a1-f1b2-4aa7-a909-aeb3407d7a15",
   "metadata": {},
   "source": [
    "We can see from the above chart that spending habits are pretty similar for each region. every region has approximetly 2% of their spenders as high spenders. In addition, we can see that there are the most total spenders in the West Region, and the fewest in the Northeast."
   ]
  },
  {
   "cell_type": "code",
   "execution_count": 22,
   "id": "b1113ec6-08d0-4bba-af1f-267d74b2394e",
   "metadata": {
    "tags": []
   },
   "outputs": [
    {
     "data": {
      "text/plain": [
       "(array([0, 1, 2]),\n",
       " [Text(0, 0, 'Loyal customer'),\n",
       "  Text(1, 0, 'New customer'),\n",
       "  Text(2, 0, 'Regular customer')])"
      ]
     },
     "execution_count": 22,
     "metadata": {},
     "output_type": "execute_result"
    },
    {
     "data": {
      "image/png": "[encoded data removed]",
      "text/plain": [
       "<Figure size 640x480 with 1 Axes>"
      ]
     },
     "metadata": {},
     "output_type": "display_data"
    }
   ],
   "source": [
    "# Group frequency flag by loyalty flag\n",
    "grouped_counts = df.groupby(['loyalty_flag', 'spending_flag']).size().unstack()\n",
    "\n",
    "# Plot the bar plot with color coding\n",
    "grouped_counts.plot(kind='bar', color=['red', 'blue'])\n",
    "\n",
    "# Add labels and title\n",
    "plt.legend(title=None)\n",
    "plt.ylabel('User Count by million')\n",
    "plt.title('Order Frequency by Brand Loyalty')\n",
    "plt.xticks(rotation=0)\n",
    "\n"
   ]
  },
  {
   "cell_type": "markdown",
   "id": "3e2655fc-c47c-4fbc-ace0-755483680c92",
   "metadata": {},
   "source": [
    "# Create new dataframe exculding low activity customers"
   ]
  },
  {
   "cell_type": "code",
   "execution_count": 23,
   "id": "b9ce851e-2f1a-4886-a61a-690e7cc72a9e",
   "metadata": {
    "tags": []
   },
   "outputs": [],
   "source": [
    "# define low activity customers (those that have less then 5 orders)\n",
    "df.loc[df['order_number'] < 5, 'customer_activity'] = 'low_activity customers'\n",
    "\n",
    "# Define high_activity customers (those with 5 or more orders\n",
    "df.loc[df['order_number'] >= 5, 'customer_activity'] = 'high_activity customer'"
   ]
  },
  {
   "cell_type": "code",
   "execution_count": 24,
   "id": "0ff4b5d3-509b-48c4-91cb-c5b011ca0fd3",
   "metadata": {
    "tags": []
   },
   "outputs": [
    {
     "data": {
      "text/plain": [
       "customer_activity\n",
       "high_activity customer    753400\n",
       "low_activity customers    246600\n",
       "Name: count, dtype: int64"
      ]
     },
     "execution_count": 24,
     "metadata": {},
     "output_type": "execute_result"
    }
   ],
   "source": [
    "df['customer_activity'].value_counts(dropna= False)"
   ]
  },
  {
   "cell_type": "markdown",
   "id": "f65e0849-2130-4837-946d-6d9063857763",
   "metadata": {},
   "source": [
    "we know this is correct becasue this equals 1,000,0000 total customers, which is the sample size we are using for this exercise"
   ]
  },
  {
   "cell_type": "code",
   "execution_count": 25,
   "id": "47d94ac0-e929-4e44-a1ec-88bd2fd596a6",
   "metadata": {
    "tags": []
   },
   "outputs": [],
   "source": [
    "#exclude low activtiy customers\n",
    "df_high_activity = df[df['customer_activity'] != 'low_activity customers']"
   ]
  },
  {
   "cell_type": "code",
   "execution_count": 26,
   "id": "4c32e4ad-3e59-4d82-b373-73dad6ab52db",
   "metadata": {
    "tags": []
   },
   "outputs": [
    {
     "data": {
      "text/plain": [
       "order_id                      753400\n",
       "user_id                       753400\n",
       "order_number                  753400\n",
       "orders_day_of_week            753400\n",
       "order_hour_of_day             753400\n",
       "days_since_prior_order        753400\n",
       "product_id                    753400\n",
       "add_to_cart_order             753400\n",
       "reordered                     753400\n",
       "product_name                  753400\n",
       "aisle_id                      753400\n",
       "department_id                 753400\n",
       "prices                        753400\n",
       "_merge_sample                 753400\n",
       "price_range_loc               753400\n",
       "busiest_day                   753400\n",
       "busiest_days                  753400\n",
       "max_order                     753400\n",
       "loyalty_flag                  753400\n",
       "mean_product_price            753400\n",
       "spending_flag                 753400\n",
       "median_days_between_orders    753400\n",
       "order_frequency               753400\n",
       "First Name                    711880\n",
       "Last_Name                     753400\n",
       "Gender                        753400\n",
       "State                         753400\n",
       "Age                           753400\n",
       "date_joined                   753400\n",
       "dependants                    753400\n",
       "family_status                 753400\n",
       "income                        753400\n",
       "_merge                        753400\n",
       "region                        753400\n",
       "customer_activity             753400\n",
       "dtype: int64"
      ]
     },
     "execution_count": 26,
     "metadata": {},
     "output_type": "execute_result"
    }
   ],
   "source": [
    "df_high_activity.count()"
   ]
  },
  {
   "cell_type": "code",
   "execution_count": 27,
   "id": "78e520ac-312c-4c8d-ab73-8619b39ef4e9",
   "metadata": {
    "tags": []
   },
   "outputs": [],
   "source": [
    "#export new dataframe\n",
    "df_high_activity.to_pickle(os.path.join(path, 'Instacart Basket Anaylsis', '02 Data','Prepared Data', 'high_activity_users.pkl'))"
   ]
  },
  {
   "cell_type": "markdown",
   "id": "22d2dc97-a859-4dc2-bdf1-aeee3c2f3f2d",
   "metadata": {},
   "source": [
    "Task 5 -  Create a profiling variable based on age, income, certain goods in the “department_id” column, and number of dependents"
   ]
  },
  {
   "cell_type": "code",
   "execution_count": 28,
   "id": "122f1cbc-5174-4289-a4df-577e62092257",
   "metadata": {
    "tags": []
   },
   "outputs": [
    {
     "data": {
      "text/plain": [
       "count    753400.000000\n",
       "mean      99858.966156\n",
       "std       43310.829925\n",
       "min       25955.000000\n",
       "25%       67487.000000\n",
       "50%       96823.000000\n",
       "75%      128145.000000\n",
       "max      593901.000000\n",
       "Name: income, dtype: float64"
      ]
     },
     "execution_count": 28,
     "metadata": {},
     "output_type": "execute_result"
    }
   ],
   "source": [
    "df_high_activity['income'].describe()"
   ]
  },
  {
   "cell_type": "code",
   "execution_count": 29,
   "id": "ec375f26-e77a-4913-b88a-9399e704c973",
   "metadata": {
    "tags": []
   },
   "outputs": [
    {
     "data": {
      "text/plain": [
       "count    753400.000000\n",
       "mean         49.486228\n",
       "std          18.494250\n",
       "min          18.000000\n",
       "25%          33.000000\n",
       "50%          49.000000\n",
       "75%          66.000000\n",
       "max          81.000000\n",
       "Name: Age, dtype: float64"
      ]
     },
     "execution_count": 29,
     "metadata": {},
     "output_type": "execute_result"
    }
   ],
   "source": [
    "df_high_activity['Age'].describe()"
   ]
  },
  {
   "cell_type": "code",
   "execution_count": 30,
   "id": "241f9b31-2c15-4461-a22d-017b4efad453",
   "metadata": {
    "tags": []
   },
   "outputs": [
    {
     "data": {
      "text/plain": [
       "count    753400.000000\n",
       "mean          1.504551\n",
       "std           1.118924\n",
       "min           0.000000\n",
       "25%           1.000000\n",
       "50%           2.000000\n",
       "75%           3.000000\n",
       "max           3.000000\n",
       "Name: dependants, dtype: float64"
      ]
     },
     "execution_count": 30,
     "metadata": {},
     "output_type": "execute_result"
    }
   ],
   "source": [
    "df_high_activity['dependants'].describe()"
   ]
  },
  {
   "cell_type": "markdown",
   "id": "7cba9685-1178-49ea-a005-de09e636d32b",
   "metadata": {},
   "source": [
    "Based on the above data, we can create profiles based age and income. We can split them each into three tiers. Tier 1 is the bottome 25%, teir two is from 25-50%, and tier 3 is from 75-100%. Using this will make six total tiers that sort by both age and income"
   ]
  },
  {
   "cell_type": "markdown",
   "id": "4429c77d-507a-4e59-8001-4b9a8fabe81b",
   "metadata": {},
   "source": [
    "#define differnt age and income groups"
   ]
  },
  {
   "cell_type": "code",
   "execution_count": 31,
   "id": "4f38e520-25ac-4869-b86d-abd1a2225219",
   "metadata": {
    "tags": []
   },
   "outputs": [
    {
     "name": "stderr",
     "output_type": "stream",
     "text": [
      "C:\\Users\\kenwh\\AppData\\Local\\Temp\\ipykernel_31556\\171190995.py:2: SettingWithCopyWarning: \n",
      "A value is trying to be set on a copy of a slice from a DataFrame.\n",
      "Try using .loc[row_indexer,col_indexer] = value instead\n",
      "\n",
      "See the caveats in the documentation: https://pandas.pydata.org/pandas-docs/stable/user_guide/indexing.html#returning-a-view-versus-a-copy\n",
      "  df_high_activity.loc[(df_high_activity['Age'] >= 18) & (df_high_activity['Age'] <= 33)\n"
     ]
    }
   ],
   "source": [
    "# Define low-income young adult group\n",
    "df_high_activity.loc[(df_high_activity['Age'] >= 18) & (df_high_activity['Age'] <= 33) \n",
    "         & (df_high_activity['income'] >= 25955) & (df_high_activity['income'] <= 67487),\n",
    "         'customer_profile'] = 'low-income young adult'"
   ]
  },
  {
   "cell_type": "code",
   "execution_count": 32,
   "id": "c5921724-bde6-4204-a624-b515b09066b7",
   "metadata": {
    "tags": []
   },
   "outputs": [],
   "source": [
    "# Define low-income middle age group\n",
    "df_high_activity.loc[(df_high_activity['Age'] >33) & (df_high_activity['Age'] < 66) \n",
    "         & (df_high_activity['income'] >= 25955) & (df_high_activity['income'] <= 67487),\n",
    "         'customer_profile'] = 'low-income middle age'"
   ]
  },
  {
   "cell_type": "code",
   "execution_count": 33,
   "id": "21eb88be-f315-4663-90cf-c87456f2917b",
   "metadata": {
    "tags": []
   },
   "outputs": [],
   "source": [
    "# Define low-income senior group\n",
    "df_high_activity.loc[(df_high_activity['Age'] >= 66) & (df_high_activity['Age'] <= 81) \n",
    "         & (df_high_activity['income'] >= 25955) & (df_high_activity['income'] <= 67487),\n",
    "         'customer_profile'] = 'low-income senior group'"
   ]
  },
  {
   "cell_type": "code",
   "execution_count": 34,
   "id": "c76307d6-56c1-4ccb-ab80-81314ee580a5",
   "metadata": {
    "tags": []
   },
   "outputs": [],
   "source": [
    "# Define mid-income young adult group\n",
    "df_high_activity.loc[(df_high_activity['Age'] >= 18) & (df_high_activity['Age'] <= 33) \n",
    "         & (df_high_activity['income'] >67487) & (df_high_activity['income'] < 128145),\n",
    "         'customer_profile'] = 'mid-income young adult'"
   ]
  },
  {
   "cell_type": "code",
   "execution_count": 35,
   "id": "acc60cd3-0d92-4122-8c71-f869f75a2da5",
   "metadata": {
    "tags": []
   },
   "outputs": [],
   "source": [
    "# Define high-income young adult group\n",
    "df_high_activity.loc[(df_high_activity['Age'] >= 18) & (df_high_activity['Age'] <= 33) \n",
    "         & (df_high_activity['income'] >= 128145) & (df_high_activity['income'] <= 593901),\n",
    "         'customer_profile'] = 'high-income young adult'"
   ]
  },
  {
   "cell_type": "code",
   "execution_count": 36,
   "id": "49b119a9-9df3-4086-8118-bfede957da8d",
   "metadata": {
    "tags": []
   },
   "outputs": [],
   "source": [
    "# Define mid-income middle age group\n",
    "df_high_activity.loc[(df_high_activity['Age'] >33) & (df_high_activity['Age'] <66) \n",
    "         & (df_high_activity['income'] >67487) & (df_high_activity['income'] <= 128145),\n",
    "         'customer_profile'] = 'mid-income middle age'"
   ]
  },
  {
   "cell_type": "code",
   "execution_count": 37,
   "id": "1b5eecfb-9597-4f97-94d8-bfaf1c13aab2",
   "metadata": {
    "tags": []
   },
   "outputs": [],
   "source": [
    "# Define mid-income senior group\n",
    "df_high_activity.loc[(df_high_activity['Age'] >= 66) & (df_high_activity['Age'] <= 81)\n",
    "         & (df_high_activity['income'] >67487) & (df_high_activity['income'] <= 128145),\n",
    "         'customer_profile'] = 'mid-income senior group'"
   ]
  },
  {
   "cell_type": "code",
   "execution_count": 38,
   "id": "1576e8ea-b4d3-4922-9994-131483d5cc65",
   "metadata": {
    "tags": []
   },
   "outputs": [],
   "source": [
    "# Define high-income middle age group\n",
    "df_high_activity.loc[(df_high_activity['Age'] >33) & (df_high_activity['Age'] <66) \n",
    "         & (df_high_activity['income'] >= 128145) & (df_high_activity['income'] <= 593901),\n",
    "         'customer_profile'] = 'high-income middle age'"
   ]
  },
  {
   "cell_type": "code",
   "execution_count": 39,
   "id": "89cbff0f-7ff7-4618-ae70-460402003684",
   "metadata": {
    "tags": []
   },
   "outputs": [],
   "source": [
    "# Define high-income senior age group\n",
    "df_high_activity.loc[(df_high_activity['Age'] >= 66) & (df_high_activity['Age'] <= 81) \n",
    "         & (df_high_activity['income'] >= 128145) & (df_high_activity['income'] <= 593901),\n",
    "         'customer_profile'] = 'high-income senior group'"
   ]
  },
  {
   "cell_type": "markdown",
   "id": "bdbec23a-c408-407d-a286-1ba0c14272d6",
   "metadata": {},
   "source": [
    "#data based on customer profiles"
   ]
  },
  {
   "cell_type": "code",
   "execution_count": 40,
   "id": "b3283392-973e-46c6-95d1-e4cdd73a796d",
   "metadata": {
    "tags": []
   },
   "outputs": [
    {
     "data": {
      "text/html": [
       "<div>\n",
       "<style scoped>\n",
       "    .dataframe tbody tr th:only-of-type {\n",
       "        vertical-align: middle;\n",
       "    }\n",
       "\n",
       "    .dataframe tbody tr th {\n",
       "        vertical-align: top;\n",
       "    }\n",
       "\n",
       "    .dataframe thead th {\n",
       "        text-align: right;\n",
       "    }\n",
       "</style>\n",
       "<table border=\"1\" class=\"dataframe\">\n",
       "  <thead>\n",
       "    <tr style=\"text-align: right;\">\n",
       "      <th>dependants</th>\n",
       "      <th>0</th>\n",
       "      <th>1</th>\n",
       "      <th>2</th>\n",
       "      <th>3</th>\n",
       "    </tr>\n",
       "    <tr>\n",
       "      <th>customer_profile</th>\n",
       "      <th></th>\n",
       "      <th></th>\n",
       "      <th></th>\n",
       "      <th></th>\n",
       "    </tr>\n",
       "  </thead>\n",
       "  <tbody>\n",
       "    <tr>\n",
       "      <th>high-income middle age</th>\n",
       "      <td>29327</td>\n",
       "      <td>28404</td>\n",
       "      <td>28169</td>\n",
       "      <td>28500</td>\n",
       "    </tr>\n",
       "    <tr>\n",
       "      <th>high-income senior group</th>\n",
       "      <td>17582</td>\n",
       "      <td>17710</td>\n",
       "      <td>18178</td>\n",
       "      <td>18356</td>\n",
       "    </tr>\n",
       "    <tr>\n",
       "      <th>high-income young adult</th>\n",
       "      <td>483</td>\n",
       "      <td>517</td>\n",
       "      <td>602</td>\n",
       "      <td>533</td>\n",
       "    </tr>\n",
       "    <tr>\n",
       "      <th>low-income middle age</th>\n",
       "      <td>19366</td>\n",
       "      <td>18755</td>\n",
       "      <td>19191</td>\n",
       "      <td>19151</td>\n",
       "    </tr>\n",
       "    <tr>\n",
       "      <th>low-income senior group</th>\n",
       "      <td>5573</td>\n",
       "      <td>6332</td>\n",
       "      <td>5967</td>\n",
       "      <td>5855</td>\n",
       "    </tr>\n",
       "    <tr>\n",
       "      <th>low-income young adult</th>\n",
       "      <td>22116</td>\n",
       "      <td>21669</td>\n",
       "      <td>22166</td>\n",
       "      <td>22264</td>\n",
       "    </tr>\n",
       "    <tr>\n",
       "      <th>mid-income middle age</th>\n",
       "      <td>45870</td>\n",
       "      <td>47118</td>\n",
       "      <td>45382</td>\n",
       "      <td>46985</td>\n",
       "    </tr>\n",
       "    <tr>\n",
       "      <th>mid-income senior group</th>\n",
       "      <td>22961</td>\n",
       "      <td>22686</td>\n",
       "      <td>23915</td>\n",
       "      <td>23335</td>\n",
       "    </tr>\n",
       "    <tr>\n",
       "      <th>mid-income young adult</th>\n",
       "      <td>24412</td>\n",
       "      <td>24467</td>\n",
       "      <td>24715</td>\n",
       "      <td>24788</td>\n",
       "    </tr>\n",
       "  </tbody>\n",
       "</table>\n",
       "</div>"
      ],
      "text/plain": [
       "dependants                    0      1      2      3\n",
       "customer_profile                                    \n",
       "high-income middle age    29327  28404  28169  28500\n",
       "high-income senior group  17582  17710  18178  18356\n",
       "high-income young adult     483    517    602    533\n",
       "low-income middle age     19366  18755  19191  19151\n",
       "low-income senior group    5573   6332   5967   5855\n",
       "low-income young adult    22116  21669  22166  22264\n",
       "mid-income middle age     45870  47118  45382  46985\n",
       "mid-income senior group   22961  22686  23915  23335\n",
       "mid-income young adult    24412  24467  24715  24788"
      ]
     },
     "execution_count": 40,
     "metadata": {},
     "output_type": "execute_result"
    }
   ],
   "source": [
    "# Number of dependants by customer profile\n",
    "cust_dependants = pd.crosstab(df_high_activity['customer_profile'], df_high_activity['dependants'], dropna = False)\n",
    "cust_dependants"
   ]
  },
  {
   "cell_type": "code",
   "execution_count": 41,
   "id": "5cbb333d-5850-4a9e-a108-6b62fc828c9e",
   "metadata": {
    "tags": []
   },
   "outputs": [
    {
     "data": {
      "text/html": [
       "<div>\n",
       "<style scoped>\n",
       "    .dataframe tbody tr th:only-of-type {\n",
       "        vertical-align: middle;\n",
       "    }\n",
       "\n",
       "    .dataframe tbody tr th {\n",
       "        vertical-align: top;\n",
       "    }\n",
       "\n",
       "    .dataframe thead th {\n",
       "        text-align: right;\n",
       "    }\n",
       "</style>\n",
       "<table border=\"1\" class=\"dataframe\">\n",
       "  <thead>\n",
       "    <tr style=\"text-align: right;\">\n",
       "      <th>family_status</th>\n",
       "      <th>divorced/widowed</th>\n",
       "      <th>living with parents and siblings</th>\n",
       "      <th>married</th>\n",
       "      <th>single</th>\n",
       "    </tr>\n",
       "    <tr>\n",
       "      <th>customer_profile</th>\n",
       "      <th></th>\n",
       "      <th></th>\n",
       "      <th></th>\n",
       "      <th></th>\n",
       "    </tr>\n",
       "  </thead>\n",
       "  <tbody>\n",
       "    <tr>\n",
       "      <th>high-income middle age</th>\n",
       "      <td>7051</td>\n",
       "      <td>0</td>\n",
       "      <td>85073</td>\n",
       "      <td>22276</td>\n",
       "    </tr>\n",
       "    <tr>\n",
       "      <th>high-income senior group</th>\n",
       "      <td>17582</td>\n",
       "      <td>0</td>\n",
       "      <td>54244</td>\n",
       "      <td>0</td>\n",
       "    </tr>\n",
       "    <tr>\n",
       "      <th>high-income young adult</th>\n",
       "      <td>0</td>\n",
       "      <td>487</td>\n",
       "      <td>1165</td>\n",
       "      <td>483</td>\n",
       "    </tr>\n",
       "    <tr>\n",
       "      <th>low-income middle age</th>\n",
       "      <td>2316</td>\n",
       "      <td>0</td>\n",
       "      <td>57097</td>\n",
       "      <td>17050</td>\n",
       "    </tr>\n",
       "    <tr>\n",
       "      <th>low-income senior group</th>\n",
       "      <td>5573</td>\n",
       "      <td>0</td>\n",
       "      <td>18154</td>\n",
       "      <td>0</td>\n",
       "    </tr>\n",
       "    <tr>\n",
       "      <th>low-income young adult</th>\n",
       "      <td>0</td>\n",
       "      <td>16277</td>\n",
       "      <td>49822</td>\n",
       "      <td>22116</td>\n",
       "    </tr>\n",
       "    <tr>\n",
       "      <th>mid-income middle age</th>\n",
       "      <td>8757</td>\n",
       "      <td>0</td>\n",
       "      <td>139485</td>\n",
       "      <td>37113</td>\n",
       "    </tr>\n",
       "    <tr>\n",
       "      <th>mid-income senior group</th>\n",
       "      <td>22961</td>\n",
       "      <td>0</td>\n",
       "      <td>69936</td>\n",
       "      <td>0</td>\n",
       "    </tr>\n",
       "    <tr>\n",
       "      <th>mid-income young adult</th>\n",
       "      <td>0</td>\n",
       "      <td>19504</td>\n",
       "      <td>54466</td>\n",
       "      <td>24412</td>\n",
       "    </tr>\n",
       "  </tbody>\n",
       "</table>\n",
       "</div>"
      ],
      "text/plain": [
       "family_status             divorced/widowed  living with parents and siblings  \\\n",
       "customer_profile                                                               \n",
       "high-income middle age                7051                                 0   \n",
       "high-income senior group             17582                                 0   \n",
       "high-income young adult                  0                               487   \n",
       "low-income middle age                 2316                                 0   \n",
       "low-income senior group               5573                                 0   \n",
       "low-income young adult                   0                             16277   \n",
       "mid-income middle age                 8757                                 0   \n",
       "mid-income senior group              22961                                 0   \n",
       "mid-income young adult                   0                             19504   \n",
       "\n",
       "family_status             married  single  \n",
       "customer_profile                           \n",
       "high-income middle age      85073   22276  \n",
       "high-income senior group    54244       0  \n",
       "high-income young adult      1165     483  \n",
       "low-income middle age       57097   17050  \n",
       "low-income senior group     18154       0  \n",
       "low-income young adult      49822   22116  \n",
       "mid-income middle age      139485   37113  \n",
       "mid-income senior group     69936       0  \n",
       "mid-income young adult      54466   24412  "
      ]
     },
     "execution_count": 41,
     "metadata": {},
     "output_type": "execute_result"
    }
   ],
   "source": [
    "#family satus based on customer proflie\n",
    "cust_dependants = pd.crosstab(df_high_activity['customer_profile'], df_high_activity['family_status'], dropna = False)\n",
    "cust_dependants"
   ]
  },
  {
   "cell_type": "code",
   "execution_count": 42,
   "id": "54dab03f-4ffe-4bdc-924b-e996f012dc5d",
   "metadata": {
    "tags": []
   },
   "outputs": [
    {
     "data": {
      "text/plain": [
       "customer_profile\n",
       "mid-income middle age       185355\n",
       "high-income middle age      114400\n",
       "mid-income young adult       98382\n",
       "mid-income senior group      92897\n",
       "low-income young adult       88215\n",
       "low-income middle age        76463\n",
       "high-income senior group     71826\n",
       "low-income senior group      23727\n",
       "high-income young adult       2135\n",
       "Name: count, dtype: int64"
      ]
     },
     "execution_count": 42,
     "metadata": {},
     "output_type": "execute_result"
    }
   ],
   "source": [
    "# Distribution of customer profile\n",
    "df_high_activity['customer_profile'].value_counts()"
   ]
  },
  {
   "cell_type": "markdown",
   "id": "15e9df73-3f0e-4acc-b8fc-3d39eb4a03f7",
   "metadata": {},
   "source": [
    "These charts above break our high frequency instacart customers into 9 subsets. As you can see, the most common subset is middle aged and mid income, while the smallest subset is high income young adult. We can also see from teh first table above that across each subset there is a clsoe to equal distribution in the number of depednets a customer has, with bumbers simmilar across each row.\n",
    "\n",
    "The family status table shows that young adults are living with parents and or siblings, while middle aged customers are a mixture of divorced/widowed, married and single, and seniors who use instacart are either divorced/widowed or married.\n",
    "\n",
    "The graphs and charts below will also help to display the data found above"
   ]
  },
  {
   "cell_type": "markdown",
   "id": "035299ff-2b04-4d7b-8381-f70c983b8217",
   "metadata": {},
   "source": [
    "# Task 6- Visualizations related to distributions of profiles"
   ]
  },
  {
   "cell_type": "code",
   "execution_count": 43,
   "id": "969ae4bd-f951-487c-9e64-7929e3302dc2",
   "metadata": {
    "tags": []
   },
   "outputs": [
    {
     "data": {
      "text/plain": [
       "Text(0.5, 1.0, 'Number of Users')"
      ]
     },
     "execution_count": 43,
     "metadata": {},
     "output_type": "execute_result"
    },
    {
     "data": {
      "image/png": "[encoded data removed]",
      "text/plain": [
       "<Figure size 640x480 with 1 Axes>"
      ]
     },
     "metadata": {},
     "output_type": "display_data"
    }
   ],
   "source": [
    "bar=df_high_activity['customer_profile'].value_counts(dropna= False).sort_values(ascending= True).plot.barh(color='#4f6784')\n",
    "plt.ylabel(' ') # Eliminate y label\n",
    "plt.xlabel('User Count')\n",
    "# Add a title\n",
    "plt.title('Number of Users')"
   ]
  },
  {
   "cell_type": "code",
   "execution_count": 44,
   "id": "8c3639a6-31a9-4edc-80f1-e93b2bb8ef7f",
   "metadata": {
    "tags": []
   },
   "outputs": [],
   "source": [
    "#Save file to acces\n",
    "bar.figure.savefig(os.path.join(path, 'Instacart Basket Anaylsis', '04 Analysis','Visualizations', 'customer_profile_demographic_frequency_bar.png'))"
   ]
  },
  {
   "cell_type": "markdown",
   "id": "1b67f2d0-c385-4013-997e-e5563d70341b",
   "metadata": {},
   "source": [
    "# Departments"
   ]
  },
  {
   "cell_type": "code",
   "execution_count": 45,
   "id": "625ed175-5e07-4ede-a8bf-34e0322b4d3f",
   "metadata": {
    "tags": []
   },
   "outputs": [],
   "source": [
    "\n",
    "department_dictionary = {\n",
    "                            1: 'frozen',\n",
    "                            2: 'other',\n",
    "                            3: 'bakery',\n",
    "                            4: 'produce',\n",
    "                            5: 'alcohol',\n",
    "                            6: 'international',\n",
    "                            7: 'beverages',\n",
    "                            8: 'pets',\n",
    "                            9: 'dry goods pasta',\n",
    "                            10: 'bulk',\n",
    "                            11: 'personal care',\n",
    "                            12: 'meat seafood',\n",
    "                            13: 'pantry',\n",
    "                            14: 'breakfast',\n",
    "                            15: 'canned goods',\n",
    "                            16: 'dairy eggs',\n",
    "                            17: 'household',\n",
    "                            18: 'babies',\n",
    "                            19: 'snacks',\n",
    "                            20: 'deli',\n",
    "                                                    }"
   ]
  },
  {
   "cell_type": "code",
   "execution_count": 46,
   "id": "cf72172f-389d-40de-9a78-78f28e343fc9",
   "metadata": {
    "tags": []
   },
   "outputs": [],
   "source": [
    "\n",
    "# Add a new column 'department' to existing table\n",
    "alter_query = \"ALTER TABLE df_high_activity ADD COLUMN department VARCHAR(255)\"\n",
    "\n",
    "\n",
    "# Update the 'department' column based on department number\n",
    "for department_id, department_name in department_dictionary.items():\n",
    "    update_query = f\"UPDATE df_high_activity SET department = '{department_name}' WHERE department_id = {department_id}\"\n",
    "    "
   ]
  },
  {
   "cell_type": "code",
   "execution_count": 47,
   "id": "d3434893-39d5-49da-b600-5888a3fd0ab5",
   "metadata": {
    "tags": []
   },
   "outputs": [
    {
     "name": "stdout",
     "output_type": "stream",
     "text": [
      "Object `up` not found.\n"
     ]
    }
   ],
   "source": [
    "df_high_activity.columns\n",
    "\n"
   ]
  },
  {
   "cell_type": "code",
   "execution_count": 48,
   "id": "3b164a76-c4d9-4da3-a99d-780b9c92aa69",
   "metadata": {
    "tags": []
   },
   "outputs": [
    {
     "data": {
      "text/html": [
       "<div>\n",
       "<style scoped>\n",
       "    .dataframe tbody tr th:only-of-type {\n",
       "        vertical-align: middle;\n",
       "    }\n",
       "\n",
       "    .dataframe tbody tr th {\n",
       "        vertical-align: top;\n",
       "    }\n",
       "\n",
       "    .dataframe thead th {\n",
       "        text-align: right;\n",
       "    }\n",
       "</style>\n",
       "<table border=\"1\" class=\"dataframe\">\n",
       "  <thead>\n",
       "    <tr style=\"text-align: right;\">\n",
       "      <th></th>\n",
       "      <th>order_id</th>\n",
       "      <th>user_id</th>\n",
       "      <th>order_number</th>\n",
       "      <th>orders_day_of_week</th>\n",
       "      <th>order_hour_of_day</th>\n",
       "      <th>days_since_prior_order</th>\n",
       "      <th>product_id</th>\n",
       "      <th>add_to_cart_order</th>\n",
       "      <th>reordered</th>\n",
       "      <th>product_name</th>\n",
       "      <th>...</th>\n",
       "      <th>State</th>\n",
       "      <th>Age</th>\n",
       "      <th>date_joined</th>\n",
       "      <th>dependants</th>\n",
       "      <th>family_status</th>\n",
       "      <th>income</th>\n",
       "      <th>_merge</th>\n",
       "      <th>region</th>\n",
       "      <th>customer_activity</th>\n",
       "      <th>customer_profile</th>\n",
       "    </tr>\n",
       "  </thead>\n",
       "  <tbody>\n",
       "    <tr>\n",
       "      <th>0</th>\n",
       "      <td>1622621</td>\n",
       "      <td>153719</td>\n",
       "      <td>20</td>\n",
       "      <td>6</td>\n",
       "      <td>Average orders</td>\n",
       "      <td>13.0</td>\n",
       "      <td>27737</td>\n",
       "      <td>28</td>\n",
       "      <td>0</td>\n",
       "      <td>Brown Rice Black-Eyed Peas and Veggies Bowl</td>\n",
       "      <td>...</td>\n",
       "      <td>California</td>\n",
       "      <td>41</td>\n",
       "      <td>2020-01-31</td>\n",
       "      <td>2</td>\n",
       "      <td>married</td>\n",
       "      <td>85350</td>\n",
       "      <td>both</td>\n",
       "      <td>West</td>\n",
       "      <td>high_activity customer</td>\n",
       "      <td>mid-income middle age</td>\n",
       "    </tr>\n",
       "    <tr>\n",
       "      <th>1</th>\n",
       "      <td>2657362</td>\n",
       "      <td>153719</td>\n",
       "      <td>57</td>\n",
       "      <td>0</td>\n",
       "      <td>Average orders</td>\n",
       "      <td>3.0</td>\n",
       "      <td>28123</td>\n",
       "      <td>20</td>\n",
       "      <td>1</td>\n",
       "      <td>Organic Cut Green Beans</td>\n",
       "      <td>...</td>\n",
       "      <td>California</td>\n",
       "      <td>41</td>\n",
       "      <td>2020-01-31</td>\n",
       "      <td>2</td>\n",
       "      <td>married</td>\n",
       "      <td>85350</td>\n",
       "      <td>both</td>\n",
       "      <td>West</td>\n",
       "      <td>high_activity customer</td>\n",
       "      <td>mid-income middle age</td>\n",
       "    </tr>\n",
       "    <tr>\n",
       "      <th>2</th>\n",
       "      <td>1325818</td>\n",
       "      <td>153719</td>\n",
       "      <td>68</td>\n",
       "      <td>1</td>\n",
       "      <td>Most orders</td>\n",
       "      <td>2.0</td>\n",
       "      <td>32043</td>\n",
       "      <td>15</td>\n",
       "      <td>0</td>\n",
       "      <td>Organic Low Fat Vanila Milk</td>\n",
       "      <td>...</td>\n",
       "      <td>California</td>\n",
       "      <td>41</td>\n",
       "      <td>2020-01-31</td>\n",
       "      <td>2</td>\n",
       "      <td>married</td>\n",
       "      <td>85350</td>\n",
       "      <td>both</td>\n",
       "      <td>West</td>\n",
       "      <td>high_activity customer</td>\n",
       "      <td>mid-income middle age</td>\n",
       "    </tr>\n",
       "    <tr>\n",
       "      <th>3</th>\n",
       "      <td>1776771</td>\n",
       "      <td>153719</td>\n",
       "      <td>10</td>\n",
       "      <td>6</td>\n",
       "      <td>Most orders</td>\n",
       "      <td>20.0</td>\n",
       "      <td>28934</td>\n",
       "      <td>19</td>\n",
       "      <td>1</td>\n",
       "      <td>Frozen Broccoli Florets</td>\n",
       "      <td>...</td>\n",
       "      <td>California</td>\n",
       "      <td>41</td>\n",
       "      <td>2020-01-31</td>\n",
       "      <td>2</td>\n",
       "      <td>married</td>\n",
       "      <td>85350</td>\n",
       "      <td>both</td>\n",
       "      <td>West</td>\n",
       "      <td>high_activity customer</td>\n",
       "      <td>mid-income middle age</td>\n",
       "    </tr>\n",
       "    <tr>\n",
       "      <th>4</th>\n",
       "      <td>2657362</td>\n",
       "      <td>153719</td>\n",
       "      <td>57</td>\n",
       "      <td>0</td>\n",
       "      <td>Average orders</td>\n",
       "      <td>3.0</td>\n",
       "      <td>19173</td>\n",
       "      <td>8</td>\n",
       "      <td>1</td>\n",
       "      <td>Orange Calcium &amp; Vitamin D Pulp Free</td>\n",
       "      <td>...</td>\n",
       "      <td>California</td>\n",
       "      <td>41</td>\n",
       "      <td>2020-01-31</td>\n",
       "      <td>2</td>\n",
       "      <td>married</td>\n",
       "      <td>85350</td>\n",
       "      <td>both</td>\n",
       "      <td>West</td>\n",
       "      <td>high_activity customer</td>\n",
       "      <td>mid-income middle age</td>\n",
       "    </tr>\n",
       "  </tbody>\n",
       "</table>\n",
       "<p>5 rows × 36 columns</p>\n",
       "</div>"
      ],
      "text/plain": [
       "   order_id  user_id  order_number  orders_day_of_week order_hour_of_day  \\\n",
       "0   1622621   153719            20                   6    Average orders   \n",
       "1   2657362   153719            57                   0    Average orders   \n",
       "2   1325818   153719            68                   1       Most orders   \n",
       "3   1776771   153719            10                   6       Most orders   \n",
       "4   2657362   153719            57                   0    Average orders   \n",
       "\n",
       "   days_since_prior_order  product_id  add_to_cart_order  reordered  \\\n",
       "0                    13.0       27737                 28          0   \n",
       "1                     3.0       28123                 20          1   \n",
       "2                     2.0       32043                 15          0   \n",
       "3                    20.0       28934                 19          1   \n",
       "4                     3.0       19173                  8          1   \n",
       "\n",
       "                                  product_name  ...       State  Age  \\\n",
       "0  Brown Rice Black-Eyed Peas and Veggies Bowl  ...  California   41   \n",
       "1                      Organic Cut Green Beans  ...  California   41   \n",
       "2                  Organic Low Fat Vanila Milk  ...  California   41   \n",
       "3                      Frozen Broccoli Florets  ...  California   41   \n",
       "4         Orange Calcium & Vitamin D Pulp Free  ...  California   41   \n",
       "\n",
       "   date_joined dependants family_status income _merge  region  \\\n",
       "0   2020-01-31          2       married  85350   both    West   \n",
       "1   2020-01-31          2       married  85350   both    West   \n",
       "2   2020-01-31          2       married  85350   both    West   \n",
       "3   2020-01-31          2       married  85350   both    West   \n",
       "4   2020-01-31          2       married  85350   both    West   \n",
       "\n",
       "        customer_activity       customer_profile  \n",
       "0  high_activity customer  mid-income middle age  \n",
       "1  high_activity customer  mid-income middle age  \n",
       "2  high_activity customer  mid-income middle age  \n",
       "3  high_activity customer  mid-income middle age  \n",
       "4  high_activity customer  mid-income middle age  \n",
       "\n",
       "[5 rows x 36 columns]"
      ]
     },
     "execution_count": 48,
     "metadata": {},
     "output_type": "execute_result"
    }
   ],
   "source": [
    "df_high_activity.head()"
   ]
  },
  {
   "cell_type": "code",
   "execution_count": 49,
   "id": "ac382117-29d1-4427-bcae-b6ed4fac86bf",
   "metadata": {
    "tags": []
   },
   "outputs": [
    {
     "data": {
      "text/plain": [
       "department_id\n",
       "4     222051\n",
       "16    127212\n",
       "19     67446\n",
       "7      62944\n",
       "1      50488\n",
       "13     43092\n",
       "3      27357\n",
       "15     24347\n",
       "20     24274\n",
       "9      19585\n",
       "17     16620\n",
       "14     16354\n",
       "12     16057\n",
       "18     10417\n",
       "11     10097\n",
       "6       6190\n",
       "5       3238\n",
       "8       2168\n",
       "21      1798\n",
       "10       867\n",
       "2        798\n",
       "Name: count, dtype: int64"
      ]
     },
     "execution_count": 49,
     "metadata": {},
     "output_type": "execute_result"
    }
   ],
   "source": [
    "df_high_activity['department_id'].value_counts()"
   ]
  },
  {
   "cell_type": "code",
   "execution_count": 95,
   "id": "e96239ab-0707-4821-963c-5dc7ac5fbeb9",
   "metadata": {},
   "outputs": [],
   "source": [
    "# Groupby\n",
    "\n",
    "df_loyal_dept_group = df_high_activity.groupby(['department_id','loyalty_flag' ]).size().unstack()"
   ]
  },
  {
   "cell_type": "code",
   "execution_count": 51,
   "id": "493c33b2-8d7e-4d54-bbd1-857821c65f31",
   "metadata": {},
   "outputs": [
    {
     "data": {
      "text/html": [
       "<div>\n",
       "<style scoped>\n",
       "    .dataframe tbody tr th:only-of-type {\n",
       "        vertical-align: middle;\n",
       "    }\n",
       "\n",
       "    .dataframe tbody tr th {\n",
       "        vertical-align: top;\n",
       "    }\n",
       "\n",
       "    .dataframe thead th {\n",
       "        text-align: right;\n",
       "    }\n",
       "</style>\n",
       "<table border=\"1\" class=\"dataframe\">\n",
       "  <thead>\n",
       "    <tr style=\"text-align: right;\">\n",
       "      <th>loyalty_flag</th>\n",
       "      <th>Loyal customer</th>\n",
       "      <th>New customer</th>\n",
       "      <th>Regular customer</th>\n",
       "    </tr>\n",
       "    <tr>\n",
       "      <th>department_id</th>\n",
       "      <th></th>\n",
       "      <th></th>\n",
       "      <th></th>\n",
       "    </tr>\n",
       "  </thead>\n",
       "  <tbody>\n",
       "    <tr>\n",
       "      <th>1</th>\n",
       "      <td>17365</td>\n",
       "      <td>4898</td>\n",
       "      <td>28225</td>\n",
       "    </tr>\n",
       "    <tr>\n",
       "      <th>2</th>\n",
       "      <td>288</td>\n",
       "      <td>77</td>\n",
       "      <td>433</td>\n",
       "    </tr>\n",
       "    <tr>\n",
       "      <th>3</th>\n",
       "      <td>10971</td>\n",
       "      <td>2283</td>\n",
       "      <td>14103</td>\n",
       "    </tr>\n",
       "    <tr>\n",
       "      <th>4</th>\n",
       "      <td>90174</td>\n",
       "      <td>18247</td>\n",
       "      <td>113630</td>\n",
       "    </tr>\n",
       "    <tr>\n",
       "      <th>5</th>\n",
       "      <td>1086</td>\n",
       "      <td>339</td>\n",
       "      <td>1813</td>\n",
       "    </tr>\n",
       "    <tr>\n",
       "      <th>6</th>\n",
       "      <td>2307</td>\n",
       "      <td>552</td>\n",
       "      <td>3331</td>\n",
       "    </tr>\n",
       "    <tr>\n",
       "      <th>7</th>\n",
       "      <td>24608</td>\n",
       "      <td>5552</td>\n",
       "      <td>32784</td>\n",
       "    </tr>\n",
       "    <tr>\n",
       "      <th>8</th>\n",
       "      <td>718</td>\n",
       "      <td>200</td>\n",
       "      <td>1250</td>\n",
       "    </tr>\n",
       "    <tr>\n",
       "      <th>9</th>\n",
       "      <td>6982</td>\n",
       "      <td>1960</td>\n",
       "      <td>10643</td>\n",
       "    </tr>\n",
       "    <tr>\n",
       "      <th>10</th>\n",
       "      <td>406</td>\n",
       "      <td>57</td>\n",
       "      <td>404</td>\n",
       "    </tr>\n",
       "    <tr>\n",
       "      <th>11</th>\n",
       "      <td>3592</td>\n",
       "      <td>999</td>\n",
       "      <td>5506</td>\n",
       "    </tr>\n",
       "    <tr>\n",
       "      <th>12</th>\n",
       "      <td>5734</td>\n",
       "      <td>1496</td>\n",
       "      <td>8827</td>\n",
       "    </tr>\n",
       "    <tr>\n",
       "      <th>13</th>\n",
       "      <td>16153</td>\n",
       "      <td>3935</td>\n",
       "      <td>23004</td>\n",
       "    </tr>\n",
       "    <tr>\n",
       "      <th>14</th>\n",
       "      <td>6446</td>\n",
       "      <td>1477</td>\n",
       "      <td>8431</td>\n",
       "    </tr>\n",
       "    <tr>\n",
       "      <th>15</th>\n",
       "      <td>8578</td>\n",
       "      <td>2454</td>\n",
       "      <td>13315</td>\n",
       "    </tr>\n",
       "    <tr>\n",
       "      <th>16</th>\n",
       "      <td>52532</td>\n",
       "      <td>10008</td>\n",
       "      <td>64672</td>\n",
       "    </tr>\n",
       "    <tr>\n",
       "      <th>17</th>\n",
       "      <td>5767</td>\n",
       "      <td>1728</td>\n",
       "      <td>9125</td>\n",
       "    </tr>\n",
       "    <tr>\n",
       "      <th>18</th>\n",
       "      <td>4875</td>\n",
       "      <td>665</td>\n",
       "      <td>4877</td>\n",
       "    </tr>\n",
       "    <tr>\n",
       "      <th>19</th>\n",
       "      <td>26919</td>\n",
       "      <td>5575</td>\n",
       "      <td>34952</td>\n",
       "    </tr>\n",
       "    <tr>\n",
       "      <th>20</th>\n",
       "      <td>9319</td>\n",
       "      <td>2146</td>\n",
       "      <td>12809</td>\n",
       "    </tr>\n",
       "    <tr>\n",
       "      <th>21</th>\n",
       "      <td>552</td>\n",
       "      <td>225</td>\n",
       "      <td>1021</td>\n",
       "    </tr>\n",
       "  </tbody>\n",
       "</table>\n",
       "</div>"
      ],
      "text/plain": [
       "loyalty_flag   Loyal customer  New customer  Regular customer\n",
       "department_id                                                \n",
       "1                       17365          4898             28225\n",
       "2                         288            77               433\n",
       "3                       10971          2283             14103\n",
       "4                       90174         18247            113630\n",
       "5                        1086           339              1813\n",
       "6                        2307           552              3331\n",
       "7                       24608          5552             32784\n",
       "8                         718           200              1250\n",
       "9                        6982          1960             10643\n",
       "10                        406            57               404\n",
       "11                       3592           999              5506\n",
       "12                       5734          1496              8827\n",
       "13                      16153          3935             23004\n",
       "14                       6446          1477              8431\n",
       "15                       8578          2454             13315\n",
       "16                      52532         10008             64672\n",
       "17                       5767          1728              9125\n",
       "18                       4875           665              4877\n",
       "19                      26919          5575             34952\n",
       "20                       9319          2146             12809\n",
       "21                        552           225              1021"
      ]
     },
     "execution_count": 51,
     "metadata": {},
     "output_type": "execute_result"
    }
   ],
   "source": [
    "df_loyal_dept_group.head(30)"
   ]
  },
  {
   "cell_type": "code",
   "execution_count": 96,
   "id": "010d0e7d-2c77-475a-9ba7-cfa021168a81",
   "metadata": {
    "tags": []
   },
   "outputs": [
    {
     "data": {
      "image/png": "[encoded data removed]",
      "text/plain": [
       "<Figure size 640x480 with 1 Axes>"
      ]
     },
     "metadata": {},
     "output_type": "display_data"
    }
   ],
   "source": [
    "\n",
    "\n",
    "\n",
    "colors = ['green', 'blue', 'teal']\n",
    "loyal_dept_group_bar = df_loyal_dept_group.plot(kind='bar', stacked=True, color=colors)\n",
    "\n",
    "plt.title('Department Preference by Customer Loyalty')\n",
    "plt.xlabel('Department')\n",
    "plt.ylabel('Order Count')\n",
    "\n",
    "\n",
    "\n",
    "# Set title and labels\n",
    "plt.title('Department Preference by Customer Loyalty')\n",
    "plt.xlabel('Department')\n",
    "plt.ylabel('Order Count')\n",
    "\n",
    "\n",
    "# Set y-axis tick format to integer (no scientific notation)\n",
    "loyal_dept_group_bar.yaxis.set_major_formatter(plt.FuncFormatter(lambda x, loc: \"{:,}\".format(int(x))))\n",
    "\n",
    "plt.tight_layout()\n",
    "plt.show()\n",
    "\n"
   ]
  },
  {
   "cell_type": "markdown",
   "id": "af6c38f1-9abb-4e2f-b7ae-2eb5595a0ee0",
   "metadata": {},
   "source": [
    "department names by column = { 1: 'frozen', 2: 'other', 3: 'bakery', 4: 'produce', 5: 'alcohol', 6: 'international', 7: 'beverages', 8: 'pets', 9: 'dry goods pasta', 10: 'bulk', 11: 'personal care', 12: 'meat seafood', 13: 'pantry', 14: 'breakfast', 15: 'canned goods', 16: 'dairy eggs', 17: 'household', 18: 'babies', 19: 'snacks', 20: 'deli', }"
   ]
  },
  {
   "cell_type": "markdown",
   "id": "4e4cafb6-9641-4824-a9b4-5cd746939d83",
   "metadata": {},
   "source": [
    "From this graph you can clearly see which type of customers order from each department. Cross listing it from teh data dictionary above, it looks like produce, dairy and snacks are the three largest categories of instacarts business, and that the ratios throughout the departments are realitivly the same for the types of customers ordering."
   ]
  },
  {
   "cell_type": "code",
   "execution_count": 53,
   "id": "d68fb3e7-e87a-4aaf-af5f-ea53f9c1e0e7",
   "metadata": {
    "tags": []
   },
   "outputs": [],
   "source": [
    "#Save file to acces\n",
    "loyal_dept_group_bar.figure.savefig(os.path.join(path, 'Instacart Basket Anaylsis', '04 Analysis','Visualizations', 'loyal_dept_group_bar.png'))"
   ]
  },
  {
   "cell_type": "markdown",
   "id": "f85b0ca6-f6f6-42ea-9b38-b81cafd636ce",
   "metadata": {},
   "source": [
    "#Step 7 - Aggregate the max, mean, and min variables on a customer-profile level for usage frequency and expenditure."
   ]
  },
  {
   "cell_type": "code",
   "execution_count": 54,
   "id": "d7d5b68f-b201-4efd-87bb-a3d6470c1c20",
   "metadata": {
    "tags": []
   },
   "outputs": [],
   "source": [
    "aggregate_customer_profile = df_high_activity.groupby('user_id').agg({\n",
    "    'Age': ['max', 'mean', 'min'],\n",
    "    'dependants': ['max', 'mean', 'min']\n",
    "}).reset_index()"
   ]
  },
  {
   "cell_type": "code",
   "execution_count": 55,
   "id": "a176f67e-f7b2-4a44-b22e-da8952262428",
   "metadata": {
    "tags": []
   },
   "outputs": [
    {
     "name": "stdout",
     "output_type": "stream",
     "text": [
      "       user_id Age           dependants         \n",
      "               max  mean min        max mean min\n",
      "0            2  68  68.0  68          3  3.0   3\n",
      "1            3  33  33.0  33          3  3.0   3\n",
      "2            7  39  39.0  39          2  2.0   2\n",
      "3           10  34  34.0  34          2  2.0   2\n",
      "4           12  46  46.0  46          0  0.0   0\n",
      "...        ...  ..   ...  ..        ...  ...  ..\n",
      "122623  206203  81  81.0  81          3  3.0   3\n",
      "122624  206206  25  25.0  25          2  2.0   2\n",
      "122625  206207  76  76.0  76          1  1.0   1\n",
      "122626  206208  64  64.0  64          1  1.0   1\n",
      "122627  206209  74  74.0  74          3  3.0   3\n",
      "\n",
      "[122628 rows x 7 columns]\n"
     ]
    }
   ],
   "source": [
    "print(aggregate_customer_profile)"
   ]
  },
  {
   "cell_type": "markdown",
   "id": "c2e81463-e7d1-4511-90fc-685f6a53d9b5",
   "metadata": {},
   "source": [
    "#8 - Compare your customer profiles with regions and departments"
   ]
  },
  {
   "cell_type": "code",
   "execution_count": 56,
   "id": "ace7c104-08e8-47c5-8479-89486014cd9d",
   "metadata": {
    "tags": []
   },
   "outputs": [],
   "source": [
    "df_dept_by_region = df_high_activity.groupby(['department_id', 'region']).size().unstack()"
   ]
  },
  {
   "cell_type": "code",
   "execution_count": 57,
   "id": "e4284321-58db-45ba-8397-a63b1c76b497",
   "metadata": {
    "tags": []
   },
   "outputs": [
    {
     "name": "stdout",
     "output_type": "stream",
     "text": [
      "region         Midwest  Northeast  South   West\n",
      "department_id                                  \n",
      "1                11867       8753  16927  12941\n",
      "2                  188        162    264    184\n",
      "3                 6390       4935   8907   7125\n",
      "4                52229      38854  74143  56825\n",
      "5                  770        593   1083    792\n",
      "6                 1436       1116   2035   1603\n",
      "7                14623      11630  20773  15918\n",
      "8                  486        412    685    585\n",
      "9                 4567       3485   6444   5089\n",
      "10                 225        137    280    225\n",
      "11                2407       1764   3365   2561\n",
      "12                3759       2713   5492   4093\n",
      "13               10023       7651  14329  11089\n",
      "14                3788       2926   5438   4202\n",
      "15                5866       4158   8154   6169\n",
      "16               29393      22416  42413  32990\n",
      "17                4046       2925   5421   4228\n",
      "18                2430       1849   3563   2575\n",
      "19               15708      12084  22289  17365\n",
      "20                5679       4366   7976   6253\n",
      "21                 411        338    609    440\n"
     ]
    }
   ],
   "source": [
    "print(df_dept_by_region)"
   ]
  },
  {
   "cell_type": "code",
   "execution_count": 58,
   "id": "30a8291f-8498-4596-825c-9cd0434ae272",
   "metadata": {
    "tags": []
   },
   "outputs": [
    {
     "data": {
      "image/png": "[encoded data removed]",
      "text/plain": [
       "<Figure size 640x480 with 1 Axes>"
      ]
     },
     "metadata": {},
     "output_type": "display_data"
    }
   ],
   "source": [
    "# Chart data with 100% Stacked Bar\n",
    "\n",
    "colors = ['aqua', 'green', 'teal', 'blue']\n",
    "dept_by_region_bar = df_dept_by_region.plot(kind='bar', stacked=True, color=colors)\n",
    "plt.title('Department Outcomes by Region')\n",
    "plt.xlabel('Department')\n",
    "plt.ylabel('Order Count')\n",
    "\n",
    "plt.tight_layout()"
   ]
  },
  {
   "cell_type": "markdown",
   "id": "3c36b7c5-52a8-40c7-a571-ecb9bbbab728",
   "metadata": {},
   "source": [
    "department names by column = { 1: 'frozen', 2: 'other', 3: 'bakery', 4: 'produce', 5: 'alcohol', 6: 'international', 7: 'beverages', 8: 'pets', 9: 'dry goods pasta', 10: 'bulk', 11: 'personal care', 12: 'meat seafood', 13: 'pantry', 14: 'breakfast', 15: 'canned goods', 16: 'dairy eggs', 17: 'household', 18: 'babies', 19: 'snacks', 20: 'deli', }"
   ]
  },
  {
   "cell_type": "code",
   "execution_count": 59,
   "id": "65f58a51-3dba-42fe-94c6-571a7651d2ce",
   "metadata": {
    "tags": []
   },
   "outputs": [],
   "source": [
    "#Save file to acces\n",
    "dept_by_region_bar.figure.savefig(os.path.join(path, 'Instacart Basket Anaylsis', '04 Analysis','Visualizations', 'dept_by_region_bar.png'))"
   ]
  },
  {
   "cell_type": "code",
   "execution_count": 60,
   "id": "712226d0-2316-413f-b16d-8ca4775131cc",
   "metadata": {
    "tags": []
   },
   "outputs": [],
   "source": [
    "# Calculate the total sum of each bar\n",
    "totals = df_dept_by_region.sum(axis=1)\n",
    "\n",
    "# Calculate the percentages for each category in each bar\n",
    "percentages = df_dept_by_region.divide(totals, axis=0) * 100\n",
    "\n"
   ]
  },
  {
   "cell_type": "code",
   "execution_count": 61,
   "id": "02e87925-00e4-4ea7-bf8c-5b67fa629a74",
   "metadata": {},
   "outputs": [
    {
     "data": {
      "text/html": [
       "<div>\n",
       "<style scoped>\n",
       "    .dataframe tbody tr th:only-of-type {\n",
       "        vertical-align: middle;\n",
       "    }\n",
       "\n",
       "    .dataframe tbody tr th {\n",
       "        vertical-align: top;\n",
       "    }\n",
       "\n",
       "    .dataframe thead th {\n",
       "        text-align: right;\n",
       "    }\n",
       "</style>\n",
       "<table border=\"1\" class=\"dataframe\">\n",
       "  <thead>\n",
       "    <tr style=\"text-align: right;\">\n",
       "      <th>region</th>\n",
       "      <th>Midwest</th>\n",
       "      <th>Northeast</th>\n",
       "      <th>South</th>\n",
       "      <th>West</th>\n",
       "    </tr>\n",
       "    <tr>\n",
       "      <th>department_id</th>\n",
       "      <th></th>\n",
       "      <th></th>\n",
       "      <th></th>\n",
       "      <th></th>\n",
       "    </tr>\n",
       "  </thead>\n",
       "  <tbody>\n",
       "    <tr>\n",
       "      <th>1</th>\n",
       "      <td>23.504595</td>\n",
       "      <td>17.336793</td>\n",
       "      <td>33.526779</td>\n",
       "      <td>25.631833</td>\n",
       "    </tr>\n",
       "    <tr>\n",
       "      <th>2</th>\n",
       "      <td>23.558897</td>\n",
       "      <td>20.300752</td>\n",
       "      <td>33.082707</td>\n",
       "      <td>23.057644</td>\n",
       "    </tr>\n",
       "    <tr>\n",
       "      <th>3</th>\n",
       "      <td>23.357824</td>\n",
       "      <td>18.039259</td>\n",
       "      <td>32.558395</td>\n",
       "      <td>26.044522</td>\n",
       "    </tr>\n",
       "    <tr>\n",
       "      <th>4</th>\n",
       "      <td>23.521173</td>\n",
       "      <td>17.497782</td>\n",
       "      <td>33.390077</td>\n",
       "      <td>25.590968</td>\n",
       "    </tr>\n",
       "    <tr>\n",
       "      <th>5</th>\n",
       "      <td>23.780111</td>\n",
       "      <td>18.313774</td>\n",
       "      <td>33.446572</td>\n",
       "      <td>24.459543</td>\n",
       "    </tr>\n",
       "    <tr>\n",
       "      <th>6</th>\n",
       "      <td>23.198708</td>\n",
       "      <td>18.029079</td>\n",
       "      <td>32.875606</td>\n",
       "      <td>25.896607</td>\n",
       "    </tr>\n",
       "    <tr>\n",
       "      <th>7</th>\n",
       "      <td>23.231762</td>\n",
       "      <td>18.476741</td>\n",
       "      <td>33.002351</td>\n",
       "      <td>25.289146</td>\n",
       "    </tr>\n",
       "    <tr>\n",
       "      <th>8</th>\n",
       "      <td>22.416974</td>\n",
       "      <td>19.003690</td>\n",
       "      <td>31.595941</td>\n",
       "      <td>26.983395</td>\n",
       "    </tr>\n",
       "    <tr>\n",
       "      <th>9</th>\n",
       "      <td>23.318866</td>\n",
       "      <td>17.794230</td>\n",
       "      <td>32.902732</td>\n",
       "      <td>25.984172</td>\n",
       "    </tr>\n",
       "    <tr>\n",
       "      <th>10</th>\n",
       "      <td>25.951557</td>\n",
       "      <td>15.801615</td>\n",
       "      <td>32.295271</td>\n",
       "      <td>25.951557</td>\n",
       "    </tr>\n",
       "    <tr>\n",
       "      <th>11</th>\n",
       "      <td>23.838764</td>\n",
       "      <td>17.470536</td>\n",
       "      <td>33.326731</td>\n",
       "      <td>25.363969</td>\n",
       "    </tr>\n",
       "    <tr>\n",
       "      <th>12</th>\n",
       "      <td>23.410351</td>\n",
       "      <td>16.896058</td>\n",
       "      <td>34.203151</td>\n",
       "      <td>25.490440</td>\n",
       "    </tr>\n",
       "    <tr>\n",
       "      <th>13</th>\n",
       "      <td>23.259538</td>\n",
       "      <td>17.755036</td>\n",
       "      <td>33.252112</td>\n",
       "      <td>25.733315</td>\n",
       "    </tr>\n",
       "    <tr>\n",
       "      <th>14</th>\n",
       "      <td>23.162529</td>\n",
       "      <td>17.891647</td>\n",
       "      <td>33.251804</td>\n",
       "      <td>25.694020</td>\n",
       "    </tr>\n",
       "    <tr>\n",
       "      <th>15</th>\n",
       "      <td>24.093317</td>\n",
       "      <td>17.078079</td>\n",
       "      <td>33.490779</td>\n",
       "      <td>25.337824</td>\n",
       "    </tr>\n",
       "    <tr>\n",
       "      <th>16</th>\n",
       "      <td>23.105525</td>\n",
       "      <td>17.620979</td>\n",
       "      <td>33.340408</td>\n",
       "      <td>25.933088</td>\n",
       "    </tr>\n",
       "    <tr>\n",
       "      <th>17</th>\n",
       "      <td>24.344164</td>\n",
       "      <td>17.599278</td>\n",
       "      <td>32.617329</td>\n",
       "      <td>25.439230</td>\n",
       "    </tr>\n",
       "    <tr>\n",
       "      <th>18</th>\n",
       "      <td>23.327254</td>\n",
       "      <td>17.749832</td>\n",
       "      <td>34.203705</td>\n",
       "      <td>24.719209</td>\n",
       "    </tr>\n",
       "    <tr>\n",
       "      <th>19</th>\n",
       "      <td>23.289743</td>\n",
       "      <td>17.916555</td>\n",
       "      <td>33.047178</td>\n",
       "      <td>25.746523</td>\n",
       "    </tr>\n",
       "    <tr>\n",
       "      <th>20</th>\n",
       "      <td>23.395402</td>\n",
       "      <td>17.986323</td>\n",
       "      <td>32.858202</td>\n",
       "      <td>25.760073</td>\n",
       "    </tr>\n",
       "    <tr>\n",
       "      <th>21</th>\n",
       "      <td>22.858732</td>\n",
       "      <td>18.798665</td>\n",
       "      <td>33.870968</td>\n",
       "      <td>24.471635</td>\n",
       "    </tr>\n",
       "  </tbody>\n",
       "</table>\n",
       "</div>"
      ],
      "text/plain": [
       "region           Midwest  Northeast      South       West\n",
       "department_id                                            \n",
       "1              23.504595  17.336793  33.526779  25.631833\n",
       "2              23.558897  20.300752  33.082707  23.057644\n",
       "3              23.357824  18.039259  32.558395  26.044522\n",
       "4              23.521173  17.497782  33.390077  25.590968\n",
       "5              23.780111  18.313774  33.446572  24.459543\n",
       "6              23.198708  18.029079  32.875606  25.896607\n",
       "7              23.231762  18.476741  33.002351  25.289146\n",
       "8              22.416974  19.003690  31.595941  26.983395\n",
       "9              23.318866  17.794230  32.902732  25.984172\n",
       "10             25.951557  15.801615  32.295271  25.951557\n",
       "11             23.838764  17.470536  33.326731  25.363969\n",
       "12             23.410351  16.896058  34.203151  25.490440\n",
       "13             23.259538  17.755036  33.252112  25.733315\n",
       "14             23.162529  17.891647  33.251804  25.694020\n",
       "15             24.093317  17.078079  33.490779  25.337824\n",
       "16             23.105525  17.620979  33.340408  25.933088\n",
       "17             24.344164  17.599278  32.617329  25.439230\n",
       "18             23.327254  17.749832  34.203705  24.719209\n",
       "19             23.289743  17.916555  33.047178  25.746523\n",
       "20             23.395402  17.986323  32.858202  25.760073\n",
       "21             22.858732  18.798665  33.870968  24.471635"
      ]
     },
     "execution_count": 61,
     "metadata": {},
     "output_type": "execute_result"
    }
   ],
   "source": [
    "percentages.head(21)"
   ]
  },
  {
   "cell_type": "markdown",
   "id": "8ed23c0c-626b-4cc5-8d1f-54ff81cddd8c",
   "metadata": {},
   "source": [
    "From the chart and graph above, we can see that there is not a major change in what people order on instacart based on region. each region makes up relatively the same amount of sales. Looking at the top 6 catagroies based of sales (1- frozen, 4- produce, 7- beverages, 13-pantry, 16- dairy, and 19- snacks) you see that each category the percentage from each region is within half a percentage point of being the same ratio."
   ]
  },
  {
   "cell_type": "code",
   "execution_count": 62,
   "id": "5b6cc507-595a-4c35-b113-8c50664d11a5",
   "metadata": {
    "tags": []
   },
   "outputs": [
    {
     "data": {
      "text/plain": [
       "Index(['order_id', 'user_id', 'order_number', 'orders_day_of_week',\n",
       "       'order_hour_of_day', 'days_since_prior_order', 'product_id',\n",
       "       'add_to_cart_order', 'reordered', 'product_name', 'aisle_id',\n",
       "       'department_id', 'prices', '_merge_sample', 'price_range_loc',\n",
       "       'busiest_day', 'busiest_days', 'max_order', 'loyalty_flag',\n",
       "       'mean_product_price', 'spending_flag', 'median_days_between_orders',\n",
       "       'order_frequency', 'First Name', 'Last_Name', 'Gender', 'State', 'Age',\n",
       "       'date_joined', 'dependants', 'family_status', 'income', '_merge',\n",
       "       'region', 'customer_activity', 'customer_profile'],\n",
       "      dtype='object')"
      ]
     },
     "execution_count": 62,
     "metadata": {},
     "output_type": "execute_result"
    }
   ],
   "source": [
    "df_high_activity.columns"
   ]
  },
  {
   "cell_type": "code",
   "execution_count": 63,
   "id": "320d4fe8-3777-4216-b683-890e24158af4",
   "metadata": {
    "tags": []
   },
   "outputs": [],
   "source": [
    "# Create a subset to analyze customer ordering habbits.\n",
    "user_order_habits = df_high_activity[['user_id','region','Age','income','product_name','department_id','family_status','loyalty_flag','order_frequency','prices','spending_flag','customer_activity','customer_profile']]"
   ]
  },
  {
   "cell_type": "markdown",
   "id": "d643d6e3-6499-4b7e-9404-9f1c1a3b2aae",
   "metadata": {},
   "source": [
    "#Create graph based on department prefernce, age and income"
   ]
  },
  {
   "cell_type": "code",
   "execution_count": 64,
   "id": "16d3baef-1b10-4595-ad26-43c9fd4ccaa1",
   "metadata": {
    "tags": []
   },
   "outputs": [],
   "source": [
    "df_customer_dept_group = df_high_activity.groupby(['department_id', 'customer_profile']).size().unstack()"
   ]
  },
  {
   "cell_type": "code",
   "execution_count": 65,
   "id": "9a558857-5097-4efc-a039-0c8b4d015c3f",
   "metadata": {
    "tags": []
   },
   "outputs": [
    {
     "data": {
      "text/html": [
       "<div>\n",
       "<style scoped>\n",
       "    .dataframe tbody tr th:only-of-type {\n",
       "        vertical-align: middle;\n",
       "    }\n",
       "\n",
       "    .dataframe tbody tr th {\n",
       "        vertical-align: top;\n",
       "    }\n",
       "\n",
       "    .dataframe thead th {\n",
       "        text-align: right;\n",
       "    }\n",
       "</style>\n",
       "<table border=\"1\" class=\"dataframe\">\n",
       "  <thead>\n",
       "    <tr style=\"text-align: right;\">\n",
       "      <th>customer_profile</th>\n",
       "      <th>high-income middle age</th>\n",
       "      <th>high-income senior group</th>\n",
       "      <th>high-income young adult</th>\n",
       "      <th>low-income middle age</th>\n",
       "      <th>low-income senior group</th>\n",
       "      <th>low-income young adult</th>\n",
       "      <th>mid-income middle age</th>\n",
       "      <th>mid-income senior group</th>\n",
       "      <th>mid-income young adult</th>\n",
       "    </tr>\n",
       "    <tr>\n",
       "      <th>department_id</th>\n",
       "      <th></th>\n",
       "      <th></th>\n",
       "      <th></th>\n",
       "      <th></th>\n",
       "      <th></th>\n",
       "      <th></th>\n",
       "      <th></th>\n",
       "      <th></th>\n",
       "      <th></th>\n",
       "    </tr>\n",
       "  </thead>\n",
       "  <tbody>\n",
       "    <tr>\n",
       "      <th>1</th>\n",
       "      <td>7842</td>\n",
       "      <td>4974</td>\n",
       "      <td>170</td>\n",
       "      <td>4828</td>\n",
       "      <td>1476</td>\n",
       "      <td>5899</td>\n",
       "      <td>12514</td>\n",
       "      <td>6219</td>\n",
       "      <td>6566</td>\n",
       "    </tr>\n",
       "    <tr>\n",
       "      <th>2</th>\n",
       "      <td>125</td>\n",
       "      <td>72</td>\n",
       "      <td>8</td>\n",
       "      <td>63</td>\n",
       "      <td>34</td>\n",
       "      <td>96</td>\n",
       "      <td>209</td>\n",
       "      <td>89</td>\n",
       "      <td>102</td>\n",
       "    </tr>\n",
       "    <tr>\n",
       "      <th>3</th>\n",
       "      <td>4477</td>\n",
       "      <td>2671</td>\n",
       "      <td>100</td>\n",
       "      <td>2523</td>\n",
       "      <td>725</td>\n",
       "      <td>3179</td>\n",
       "      <td>6816</td>\n",
       "      <td>3414</td>\n",
       "      <td>3452</td>\n",
       "    </tr>\n",
       "    <tr>\n",
       "      <th>4</th>\n",
       "      <td>33918</td>\n",
       "      <td>21342</td>\n",
       "      <td>417</td>\n",
       "      <td>20913</td>\n",
       "      <td>6020</td>\n",
       "      <td>25062</td>\n",
       "      <td>56299</td>\n",
       "      <td>28016</td>\n",
       "      <td>30064</td>\n",
       "    </tr>\n",
       "    <tr>\n",
       "      <th>5</th>\n",
       "      <td>599</td>\n",
       "      <td>303</td>\n",
       "      <td>62</td>\n",
       "      <td>340</td>\n",
       "      <td>111</td>\n",
       "      <td>365</td>\n",
       "      <td>724</td>\n",
       "      <td>348</td>\n",
       "      <td>386</td>\n",
       "    </tr>\n",
       "  </tbody>\n",
       "</table>\n",
       "</div>"
      ],
      "text/plain": [
       "customer_profile  high-income middle age  high-income senior group  \\\n",
       "department_id                                                        \n",
       "1                                   7842                      4974   \n",
       "2                                    125                        72   \n",
       "3                                   4477                      2671   \n",
       "4                                  33918                     21342   \n",
       "5                                    599                       303   \n",
       "\n",
       "customer_profile  high-income young adult  low-income middle age  \\\n",
       "department_id                                                      \n",
       "1                                     170                   4828   \n",
       "2                                       8                     63   \n",
       "3                                     100                   2523   \n",
       "4                                     417                  20913   \n",
       "5                                      62                    340   \n",
       "\n",
       "customer_profile  low-income senior group  low-income young adult  \\\n",
       "department_id                                                       \n",
       "1                                    1476                    5899   \n",
       "2                                      34                      96   \n",
       "3                                     725                    3179   \n",
       "4                                    6020                   25062   \n",
       "5                                     111                     365   \n",
       "\n",
       "customer_profile  mid-income middle age  mid-income senior group  \\\n",
       "department_id                                                      \n",
       "1                                 12514                     6219   \n",
       "2                                   209                       89   \n",
       "3                                  6816                     3414   \n",
       "4                                 56299                    28016   \n",
       "5                                   724                      348   \n",
       "\n",
       "customer_profile  mid-income young adult  \n",
       "department_id                             \n",
       "1                                   6566  \n",
       "2                                    102  \n",
       "3                                   3452  \n",
       "4                                  30064  \n",
       "5                                    386  "
      ]
     },
     "execution_count": 65,
     "metadata": {},
     "output_type": "execute_result"
    }
   ],
   "source": [
    "df_customer_dept_group.head()"
   ]
  },
  {
   "cell_type": "code",
   "execution_count": 66,
   "id": "1ef3e7aa-139d-485e-ade9-23ee18174b0c",
   "metadata": {
    "tags": []
   },
   "outputs": [
    {
     "data": {
      "image/png": "[encoded data removed]",
      "text/plain": [
       "<Figure size 640x480 with 1 Axes>"
      ]
     },
     "metadata": {},
     "output_type": "display_data"
    },
    {
     "data": {
      "text/plain": [
       "<Figure size 640x480 with 0 Axes>"
      ]
     },
     "metadata": {},
     "output_type": "display_data"
    }
   ],
   "source": [
    "colors = ['green', 'blue', 'teal', 'red', 'pink', 'orange', 'yellow', 'black', 'purple']\n",
    "customer_dept_group_bar = df_customer_dept_group.plot(kind='bar', stacked=True, color=colors)\n",
    "\n",
    "plt.title('Department Preference by demogrphics')\n",
    "plt.xlabel('Department')\n",
    "plt.ylabel('Order Count')\n",
    "\n",
    "# Set y-axis tick format to integer (no scientific notation)\n",
    "loyal_dept_group_bar.yaxis.set_major_formatter(plt.FuncFormatter(lambda x, loc: \"{:,}\".format(int(x))))\n",
    "\n",
    "plt.tight_layout()\n",
    "plt.show()\n",
    "# Save file to access\n",
    "plt.savefig(os.path.join(path,'Instacart Basket Anaylsis', '04 Analysis','Visualizations', 'department_demographics_stacked_bar'))"
   ]
  },
  {
   "cell_type": "markdown",
   "id": "cc20c99f-b81e-4396-9d43-f881d667602b",
   "metadata": {},
   "source": [
    "department names by column = { 1: 'frozen', 2: 'other', 3: 'bakery', 4: 'produce', 5: 'alcohol', 6: 'international', 7: 'beverages', 8: 'pets', 9: 'dry goods pasta', 10: 'bulk', 11: 'personal care', 12: 'meat seafood', 13: 'pantry', 14: 'breakfast', 15: 'canned goods', 16: 'dairy eggs', 17: 'household', 18: 'babies', 19: 'snacks', 20: 'deli', }"
   ]
  },
  {
   "cell_type": "markdown",
   "id": "5150fe49-fe6a-4ca6-899e-5f3f62b29324",
   "metadata": {},
   "source": [
    "# group lotalty by region"
   ]
  },
  {
   "cell_type": "code",
   "execution_count": 67,
   "id": "ff251e45-0c9b-46a4-9d82-d5c19c1411d6",
   "metadata": {},
   "outputs": [
    {
     "data": {
      "image/png": "[encoded data removed]",
      "text/plain": [
       "<Figure size 640x480 with 1 Axes>"
      ]
     },
     "metadata": {},
     "output_type": "display_data"
    }
   ],
   "source": [
    "\n",
    "\n",
    "# Group loyalty flag by region\n",
    "grouped_counts = user_order_habits.groupby(['region', 'loyalty_flag']).size().unstack()\n",
    "\n",
    "# Plot the bar plot with color coding\n",
    "grouped_counts.plot(kind='bar', color=['blue', 'red', 'orange',])\n",
    "\n",
    "# Add labels and title\n",
    "plt.legend(title=None)\n",
    "plt.xlabel(' ')\n",
    "plt.ylabel('User Count by million')\n",
    "plt.title('Brand Loyalty by Region')\n",
    "plt.xticks(rotation=0)\n",
    "# Save file to access\n",
    "plt.savefig(os.path.join(path,'Instacart Basket Anaylsis', '04 Analysis','Visualizations', 'loyalty_by_region_bar.png'))"
   ]
  },
  {
   "cell_type": "markdown",
   "id": "20a03332-e67b-4009-a4f8-1b5bfbf0bbac",
   "metadata": {},
   "source": [
    "Most popular products"
   ]
  },
  {
   "cell_type": "code",
   "execution_count": 68,
   "id": "5aebc099-63c0-4c6d-b66f-655f8cbdecce",
   "metadata": {
    "tags": []
   },
   "outputs": [
    {
     "data": {
      "text/plain": [
       "Text(0, 0.5, ' ')"
      ]
     },
     "execution_count": 68,
     "metadata": {},
     "output_type": "execute_result"
    },
    {
     "data": {
      "image/png": "[encoded data removed]",
      "text/plain": [
       "<Figure size 640x480 with 1 Axes>"
      ]
     },
     "metadata": {},
     "output_type": "display_data"
    }
   ],
   "source": [
    "#Finding most popular products\n",
    "favor_prod=df_high_activity['product_name'].value_counts(dropna=False).head(10).sort_values(ascending= True).plot.barh(color=['blue'])\n",
    "\n",
    "plt.title('Top 10 Products for Ordering') # Chart title\n",
    "plt.xlabel('Order Count')  # Label for the x-axis\n",
    "plt.ylabel(' ')  # Label for the y-axis"
   ]
  },
  {
   "cell_type": "code",
   "execution_count": null,
   "id": "0e448ceb-d943-4453-9df5-9b94897ff97b",
   "metadata": {},
   "outputs": [],
   "source": []
  },
  {
   "cell_type": "code",
   "execution_count": 97,
   "id": "4dd5d90b-9f84-4fa0-ad22-3fe366a2e569",
   "metadata": {
    "tags": []
   },
   "outputs": [],
   "source": [
    "df_high_activity.to_pickle(os.path.join(path, 'Instacart Basket Anaylsis','02 Data', 'Prepared Data', 'final_high_activity_set.pkl'))"
   ]
  },
  {
   "cell_type": "markdown",
   "id": "6355f138-040b-4547-b324-180e37ac59f2",
   "metadata": {},
   "source": [
    "#10- Export final data set"
   ]
  }
 ],
 "metadata": {
  "kernelspec": {
   "display_name": "Python 3 (ipykernel)",
   "language": "python",
   "name": "python3"
  },
  "language_info": {
   "codemirror_mode": {
    "name": "ipython",
    "version": 3
   },
   "file_extension": ".py",
   "mimetype": "text/x-python",
   "name": "python",
   "nbconvert_exporter": "python",
   "pygments_lexer": "ipython3",
   "version": "3.11.4"
  }
 },
 "nbformat": 4,
 "nbformat_minor": 5
}
